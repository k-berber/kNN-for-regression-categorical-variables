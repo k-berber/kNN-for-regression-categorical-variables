{
 "cells": [
  {
   "cell_type": "markdown",
   "metadata": {},
   "source": [
    "### О задании ###\n",
    "В этом задании вы:\n",
    "\n",
    "* Познакомитесь с методом решения задачи регрессии на основе метода ближайших соседей.\n",
    "* Реализуете алгоритм kNN для задачи регрессии.\n",
    "* Изучите методы работы с категориальными и текстовыми переменными."
   ]
  },
  {
   "cell_type": "code",
   "execution_count": 1,
   "metadata": {},
   "outputs": [],
   "source": [
    "import numpy as np\n",
    "import pandas as pd\n",
    "import sklearn as sklearn\n",
    "import math"
   ]
  },
  {
   "cell_type": "markdown",
   "metadata": {},
   "source": [
    "**Бербер Кирилл, 317 группа**"
   ]
  },
  {
   "cell_type": "code",
   "execution_count": 13,
   "metadata": {
    "scrolled": true
   },
   "outputs": [
    {
     "data": {
      "text/html": [
       "<div>\n",
       "<style scoped>\n",
       "    .dataframe tbody tr th:only-of-type {\n",
       "        vertical-align: middle;\n",
       "    }\n",
       "\n",
       "    .dataframe tbody tr th {\n",
       "        vertical-align: top;\n",
       "    }\n",
       "\n",
       "    .dataframe thead th {\n",
       "        text-align: right;\n",
       "    }\n",
       "</style>\n",
       "<table border=\"1\" class=\"dataframe\">\n",
       "  <thead>\n",
       "    <tr style=\"text-align: right;\">\n",
       "      <th></th>\n",
       "      <th>id</th>\n",
       "      <th>name</th>\n",
       "      <th>host_id</th>\n",
       "      <th>host_name</th>\n",
       "      <th>neighbourhood_group</th>\n",
       "      <th>neighbourhood</th>\n",
       "      <th>latitude</th>\n",
       "      <th>longitude</th>\n",
       "      <th>room_type</th>\n",
       "      <th>price</th>\n",
       "      <th>minimum_nights</th>\n",
       "      <th>number_of_reviews</th>\n",
       "      <th>last_review</th>\n",
       "      <th>reviews_per_month</th>\n",
       "      <th>calculated_host_listings_count</th>\n",
       "      <th>availability_365</th>\n",
       "    </tr>\n",
       "  </thead>\n",
       "  <tbody>\n",
       "    <tr>\n",
       "      <th>0</th>\n",
       "      <td>2539</td>\n",
       "      <td>Clean &amp; quiet apt home by the park</td>\n",
       "      <td>2787</td>\n",
       "      <td>John</td>\n",
       "      <td>Brooklyn</td>\n",
       "      <td>Kensington</td>\n",
       "      <td>40.64749</td>\n",
       "      <td>-73.97237</td>\n",
       "      <td>Private room</td>\n",
       "      <td>149</td>\n",
       "      <td>1</td>\n",
       "      <td>9</td>\n",
       "      <td>2018-10-19</td>\n",
       "      <td>0.21</td>\n",
       "      <td>6</td>\n",
       "      <td>365</td>\n",
       "    </tr>\n",
       "    <tr>\n",
       "      <th>1</th>\n",
       "      <td>2595</td>\n",
       "      <td>Skylit Midtown Castle</td>\n",
       "      <td>2845</td>\n",
       "      <td>Jennifer</td>\n",
       "      <td>Manhattan</td>\n",
       "      <td>Midtown</td>\n",
       "      <td>40.75362</td>\n",
       "      <td>-73.98377</td>\n",
       "      <td>Entire home/apt</td>\n",
       "      <td>225</td>\n",
       "      <td>1</td>\n",
       "      <td>45</td>\n",
       "      <td>2019-05-21</td>\n",
       "      <td>0.38</td>\n",
       "      <td>2</td>\n",
       "      <td>355</td>\n",
       "    </tr>\n",
       "    <tr>\n",
       "      <th>2</th>\n",
       "      <td>3647</td>\n",
       "      <td>THE VILLAGE OF HARLEM....NEW YORK !</td>\n",
       "      <td>4632</td>\n",
       "      <td>Elisabeth</td>\n",
       "      <td>Manhattan</td>\n",
       "      <td>Harlem</td>\n",
       "      <td>40.80902</td>\n",
       "      <td>-73.94190</td>\n",
       "      <td>Private room</td>\n",
       "      <td>150</td>\n",
       "      <td>3</td>\n",
       "      <td>0</td>\n",
       "      <td>NaN</td>\n",
       "      <td>NaN</td>\n",
       "      <td>1</td>\n",
       "      <td>365</td>\n",
       "    </tr>\n",
       "    <tr>\n",
       "      <th>3</th>\n",
       "      <td>3831</td>\n",
       "      <td>Cozy Entire Floor of Brownstone</td>\n",
       "      <td>4869</td>\n",
       "      <td>LisaRoxanne</td>\n",
       "      <td>Brooklyn</td>\n",
       "      <td>Clinton Hill</td>\n",
       "      <td>40.68514</td>\n",
       "      <td>-73.95976</td>\n",
       "      <td>Entire home/apt</td>\n",
       "      <td>89</td>\n",
       "      <td>1</td>\n",
       "      <td>270</td>\n",
       "      <td>2019-07-05</td>\n",
       "      <td>4.64</td>\n",
       "      <td>1</td>\n",
       "      <td>194</td>\n",
       "    </tr>\n",
       "    <tr>\n",
       "      <th>4</th>\n",
       "      <td>5022</td>\n",
       "      <td>Entire Apt: Spacious Studio/Loft by central park</td>\n",
       "      <td>7192</td>\n",
       "      <td>Laura</td>\n",
       "      <td>Manhattan</td>\n",
       "      <td>East Harlem</td>\n",
       "      <td>40.79851</td>\n",
       "      <td>-73.94399</td>\n",
       "      <td>Entire home/apt</td>\n",
       "      <td>80</td>\n",
       "      <td>10</td>\n",
       "      <td>9</td>\n",
       "      <td>2018-11-19</td>\n",
       "      <td>0.10</td>\n",
       "      <td>1</td>\n",
       "      <td>0</td>\n",
       "    </tr>\n",
       "    <tr>\n",
       "      <th>5</th>\n",
       "      <td>5099</td>\n",
       "      <td>Large Cozy 1 BR Apartment In Midtown East</td>\n",
       "      <td>7322</td>\n",
       "      <td>Chris</td>\n",
       "      <td>Manhattan</td>\n",
       "      <td>Murray Hill</td>\n",
       "      <td>40.74767</td>\n",
       "      <td>-73.97500</td>\n",
       "      <td>Entire home/apt</td>\n",
       "      <td>200</td>\n",
       "      <td>3</td>\n",
       "      <td>74</td>\n",
       "      <td>2019-06-22</td>\n",
       "      <td>0.59</td>\n",
       "      <td>1</td>\n",
       "      <td>129</td>\n",
       "    </tr>\n",
       "    <tr>\n",
       "      <th>6</th>\n",
       "      <td>5121</td>\n",
       "      <td>BlissArtsSpace!</td>\n",
       "      <td>7356</td>\n",
       "      <td>Garon</td>\n",
       "      <td>Brooklyn</td>\n",
       "      <td>Bedford-Stuyvesant</td>\n",
       "      <td>40.68688</td>\n",
       "      <td>-73.95596</td>\n",
       "      <td>Private room</td>\n",
       "      <td>60</td>\n",
       "      <td>45</td>\n",
       "      <td>49</td>\n",
       "      <td>2017-10-05</td>\n",
       "      <td>0.40</td>\n",
       "      <td>1</td>\n",
       "      <td>0</td>\n",
       "    </tr>\n",
       "    <tr>\n",
       "      <th>7</th>\n",
       "      <td>5178</td>\n",
       "      <td>Large Furnished Room Near B'way</td>\n",
       "      <td>8967</td>\n",
       "      <td>Shunichi</td>\n",
       "      <td>Manhattan</td>\n",
       "      <td>Hell's Kitchen</td>\n",
       "      <td>40.76489</td>\n",
       "      <td>-73.98493</td>\n",
       "      <td>Private room</td>\n",
       "      <td>79</td>\n",
       "      <td>2</td>\n",
       "      <td>430</td>\n",
       "      <td>2019-06-24</td>\n",
       "      <td>3.47</td>\n",
       "      <td>1</td>\n",
       "      <td>220</td>\n",
       "    </tr>\n",
       "    <tr>\n",
       "      <th>8</th>\n",
       "      <td>5203</td>\n",
       "      <td>Cozy Clean Guest Room - Family Apt</td>\n",
       "      <td>7490</td>\n",
       "      <td>MaryEllen</td>\n",
       "      <td>Manhattan</td>\n",
       "      <td>Upper West Side</td>\n",
       "      <td>40.80178</td>\n",
       "      <td>-73.96723</td>\n",
       "      <td>Private room</td>\n",
       "      <td>79</td>\n",
       "      <td>2</td>\n",
       "      <td>118</td>\n",
       "      <td>2017-07-21</td>\n",
       "      <td>0.99</td>\n",
       "      <td>1</td>\n",
       "      <td>0</td>\n",
       "    </tr>\n",
       "    <tr>\n",
       "      <th>9</th>\n",
       "      <td>5238</td>\n",
       "      <td>Cute &amp; Cozy Lower East Side 1 bdrm</td>\n",
       "      <td>7549</td>\n",
       "      <td>Ben</td>\n",
       "      <td>Manhattan</td>\n",
       "      <td>Chinatown</td>\n",
       "      <td>40.71344</td>\n",
       "      <td>-73.99037</td>\n",
       "      <td>Entire home/apt</td>\n",
       "      <td>150</td>\n",
       "      <td>1</td>\n",
       "      <td>160</td>\n",
       "      <td>2019-06-09</td>\n",
       "      <td>1.33</td>\n",
       "      <td>4</td>\n",
       "      <td>188</td>\n",
       "    </tr>\n",
       "  </tbody>\n",
       "</table>\n",
       "</div>"
      ],
      "text/plain": [
       "     id                                              name  host_id  \\\n",
       "0  2539                Clean & quiet apt home by the park     2787   \n",
       "1  2595                             Skylit Midtown Castle     2845   \n",
       "2  3647               THE VILLAGE OF HARLEM....NEW YORK !     4632   \n",
       "3  3831                   Cozy Entire Floor of Brownstone     4869   \n",
       "4  5022  Entire Apt: Spacious Studio/Loft by central park     7192   \n",
       "5  5099         Large Cozy 1 BR Apartment In Midtown East     7322   \n",
       "6  5121                                   BlissArtsSpace!     7356   \n",
       "7  5178                  Large Furnished Room Near B'way      8967   \n",
       "8  5203                Cozy Clean Guest Room - Family Apt     7490   \n",
       "9  5238                Cute & Cozy Lower East Side 1 bdrm     7549   \n",
       "\n",
       "     host_name neighbourhood_group       neighbourhood  latitude  longitude  \\\n",
       "0         John            Brooklyn          Kensington  40.64749  -73.97237   \n",
       "1     Jennifer           Manhattan             Midtown  40.75362  -73.98377   \n",
       "2    Elisabeth           Manhattan              Harlem  40.80902  -73.94190   \n",
       "3  LisaRoxanne            Brooklyn        Clinton Hill  40.68514  -73.95976   \n",
       "4        Laura           Manhattan         East Harlem  40.79851  -73.94399   \n",
       "5        Chris           Manhattan         Murray Hill  40.74767  -73.97500   \n",
       "6        Garon            Brooklyn  Bedford-Stuyvesant  40.68688  -73.95596   \n",
       "7     Shunichi           Manhattan      Hell's Kitchen  40.76489  -73.98493   \n",
       "8    MaryEllen           Manhattan     Upper West Side  40.80178  -73.96723   \n",
       "9          Ben           Manhattan           Chinatown  40.71344  -73.99037   \n",
       "\n",
       "         room_type  price  minimum_nights  number_of_reviews last_review  \\\n",
       "0     Private room    149               1                  9  2018-10-19   \n",
       "1  Entire home/apt    225               1                 45  2019-05-21   \n",
       "2     Private room    150               3                  0         NaN   \n",
       "3  Entire home/apt     89               1                270  2019-07-05   \n",
       "4  Entire home/apt     80              10                  9  2018-11-19   \n",
       "5  Entire home/apt    200               3                 74  2019-06-22   \n",
       "6     Private room     60              45                 49  2017-10-05   \n",
       "7     Private room     79               2                430  2019-06-24   \n",
       "8     Private room     79               2                118  2017-07-21   \n",
       "9  Entire home/apt    150               1                160  2019-06-09   \n",
       "\n",
       "   reviews_per_month  calculated_host_listings_count  availability_365  \n",
       "0               0.21                               6               365  \n",
       "1               0.38                               2               355  \n",
       "2                NaN                               1               365  \n",
       "3               4.64                               1               194  \n",
       "4               0.10                               1                 0  \n",
       "5               0.59                               1               129  \n",
       "6               0.40                               1                 0  \n",
       "7               3.47                               1               220  \n",
       "8               0.99                               1                 0  \n",
       "9               1.33                               4               188  "
      ]
     },
     "execution_count": 13,
     "metadata": {},
     "output_type": "execute_result"
    }
   ],
   "source": [
    "data = pd.read_csv('AB_NYC_2019.csv')\n",
    "data.head(10)"
   ]
  },
  {
   "cell_type": "code",
   "execution_count": 14,
   "metadata": {},
   "outputs": [
    {
     "data": {
      "text/plain": [
       "(48895, 16)"
      ]
     },
     "execution_count": 14,
     "metadata": {},
     "output_type": "execute_result"
    }
   ],
   "source": [
    "data.shape"
   ]
  },
  {
   "cell_type": "code",
   "execution_count": 15,
   "metadata": {},
   "outputs": [
    {
     "name": "stdout",
     "output_type": "stream",
     "text": [
      "id 48895\n",
      "name 47906\n",
      "host_id 37457\n",
      "host_name 11453\n",
      "neighbourhood_group 5\n",
      "neighbourhood 221\n",
      "latitude 19048\n",
      "longitude 14718\n",
      "room_type 3\n",
      "price 674\n",
      "minimum_nights 109\n",
      "number_of_reviews 394\n",
      "last_review 1765\n",
      "reviews_per_month 938\n",
      "calculated_host_listings_count 47\n",
      "availability_365 366\n"
     ]
    }
   ],
   "source": [
    "# число значений у признаков\n",
    "for col_name in data.columns:\n",
    "    print(col_name, len(data[col_name].unique()))"
   ]
  },
  {
   "cell_type": "code",
   "execution_count": 16,
   "metadata": {
    "scrolled": true
   },
   "outputs": [
    {
     "data": {
      "text/plain": [
       "id                                    0\n",
       "name                                 16\n",
       "host_id                               0\n",
       "host_name                            21\n",
       "neighbourhood_group                   0\n",
       "neighbourhood                         0\n",
       "latitude                              0\n",
       "longitude                             0\n",
       "room_type                             0\n",
       "price                                 0\n",
       "minimum_nights                        0\n",
       "number_of_reviews                     0\n",
       "last_review                       10052\n",
       "reviews_per_month                 10052\n",
       "calculated_host_listings_count        0\n",
       "availability_365                      0\n",
       "dtype: int64"
      ]
     },
     "execution_count": 16,
     "metadata": {},
     "output_type": "execute_result"
    }
   ],
   "source": [
    "data.isna().sum()"
   ]
  },
  {
   "cell_type": "code",
   "execution_count": 17,
   "metadata": {},
   "outputs": [],
   "source": [
    "data['name'].fillna('Name',inplace = True)"
   ]
  },
  {
   "cell_type": "code",
   "execution_count": 18,
   "metadata": {},
   "outputs": [],
   "source": [
    "data['host_name'].fillna('host_name', inplace = True)"
   ]
  },
  {
   "cell_type": "code",
   "execution_count": 19,
   "metadata": {
    "scrolled": true
   },
   "outputs": [],
   "source": [
    "data['reviews_per_month'].fillna(0,inplace = True)"
   ]
  },
  {
   "cell_type": "code",
   "execution_count": 20,
   "metadata": {},
   "outputs": [],
   "source": [
    "data['last_review'].fillna(pd.to_datetime(\"2018-10-19\"),inplace = True)"
   ]
  },
  {
   "cell_type": "code",
   "execution_count": 21,
   "metadata": {},
   "outputs": [
    {
     "data": {
      "text/html": [
       "<div>\n",
       "<style scoped>\n",
       "    .dataframe tbody tr th:only-of-type {\n",
       "        vertical-align: middle;\n",
       "    }\n",
       "\n",
       "    .dataframe tbody tr th {\n",
       "        vertical-align: top;\n",
       "    }\n",
       "\n",
       "    .dataframe thead th {\n",
       "        text-align: right;\n",
       "    }\n",
       "</style>\n",
       "<table border=\"1\" class=\"dataframe\">\n",
       "  <thead>\n",
       "    <tr style=\"text-align: right;\">\n",
       "      <th></th>\n",
       "      <th>id</th>\n",
       "      <th>name</th>\n",
       "      <th>host_id</th>\n",
       "      <th>host_name</th>\n",
       "      <th>neighbourhood_group</th>\n",
       "      <th>neighbourhood</th>\n",
       "      <th>latitude</th>\n",
       "      <th>longitude</th>\n",
       "      <th>room_type</th>\n",
       "      <th>price</th>\n",
       "      <th>minimum_nights</th>\n",
       "      <th>number_of_reviews</th>\n",
       "      <th>last_review</th>\n",
       "      <th>reviews_per_month</th>\n",
       "      <th>calculated_host_listings_count</th>\n",
       "      <th>availability_365</th>\n",
       "    </tr>\n",
       "  </thead>\n",
       "  <tbody>\n",
       "    <tr>\n",
       "      <th>0</th>\n",
       "      <td>2539</td>\n",
       "      <td>Clean &amp; quiet apt home by the park</td>\n",
       "      <td>2787</td>\n",
       "      <td>John</td>\n",
       "      <td>Brooklyn</td>\n",
       "      <td>Kensington</td>\n",
       "      <td>40.64749</td>\n",
       "      <td>-73.97237</td>\n",
       "      <td>Private room</td>\n",
       "      <td>149</td>\n",
       "      <td>1</td>\n",
       "      <td>9</td>\n",
       "      <td>2018-10-19</td>\n",
       "      <td>0.21</td>\n",
       "      <td>6</td>\n",
       "      <td>365</td>\n",
       "    </tr>\n",
       "    <tr>\n",
       "      <th>1</th>\n",
       "      <td>2595</td>\n",
       "      <td>Skylit Midtown Castle</td>\n",
       "      <td>2845</td>\n",
       "      <td>Jennifer</td>\n",
       "      <td>Manhattan</td>\n",
       "      <td>Midtown</td>\n",
       "      <td>40.75362</td>\n",
       "      <td>-73.98377</td>\n",
       "      <td>Entire home/apt</td>\n",
       "      <td>225</td>\n",
       "      <td>1</td>\n",
       "      <td>45</td>\n",
       "      <td>2019-05-21</td>\n",
       "      <td>0.38</td>\n",
       "      <td>2</td>\n",
       "      <td>355</td>\n",
       "    </tr>\n",
       "    <tr>\n",
       "      <th>2</th>\n",
       "      <td>3647</td>\n",
       "      <td>THE VILLAGE OF HARLEM....NEW YORK !</td>\n",
       "      <td>4632</td>\n",
       "      <td>Elisabeth</td>\n",
       "      <td>Manhattan</td>\n",
       "      <td>Harlem</td>\n",
       "      <td>40.80902</td>\n",
       "      <td>-73.94190</td>\n",
       "      <td>Private room</td>\n",
       "      <td>150</td>\n",
       "      <td>3</td>\n",
       "      <td>0</td>\n",
       "      <td>2018-10-19 00:00:00</td>\n",
       "      <td>0.00</td>\n",
       "      <td>1</td>\n",
       "      <td>365</td>\n",
       "    </tr>\n",
       "    <tr>\n",
       "      <th>3</th>\n",
       "      <td>3831</td>\n",
       "      <td>Cozy Entire Floor of Brownstone</td>\n",
       "      <td>4869</td>\n",
       "      <td>LisaRoxanne</td>\n",
       "      <td>Brooklyn</td>\n",
       "      <td>Clinton Hill</td>\n",
       "      <td>40.68514</td>\n",
       "      <td>-73.95976</td>\n",
       "      <td>Entire home/apt</td>\n",
       "      <td>89</td>\n",
       "      <td>1</td>\n",
       "      <td>270</td>\n",
       "      <td>2019-07-05</td>\n",
       "      <td>4.64</td>\n",
       "      <td>1</td>\n",
       "      <td>194</td>\n",
       "    </tr>\n",
       "    <tr>\n",
       "      <th>4</th>\n",
       "      <td>5022</td>\n",
       "      <td>Entire Apt: Spacious Studio/Loft by central park</td>\n",
       "      <td>7192</td>\n",
       "      <td>Laura</td>\n",
       "      <td>Manhattan</td>\n",
       "      <td>East Harlem</td>\n",
       "      <td>40.79851</td>\n",
       "      <td>-73.94399</td>\n",
       "      <td>Entire home/apt</td>\n",
       "      <td>80</td>\n",
       "      <td>10</td>\n",
       "      <td>9</td>\n",
       "      <td>2018-11-19</td>\n",
       "      <td>0.10</td>\n",
       "      <td>1</td>\n",
       "      <td>0</td>\n",
       "    </tr>\n",
       "    <tr>\n",
       "      <th>...</th>\n",
       "      <td>...</td>\n",
       "      <td>...</td>\n",
       "      <td>...</td>\n",
       "      <td>...</td>\n",
       "      <td>...</td>\n",
       "      <td>...</td>\n",
       "      <td>...</td>\n",
       "      <td>...</td>\n",
       "      <td>...</td>\n",
       "      <td>...</td>\n",
       "      <td>...</td>\n",
       "      <td>...</td>\n",
       "      <td>...</td>\n",
       "      <td>...</td>\n",
       "      <td>...</td>\n",
       "      <td>...</td>\n",
       "    </tr>\n",
       "    <tr>\n",
       "      <th>48890</th>\n",
       "      <td>36484665</td>\n",
       "      <td>Charming one bedroom - newly renovated rowhouse</td>\n",
       "      <td>8232441</td>\n",
       "      <td>Sabrina</td>\n",
       "      <td>Brooklyn</td>\n",
       "      <td>Bedford-Stuyvesant</td>\n",
       "      <td>40.67853</td>\n",
       "      <td>-73.94995</td>\n",
       "      <td>Private room</td>\n",
       "      <td>70</td>\n",
       "      <td>2</td>\n",
       "      <td>0</td>\n",
       "      <td>2018-10-19 00:00:00</td>\n",
       "      <td>0.00</td>\n",
       "      <td>2</td>\n",
       "      <td>9</td>\n",
       "    </tr>\n",
       "    <tr>\n",
       "      <th>48891</th>\n",
       "      <td>36485057</td>\n",
       "      <td>Affordable room in Bushwick/East Williamsburg</td>\n",
       "      <td>6570630</td>\n",
       "      <td>Marisol</td>\n",
       "      <td>Brooklyn</td>\n",
       "      <td>Bushwick</td>\n",
       "      <td>40.70184</td>\n",
       "      <td>-73.93317</td>\n",
       "      <td>Private room</td>\n",
       "      <td>40</td>\n",
       "      <td>4</td>\n",
       "      <td>0</td>\n",
       "      <td>2018-10-19 00:00:00</td>\n",
       "      <td>0.00</td>\n",
       "      <td>2</td>\n",
       "      <td>36</td>\n",
       "    </tr>\n",
       "    <tr>\n",
       "      <th>48892</th>\n",
       "      <td>36485431</td>\n",
       "      <td>Sunny Studio at Historical Neighborhood</td>\n",
       "      <td>23492952</td>\n",
       "      <td>Ilgar &amp; Aysel</td>\n",
       "      <td>Manhattan</td>\n",
       "      <td>Harlem</td>\n",
       "      <td>40.81475</td>\n",
       "      <td>-73.94867</td>\n",
       "      <td>Entire home/apt</td>\n",
       "      <td>115</td>\n",
       "      <td>10</td>\n",
       "      <td>0</td>\n",
       "      <td>2018-10-19 00:00:00</td>\n",
       "      <td>0.00</td>\n",
       "      <td>1</td>\n",
       "      <td>27</td>\n",
       "    </tr>\n",
       "    <tr>\n",
       "      <th>48893</th>\n",
       "      <td>36485609</td>\n",
       "      <td>43rd St. Time Square-cozy single bed</td>\n",
       "      <td>30985759</td>\n",
       "      <td>Taz</td>\n",
       "      <td>Manhattan</td>\n",
       "      <td>Hell's Kitchen</td>\n",
       "      <td>40.75751</td>\n",
       "      <td>-73.99112</td>\n",
       "      <td>Shared room</td>\n",
       "      <td>55</td>\n",
       "      <td>1</td>\n",
       "      <td>0</td>\n",
       "      <td>2018-10-19 00:00:00</td>\n",
       "      <td>0.00</td>\n",
       "      <td>6</td>\n",
       "      <td>2</td>\n",
       "    </tr>\n",
       "    <tr>\n",
       "      <th>48894</th>\n",
       "      <td>36487245</td>\n",
       "      <td>Trendy duplex in the very heart of Hell's Kitchen</td>\n",
       "      <td>68119814</td>\n",
       "      <td>Christophe</td>\n",
       "      <td>Manhattan</td>\n",
       "      <td>Hell's Kitchen</td>\n",
       "      <td>40.76404</td>\n",
       "      <td>-73.98933</td>\n",
       "      <td>Private room</td>\n",
       "      <td>90</td>\n",
       "      <td>7</td>\n",
       "      <td>0</td>\n",
       "      <td>2018-10-19 00:00:00</td>\n",
       "      <td>0.00</td>\n",
       "      <td>1</td>\n",
       "      <td>23</td>\n",
       "    </tr>\n",
       "  </tbody>\n",
       "</table>\n",
       "<p>48895 rows × 16 columns</p>\n",
       "</div>"
      ],
      "text/plain": [
       "             id                                               name   host_id  \\\n",
       "0          2539                 Clean & quiet apt home by the park      2787   \n",
       "1          2595                              Skylit Midtown Castle      2845   \n",
       "2          3647                THE VILLAGE OF HARLEM....NEW YORK !      4632   \n",
       "3          3831                    Cozy Entire Floor of Brownstone      4869   \n",
       "4          5022   Entire Apt: Spacious Studio/Loft by central park      7192   \n",
       "...         ...                                                ...       ...   \n",
       "48890  36484665    Charming one bedroom - newly renovated rowhouse   8232441   \n",
       "48891  36485057      Affordable room in Bushwick/East Williamsburg   6570630   \n",
       "48892  36485431            Sunny Studio at Historical Neighborhood  23492952   \n",
       "48893  36485609               43rd St. Time Square-cozy single bed  30985759   \n",
       "48894  36487245  Trendy duplex in the very heart of Hell's Kitchen  68119814   \n",
       "\n",
       "           host_name neighbourhood_group       neighbourhood  latitude  \\\n",
       "0               John            Brooklyn          Kensington  40.64749   \n",
       "1           Jennifer           Manhattan             Midtown  40.75362   \n",
       "2          Elisabeth           Manhattan              Harlem  40.80902   \n",
       "3        LisaRoxanne            Brooklyn        Clinton Hill  40.68514   \n",
       "4              Laura           Manhattan         East Harlem  40.79851   \n",
       "...              ...                 ...                 ...       ...   \n",
       "48890        Sabrina            Brooklyn  Bedford-Stuyvesant  40.67853   \n",
       "48891        Marisol            Brooklyn            Bushwick  40.70184   \n",
       "48892  Ilgar & Aysel           Manhattan              Harlem  40.81475   \n",
       "48893            Taz           Manhattan      Hell's Kitchen  40.75751   \n",
       "48894     Christophe           Manhattan      Hell's Kitchen  40.76404   \n",
       "\n",
       "       longitude        room_type  price  minimum_nights  number_of_reviews  \\\n",
       "0      -73.97237     Private room    149               1                  9   \n",
       "1      -73.98377  Entire home/apt    225               1                 45   \n",
       "2      -73.94190     Private room    150               3                  0   \n",
       "3      -73.95976  Entire home/apt     89               1                270   \n",
       "4      -73.94399  Entire home/apt     80              10                  9   \n",
       "...          ...              ...    ...             ...                ...   \n",
       "48890  -73.94995     Private room     70               2                  0   \n",
       "48891  -73.93317     Private room     40               4                  0   \n",
       "48892  -73.94867  Entire home/apt    115              10                  0   \n",
       "48893  -73.99112      Shared room     55               1                  0   \n",
       "48894  -73.98933     Private room     90               7                  0   \n",
       "\n",
       "               last_review  reviews_per_month  calculated_host_listings_count  \\\n",
       "0               2018-10-19               0.21                               6   \n",
       "1               2019-05-21               0.38                               2   \n",
       "2      2018-10-19 00:00:00               0.00                               1   \n",
       "3               2019-07-05               4.64                               1   \n",
       "4               2018-11-19               0.10                               1   \n",
       "...                    ...                ...                             ...   \n",
       "48890  2018-10-19 00:00:00               0.00                               2   \n",
       "48891  2018-10-19 00:00:00               0.00                               2   \n",
       "48892  2018-10-19 00:00:00               0.00                               1   \n",
       "48893  2018-10-19 00:00:00               0.00                               6   \n",
       "48894  2018-10-19 00:00:00               0.00                               1   \n",
       "\n",
       "       availability_365  \n",
       "0                   365  \n",
       "1                   355  \n",
       "2                   365  \n",
       "3                   194  \n",
       "4                     0  \n",
       "...                 ...  \n",
       "48890                 9  \n",
       "48891                36  \n",
       "48892                27  \n",
       "48893                 2  \n",
       "48894                23  \n",
       "\n",
       "[48895 rows x 16 columns]"
      ]
     },
     "execution_count": 21,
     "metadata": {},
     "output_type": "execute_result"
    }
   ],
   "source": [
    "data"
   ]
  },
  {
   "cell_type": "code",
   "execution_count": 22,
   "metadata": {},
   "outputs": [
    {
     "data": {
      "text/plain": [
       "id                                0\n",
       "name                              0\n",
       "host_id                           0\n",
       "host_name                         0\n",
       "neighbourhood_group               0\n",
       "neighbourhood                     0\n",
       "latitude                          0\n",
       "longitude                         0\n",
       "room_type                         0\n",
       "price                             0\n",
       "minimum_nights                    0\n",
       "number_of_reviews                 0\n",
       "last_review                       0\n",
       "reviews_per_month                 0\n",
       "calculated_host_listings_count    0\n",
       "availability_365                  0\n",
       "dtype: int64"
      ]
     },
     "execution_count": 22,
     "metadata": {},
     "output_type": "execute_result"
    }
   ],
   "source": [
    "data.isna().sum()"
   ]
  },
  {
   "cell_type": "code",
   "execution_count": 23,
   "metadata": {},
   "outputs": [
    {
     "data": {
      "text/plain": [
       "11"
      ]
     },
     "execution_count": 23,
     "metadata": {},
     "output_type": "execute_result"
    }
   ],
   "source": [
    "len(data[data['price'] == 0])"
   ]
  },
  {
   "cell_type": "markdown",
   "metadata": {},
   "source": [
    "удалили строки, в которых цена за съем равна 0 (явно ошибка)"
   ]
  },
  {
   "cell_type": "code",
   "execution_count": 24,
   "metadata": {},
   "outputs": [
    {
     "data": {
      "text/plain": [
       "11"
      ]
     },
     "execution_count": 24,
     "metadata": {},
     "output_type": "execute_result"
    }
   ],
   "source": [
    "len(data[data['price'] == 0])"
   ]
  },
  {
   "cell_type": "code",
   "execution_count": 25,
   "metadata": {
    "scrolled": true
   },
   "outputs": [
    {
     "data": {
      "text/html": [
       "<style  type=\"text/css\" >\n",
       "    #T_3d14d1d7_16c1_11eb_ba9c_7470fdb48d8arow0_col0 {\n",
       "            background-color:  #b40426;\n",
       "            color:  #f1f1f1;\n",
       "        }    #T_3d14d1d7_16c1_11eb_ba9c_7470fdb48d8arow0_col1 {\n",
       "            background-color:  #f5c0a7;\n",
       "            color:  #000000;\n",
       "        }    #T_3d14d1d7_16c1_11eb_ba9c_7470fdb48d8arow0_col2 {\n",
       "            background-color:  #3e51c5;\n",
       "            color:  #f1f1f1;\n",
       "        }    #T_3d14d1d7_16c1_11eb_ba9c_7470fdb48d8arow0_col3 {\n",
       "            background-color:  #7ea1fa;\n",
       "            color:  #000000;\n",
       "        }    #T_3d14d1d7_16c1_11eb_ba9c_7470fdb48d8arow0_col4 {\n",
       "            background-color:  #6687ed;\n",
       "            color:  #000000;\n",
       "        }    #T_3d14d1d7_16c1_11eb_ba9c_7470fdb48d8arow0_col5 {\n",
       "            background-color:  #5977e3;\n",
       "            color:  #000000;\n",
       "        }    #T_3d14d1d7_16c1_11eb_ba9c_7470fdb48d8arow0_col6 {\n",
       "            background-color:  #3b4cc0;\n",
       "            color:  #f1f1f1;\n",
       "        }    #T_3d14d1d7_16c1_11eb_ba9c_7470fdb48d8arow0_col7 {\n",
       "            background-color:  #94b6ff;\n",
       "            color:  #000000;\n",
       "        }    #T_3d14d1d7_16c1_11eb_ba9c_7470fdb48d8arow0_col8 {\n",
       "            background-color:  #82a6fb;\n",
       "            color:  #000000;\n",
       "        }    #T_3d14d1d7_16c1_11eb_ba9c_7470fdb48d8arow0_col9 {\n",
       "            background-color:  #5875e1;\n",
       "            color:  #000000;\n",
       "        }    #T_3d14d1d7_16c1_11eb_ba9c_7470fdb48d8arow1_col0 {\n",
       "            background-color:  #f7b093;\n",
       "            color:  #000000;\n",
       "        }    #T_3d14d1d7_16c1_11eb_ba9c_7470fdb48d8arow1_col1 {\n",
       "            background-color:  #b40426;\n",
       "            color:  #f1f1f1;\n",
       "        }    #T_3d14d1d7_16c1_11eb_ba9c_7470fdb48d8arow1_col2 {\n",
       "            background-color:  #455cce;\n",
       "            color:  #f1f1f1;\n",
       "        }    #T_3d14d1d7_16c1_11eb_ba9c_7470fdb48d8arow1_col3 {\n",
       "            background-color:  #89acfd;\n",
       "            color:  #000000;\n",
       "        }    #T_3d14d1d7_16c1_11eb_ba9c_7470fdb48d8arow1_col4 {\n",
       "            background-color:  #6788ee;\n",
       "            color:  #000000;\n",
       "        }    #T_3d14d1d7_16c1_11eb_ba9c_7470fdb48d8arow1_col5 {\n",
       "            background-color:  #5875e1;\n",
       "            color:  #000000;\n",
       "        }    #T_3d14d1d7_16c1_11eb_ba9c_7470fdb48d8arow1_col6 {\n",
       "            background-color:  #6485ec;\n",
       "            color:  #000000;\n",
       "        }    #T_3d14d1d7_16c1_11eb_ba9c_7470fdb48d8arow1_col7 {\n",
       "            background-color:  #9ebeff;\n",
       "            color:  #000000;\n",
       "        }    #T_3d14d1d7_16c1_11eb_ba9c_7470fdb48d8arow1_col8 {\n",
       "            background-color:  #89acfd;\n",
       "            color:  #000000;\n",
       "        }    #T_3d14d1d7_16c1_11eb_ba9c_7470fdb48d8arow1_col9 {\n",
       "            background-color:  #80a3fa;\n",
       "            color:  #000000;\n",
       "        }    #T_3d14d1d7_16c1_11eb_ba9c_7470fdb48d8arow2_col0 {\n",
       "            background-color:  #89acfd;\n",
       "            color:  #000000;\n",
       "        }    #T_3d14d1d7_16c1_11eb_ba9c_7470fdb48d8arow2_col1 {\n",
       "            background-color:  #6788ee;\n",
       "            color:  #000000;\n",
       "        }    #T_3d14d1d7_16c1_11eb_ba9c_7470fdb48d8arow2_col2 {\n",
       "            background-color:  #b40426;\n",
       "            color:  #f1f1f1;\n",
       "        }    #T_3d14d1d7_16c1_11eb_ba9c_7470fdb48d8arow2_col3 {\n",
       "            background-color:  #7da0f9;\n",
       "            color:  #000000;\n",
       "        }    #T_3d14d1d7_16c1_11eb_ba9c_7470fdb48d8arow2_col4 {\n",
       "            background-color:  #6c8ff1;\n",
       "            color:  #000000;\n",
       "        }    #T_3d14d1d7_16c1_11eb_ba9c_7470fdb48d8arow2_col5 {\n",
       "            background-color:  #6485ec;\n",
       "            color:  #000000;\n",
       "        }    #T_3d14d1d7_16c1_11eb_ba9c_7470fdb48d8arow2_col6 {\n",
       "            background-color:  #86a9fc;\n",
       "            color:  #000000;\n",
       "        }    #T_3d14d1d7_16c1_11eb_ba9c_7470fdb48d8arow2_col7 {\n",
       "            background-color:  #5875e1;\n",
       "            color:  #000000;\n",
       "        }    #T_3d14d1d7_16c1_11eb_ba9c_7470fdb48d8arow2_col8 {\n",
       "            background-color:  #5f7fe8;\n",
       "            color:  #000000;\n",
       "        }    #T_3d14d1d7_16c1_11eb_ba9c_7470fdb48d8arow2_col9 {\n",
       "            background-color:  #3b4cc0;\n",
       "            color:  #f1f1f1;\n",
       "        }    #T_3d14d1d7_16c1_11eb_ba9c_7470fdb48d8arow3_col0 {\n",
       "            background-color:  #a2c1ff;\n",
       "            color:  #000000;\n",
       "        }    #T_3d14d1d7_16c1_11eb_ba9c_7470fdb48d8arow3_col1 {\n",
       "            background-color:  #86a9fc;\n",
       "            color:  #000000;\n",
       "        }    #T_3d14d1d7_16c1_11eb_ba9c_7470fdb48d8arow3_col2 {\n",
       "            background-color:  #5a78e4;\n",
       "            color:  #000000;\n",
       "        }    #T_3d14d1d7_16c1_11eb_ba9c_7470fdb48d8arow3_col3 {\n",
       "            background-color:  #b40426;\n",
       "            color:  #f1f1f1;\n",
       "        }    #T_3d14d1d7_16c1_11eb_ba9c_7470fdb48d8arow3_col4 {\n",
       "            background-color:  #3b4cc0;\n",
       "            color:  #f1f1f1;\n",
       "        }    #T_3d14d1d7_16c1_11eb_ba9c_7470fdb48d8arow3_col5 {\n",
       "            background-color:  #4b64d5;\n",
       "            color:  #f1f1f1;\n",
       "        }    #T_3d14d1d7_16c1_11eb_ba9c_7470fdb48d8arow3_col6 {\n",
       "            background-color:  #9abbff;\n",
       "            color:  #000000;\n",
       "        }    #T_3d14d1d7_16c1_11eb_ba9c_7470fdb48d8arow3_col7 {\n",
       "            background-color:  #86a9fc;\n",
       "            color:  #000000;\n",
       "        }    #T_3d14d1d7_16c1_11eb_ba9c_7470fdb48d8arow3_col8 {\n",
       "            background-color:  #3b4cc0;\n",
       "            color:  #f1f1f1;\n",
       "        }    #T_3d14d1d7_16c1_11eb_ba9c_7470fdb48d8arow3_col9 {\n",
       "            background-color:  #5673e0;\n",
       "            color:  #000000;\n",
       "        }    #T_3d14d1d7_16c1_11eb_ba9c_7470fdb48d8arow4_col0 {\n",
       "            background-color:  #8db0fe;\n",
       "            color:  #000000;\n",
       "        }    #T_3d14d1d7_16c1_11eb_ba9c_7470fdb48d8arow4_col1 {\n",
       "            background-color:  #6485ec;\n",
       "            color:  #000000;\n",
       "        }    #T_3d14d1d7_16c1_11eb_ba9c_7470fdb48d8arow4_col2 {\n",
       "            background-color:  #4a63d3;\n",
       "            color:  #f1f1f1;\n",
       "        }    #T_3d14d1d7_16c1_11eb_ba9c_7470fdb48d8arow4_col3 {\n",
       "            background-color:  #3b4cc0;\n",
       "            color:  #f1f1f1;\n",
       "        }    #T_3d14d1d7_16c1_11eb_ba9c_7470fdb48d8arow4_col4 {\n",
       "            background-color:  #b40426;\n",
       "            color:  #f1f1f1;\n",
       "        }    #T_3d14d1d7_16c1_11eb_ba9c_7470fdb48d8arow4_col5 {\n",
       "            background-color:  #6a8bef;\n",
       "            color:  #000000;\n",
       "        }    #T_3d14d1d7_16c1_11eb_ba9c_7470fdb48d8arow4_col6 {\n",
       "            background-color:  #7da0f9;\n",
       "            color:  #000000;\n",
       "        }    #T_3d14d1d7_16c1_11eb_ba9c_7470fdb48d8arow4_col7 {\n",
       "            background-color:  #4e68d8;\n",
       "            color:  #000000;\n",
       "        }    #T_3d14d1d7_16c1_11eb_ba9c_7470fdb48d8arow4_col8 {\n",
       "            background-color:  #6b8df0;\n",
       "            color:  #000000;\n",
       "        }    #T_3d14d1d7_16c1_11eb_ba9c_7470fdb48d8arow4_col9 {\n",
       "            background-color:  #5673e0;\n",
       "            color:  #000000;\n",
       "        }    #T_3d14d1d7_16c1_11eb_ba9c_7470fdb48d8arow5_col0 {\n",
       "            background-color:  #86a9fc;\n",
       "            color:  #000000;\n",
       "        }    #T_3d14d1d7_16c1_11eb_ba9c_7470fdb48d8arow5_col1 {\n",
       "            background-color:  #5b7ae5;\n",
       "            color:  #000000;\n",
       "        }    #T_3d14d1d7_16c1_11eb_ba9c_7470fdb48d8arow5_col2 {\n",
       "            background-color:  #465ecf;\n",
       "            color:  #f1f1f1;\n",
       "        }    #T_3d14d1d7_16c1_11eb_ba9c_7470fdb48d8arow5_col3 {\n",
       "            background-color:  #516ddb;\n",
       "            color:  #000000;\n",
       "        }    #T_3d14d1d7_16c1_11eb_ba9c_7470fdb48d8arow5_col4 {\n",
       "            background-color:  #6f92f3;\n",
       "            color:  #000000;\n",
       "        }    #T_3d14d1d7_16c1_11eb_ba9c_7470fdb48d8arow5_col5 {\n",
       "            background-color:  #b40426;\n",
       "            color:  #f1f1f1;\n",
       "        }    #T_3d14d1d7_16c1_11eb_ba9c_7470fdb48d8arow5_col6 {\n",
       "            background-color:  #7597f6;\n",
       "            color:  #000000;\n",
       "        }    #T_3d14d1d7_16c1_11eb_ba9c_7470fdb48d8arow5_col7 {\n",
       "            background-color:  #3b4cc0;\n",
       "            color:  #f1f1f1;\n",
       "        }    #T_3d14d1d7_16c1_11eb_ba9c_7470fdb48d8arow5_col8 {\n",
       "            background-color:  #81a4fb;\n",
       "            color:  #000000;\n",
       "        }    #T_3d14d1d7_16c1_11eb_ba9c_7470fdb48d8arow5_col9 {\n",
       "            background-color:  #6b8df0;\n",
       "            color:  #000000;\n",
       "        }    #T_3d14d1d7_16c1_11eb_ba9c_7470fdb48d8arow6_col0 {\n",
       "            background-color:  #3b4cc0;\n",
       "            color:  #f1f1f1;\n",
       "        }    #T_3d14d1d7_16c1_11eb_ba9c_7470fdb48d8arow6_col1 {\n",
       "            background-color:  #3b4cc0;\n",
       "            color:  #f1f1f1;\n",
       "        }    #T_3d14d1d7_16c1_11eb_ba9c_7470fdb48d8arow6_col2 {\n",
       "            background-color:  #3b4cc0;\n",
       "            color:  #f1f1f1;\n",
       "        }    #T_3d14d1d7_16c1_11eb_ba9c_7470fdb48d8arow6_col3 {\n",
       "            background-color:  #7597f6;\n",
       "            color:  #000000;\n",
       "        }    #T_3d14d1d7_16c1_11eb_ba9c_7470fdb48d8arow6_col4 {\n",
       "            background-color:  #5572df;\n",
       "            color:  #000000;\n",
       "        }    #T_3d14d1d7_16c1_11eb_ba9c_7470fdb48d8arow6_col5 {\n",
       "            background-color:  #465ecf;\n",
       "            color:  #f1f1f1;\n",
       "        }    #T_3d14d1d7_16c1_11eb_ba9c_7470fdb48d8arow6_col6 {\n",
       "            background-color:  #b40426;\n",
       "            color:  #f1f1f1;\n",
       "        }    #T_3d14d1d7_16c1_11eb_ba9c_7470fdb48d8arow6_col7 {\n",
       "            background-color:  #f5c1a9;\n",
       "            color:  #000000;\n",
       "        }    #T_3d14d1d7_16c1_11eb_ba9c_7470fdb48d8arow6_col8 {\n",
       "            background-color:  #455cce;\n",
       "            color:  #f1f1f1;\n",
       "        }    #T_3d14d1d7_16c1_11eb_ba9c_7470fdb48d8arow6_col9 {\n",
       "            background-color:  #7597f6;\n",
       "            color:  #000000;\n",
       "        }    #T_3d14d1d7_16c1_11eb_ba9c_7470fdb48d8arow7_col0 {\n",
       "            background-color:  #b9d0f9;\n",
       "            color:  #000000;\n",
       "        }    #T_3d14d1d7_16c1_11eb_ba9c_7470fdb48d8arow7_col1 {\n",
       "            background-color:  #a1c0ff;\n",
       "            color:  #000000;\n",
       "        }    #T_3d14d1d7_16c1_11eb_ba9c_7470fdb48d8arow7_col2 {\n",
       "            background-color:  #3b4cc0;\n",
       "            color:  #f1f1f1;\n",
       "        }    #T_3d14d1d7_16c1_11eb_ba9c_7470fdb48d8arow7_col3 {\n",
       "            background-color:  #8db0fe;\n",
       "            color:  #000000;\n",
       "        }    #T_3d14d1d7_16c1_11eb_ba9c_7470fdb48d8arow7_col4 {\n",
       "            background-color:  #5572df;\n",
       "            color:  #000000;\n",
       "        }    #T_3d14d1d7_16c1_11eb_ba9c_7470fdb48d8arow7_col5 {\n",
       "            background-color:  #3b4cc0;\n",
       "            color:  #f1f1f1;\n",
       "        }    #T_3d14d1d7_16c1_11eb_ba9c_7470fdb48d8arow7_col6 {\n",
       "            background-color:  #f7b093;\n",
       "            color:  #000000;\n",
       "        }    #T_3d14d1d7_16c1_11eb_ba9c_7470fdb48d8arow7_col7 {\n",
       "            background-color:  #b40426;\n",
       "            color:  #f1f1f1;\n",
       "        }    #T_3d14d1d7_16c1_11eb_ba9c_7470fdb48d8arow7_col8 {\n",
       "            background-color:  #4c66d6;\n",
       "            color:  #000000;\n",
       "        }    #T_3d14d1d7_16c1_11eb_ba9c_7470fdb48d8arow7_col9 {\n",
       "            background-color:  #7295f4;\n",
       "            color:  #000000;\n",
       "        }    #T_3d14d1d7_16c1_11eb_ba9c_7470fdb48d8arow8_col0 {\n",
       "            background-color:  #adc9fd;\n",
       "            color:  #000000;\n",
       "        }    #T_3d14d1d7_16c1_11eb_ba9c_7470fdb48d8arow8_col1 {\n",
       "            background-color:  #90b2fe;\n",
       "            color:  #000000;\n",
       "        }    #T_3d14d1d7_16c1_11eb_ba9c_7470fdb48d8arow8_col2 {\n",
       "            background-color:  #455cce;\n",
       "            color:  #f1f1f1;\n",
       "        }    #T_3d14d1d7_16c1_11eb_ba9c_7470fdb48d8arow8_col3 {\n",
       "            background-color:  #4358cb;\n",
       "            color:  #f1f1f1;\n",
       "        }    #T_3d14d1d7_16c1_11eb_ba9c_7470fdb48d8arow8_col4 {\n",
       "            background-color:  #7597f6;\n",
       "            color:  #000000;\n",
       "        }    #T_3d14d1d7_16c1_11eb_ba9c_7470fdb48d8arow8_col5 {\n",
       "            background-color:  #84a7fc;\n",
       "            color:  #000000;\n",
       "        }    #T_3d14d1d7_16c1_11eb_ba9c_7470fdb48d8arow8_col6 {\n",
       "            background-color:  #7699f6;\n",
       "            color:  #000000;\n",
       "        }    #T_3d14d1d7_16c1_11eb_ba9c_7470fdb48d8arow8_col7 {\n",
       "            background-color:  #4f69d9;\n",
       "            color:  #000000;\n",
       "        }    #T_3d14d1d7_16c1_11eb_ba9c_7470fdb48d8arow8_col8 {\n",
       "            background-color:  #b40426;\n",
       "            color:  #f1f1f1;\n",
       "        }    #T_3d14d1d7_16c1_11eb_ba9c_7470fdb48d8arow8_col9 {\n",
       "            background-color:  #86a9fc;\n",
       "            color:  #000000;\n",
       "        }    #T_3d14d1d7_16c1_11eb_ba9c_7470fdb48d8arow9_col0 {\n",
       "            background-color:  #a1c0ff;\n",
       "            color:  #000000;\n",
       "        }    #T_3d14d1d7_16c1_11eb_ba9c_7470fdb48d8arow9_col1 {\n",
       "            background-color:  #9fbfff;\n",
       "            color:  #000000;\n",
       "        }    #T_3d14d1d7_16c1_11eb_ba9c_7470fdb48d8arow9_col2 {\n",
       "            background-color:  #3c4ec2;\n",
       "            color:  #f1f1f1;\n",
       "        }    #T_3d14d1d7_16c1_11eb_ba9c_7470fdb48d8arow9_col3 {\n",
       "            background-color:  #7b9ff9;\n",
       "            color:  #000000;\n",
       "        }    #T_3d14d1d7_16c1_11eb_ba9c_7470fdb48d8arow9_col4 {\n",
       "            background-color:  #7b9ff9;\n",
       "            color:  #000000;\n",
       "        }    #T_3d14d1d7_16c1_11eb_ba9c_7470fdb48d8arow9_col5 {\n",
       "            background-color:  #89acfd;\n",
       "            color:  #000000;\n",
       "        }    #T_3d14d1d7_16c1_11eb_ba9c_7470fdb48d8arow9_col6 {\n",
       "            background-color:  #b7cff9;\n",
       "            color:  #000000;\n",
       "        }    #T_3d14d1d7_16c1_11eb_ba9c_7470fdb48d8arow9_col7 {\n",
       "            background-color:  #8fb1fe;\n",
       "            color:  #000000;\n",
       "        }    #T_3d14d1d7_16c1_11eb_ba9c_7470fdb48d8arow9_col8 {\n",
       "            background-color:  #a1c0ff;\n",
       "            color:  #000000;\n",
       "        }    #T_3d14d1d7_16c1_11eb_ba9c_7470fdb48d8arow9_col9 {\n",
       "            background-color:  #b40426;\n",
       "            color:  #f1f1f1;\n",
       "        }</style><table id=\"T_3d14d1d7_16c1_11eb_ba9c_7470fdb48d8a\" ><thead>    <tr>        <th class=\"blank level0\" ></th>        <th class=\"col_heading level0 col0\" >id</th>        <th class=\"col_heading level0 col1\" >host_id</th>        <th class=\"col_heading level0 col2\" >latitude</th>        <th class=\"col_heading level0 col3\" >longitude</th>        <th class=\"col_heading level0 col4\" >price</th>        <th class=\"col_heading level0 col5\" >minimum_nights</th>        <th class=\"col_heading level0 col6\" >number_of_reviews</th>        <th class=\"col_heading level0 col7\" >reviews_per_month</th>        <th class=\"col_heading level0 col8\" >calculated_host_listings_count</th>        <th class=\"col_heading level0 col9\" >availability_365</th>    </tr></thead><tbody>\n",
       "                <tr>\n",
       "                        <th id=\"T_3d14d1d7_16c1_11eb_ba9c_7470fdb48d8alevel0_row0\" class=\"row_heading level0 row0\" >id</th>\n",
       "                        <td id=\"T_3d14d1d7_16c1_11eb_ba9c_7470fdb48d8arow0_col0\" class=\"data row0 col0\" >1.00</td>\n",
       "                        <td id=\"T_3d14d1d7_16c1_11eb_ba9c_7470fdb48d8arow0_col1\" class=\"data row0 col1\" >0.59</td>\n",
       "                        <td id=\"T_3d14d1d7_16c1_11eb_ba9c_7470fdb48d8arow0_col2\" class=\"data row0 col2\" >-0.00</td>\n",
       "                        <td id=\"T_3d14d1d7_16c1_11eb_ba9c_7470fdb48d8arow0_col3\" class=\"data row0 col3\" >0.09</td>\n",
       "                        <td id=\"T_3d14d1d7_16c1_11eb_ba9c_7470fdb48d8arow0_col4\" class=\"data row0 col4\" >0.01</td>\n",
       "                        <td id=\"T_3d14d1d7_16c1_11eb_ba9c_7470fdb48d8arow0_col5\" class=\"data row0 col5\" >-0.01</td>\n",
       "                        <td id=\"T_3d14d1d7_16c1_11eb_ba9c_7470fdb48d8arow0_col6\" class=\"data row0 col6\" >-0.32</td>\n",
       "                        <td id=\"T_3d14d1d7_16c1_11eb_ba9c_7470fdb48d8arow0_col7\" class=\"data row0 col7\" >0.18</td>\n",
       "                        <td id=\"T_3d14d1d7_16c1_11eb_ba9c_7470fdb48d8arow0_col8\" class=\"data row0 col8\" >0.13</td>\n",
       "                        <td id=\"T_3d14d1d7_16c1_11eb_ba9c_7470fdb48d8arow0_col9\" class=\"data row0 col9\" >0.09</td>\n",
       "            </tr>\n",
       "            <tr>\n",
       "                        <th id=\"T_3d14d1d7_16c1_11eb_ba9c_7470fdb48d8alevel0_row1\" class=\"row_heading level0 row1\" >host_id</th>\n",
       "                        <td id=\"T_3d14d1d7_16c1_11eb_ba9c_7470fdb48d8arow1_col0\" class=\"data row1 col0\" >0.59</td>\n",
       "                        <td id=\"T_3d14d1d7_16c1_11eb_ba9c_7470fdb48d8arow1_col1\" class=\"data row1 col1\" >1.00</td>\n",
       "                        <td id=\"T_3d14d1d7_16c1_11eb_ba9c_7470fdb48d8arow1_col2\" class=\"data row1 col2\" >0.02</td>\n",
       "                        <td id=\"T_3d14d1d7_16c1_11eb_ba9c_7470fdb48d8arow1_col3\" class=\"data row1 col3\" >0.13</td>\n",
       "                        <td id=\"T_3d14d1d7_16c1_11eb_ba9c_7470fdb48d8arow1_col4\" class=\"data row1 col4\" >0.02</td>\n",
       "                        <td id=\"T_3d14d1d7_16c1_11eb_ba9c_7470fdb48d8arow1_col5\" class=\"data row1 col5\" >-0.02</td>\n",
       "                        <td id=\"T_3d14d1d7_16c1_11eb_ba9c_7470fdb48d8arow1_col6\" class=\"data row1 col6\" >-0.14</td>\n",
       "                        <td id=\"T_3d14d1d7_16c1_11eb_ba9c_7470fdb48d8arow1_col7\" class=\"data row1 col7\" >0.21</td>\n",
       "                        <td id=\"T_3d14d1d7_16c1_11eb_ba9c_7470fdb48d8arow1_col8\" class=\"data row1 col8\" >0.15</td>\n",
       "                        <td id=\"T_3d14d1d7_16c1_11eb_ba9c_7470fdb48d8arow1_col9\" class=\"data row1 col9\" >0.20</td>\n",
       "            </tr>\n",
       "            <tr>\n",
       "                        <th id=\"T_3d14d1d7_16c1_11eb_ba9c_7470fdb48d8alevel0_row2\" class=\"row_heading level0 row2\" >latitude</th>\n",
       "                        <td id=\"T_3d14d1d7_16c1_11eb_ba9c_7470fdb48d8arow2_col0\" class=\"data row2 col0\" >-0.00</td>\n",
       "                        <td id=\"T_3d14d1d7_16c1_11eb_ba9c_7470fdb48d8arow2_col1\" class=\"data row2 col1\" >0.02</td>\n",
       "                        <td id=\"T_3d14d1d7_16c1_11eb_ba9c_7470fdb48d8arow2_col2\" class=\"data row2 col2\" >1.00</td>\n",
       "                        <td id=\"T_3d14d1d7_16c1_11eb_ba9c_7470fdb48d8arow2_col3\" class=\"data row2 col3\" >0.08</td>\n",
       "                        <td id=\"T_3d14d1d7_16c1_11eb_ba9c_7470fdb48d8arow2_col4\" class=\"data row2 col4\" >0.03</td>\n",
       "                        <td id=\"T_3d14d1d7_16c1_11eb_ba9c_7470fdb48d8arow2_col5\" class=\"data row2 col5\" >0.02</td>\n",
       "                        <td id=\"T_3d14d1d7_16c1_11eb_ba9c_7470fdb48d8arow2_col6\" class=\"data row2 col6\" >-0.02</td>\n",
       "                        <td id=\"T_3d14d1d7_16c1_11eb_ba9c_7470fdb48d8arow2_col7\" class=\"data row2 col7\" >-0.02</td>\n",
       "                        <td id=\"T_3d14d1d7_16c1_11eb_ba9c_7470fdb48d8arow2_col8\" class=\"data row2 col8\" >0.02</td>\n",
       "                        <td id=\"T_3d14d1d7_16c1_11eb_ba9c_7470fdb48d8arow2_col9\" class=\"data row2 col9\" >-0.01</td>\n",
       "            </tr>\n",
       "            <tr>\n",
       "                        <th id=\"T_3d14d1d7_16c1_11eb_ba9c_7470fdb48d8alevel0_row3\" class=\"row_heading level0 row3\" >longitude</th>\n",
       "                        <td id=\"T_3d14d1d7_16c1_11eb_ba9c_7470fdb48d8arow3_col0\" class=\"data row3 col0\" >0.09</td>\n",
       "                        <td id=\"T_3d14d1d7_16c1_11eb_ba9c_7470fdb48d8arow3_col1\" class=\"data row3 col1\" >0.13</td>\n",
       "                        <td id=\"T_3d14d1d7_16c1_11eb_ba9c_7470fdb48d8arow3_col2\" class=\"data row3 col2\" >0.08</td>\n",
       "                        <td id=\"T_3d14d1d7_16c1_11eb_ba9c_7470fdb48d8arow3_col3\" class=\"data row3 col3\" >1.00</td>\n",
       "                        <td id=\"T_3d14d1d7_16c1_11eb_ba9c_7470fdb48d8arow3_col4\" class=\"data row3 col4\" >-0.15</td>\n",
       "                        <td id=\"T_3d14d1d7_16c1_11eb_ba9c_7470fdb48d8arow3_col5\" class=\"data row3 col5\" >-0.06</td>\n",
       "                        <td id=\"T_3d14d1d7_16c1_11eb_ba9c_7470fdb48d8arow3_col6\" class=\"data row3 col6\" >0.06</td>\n",
       "                        <td id=\"T_3d14d1d7_16c1_11eb_ba9c_7470fdb48d8arow3_col7\" class=\"data row3 col7\" >0.14</td>\n",
       "                        <td id=\"T_3d14d1d7_16c1_11eb_ba9c_7470fdb48d8arow3_col8\" class=\"data row3 col8\" >-0.11</td>\n",
       "                        <td id=\"T_3d14d1d7_16c1_11eb_ba9c_7470fdb48d8arow3_col9\" class=\"data row3 col9\" >0.08</td>\n",
       "            </tr>\n",
       "            <tr>\n",
       "                        <th id=\"T_3d14d1d7_16c1_11eb_ba9c_7470fdb48d8alevel0_row4\" class=\"row_heading level0 row4\" >price</th>\n",
       "                        <td id=\"T_3d14d1d7_16c1_11eb_ba9c_7470fdb48d8arow4_col0\" class=\"data row4 col0\" >0.01</td>\n",
       "                        <td id=\"T_3d14d1d7_16c1_11eb_ba9c_7470fdb48d8arow4_col1\" class=\"data row4 col1\" >0.02</td>\n",
       "                        <td id=\"T_3d14d1d7_16c1_11eb_ba9c_7470fdb48d8arow4_col2\" class=\"data row4 col2\" >0.03</td>\n",
       "                        <td id=\"T_3d14d1d7_16c1_11eb_ba9c_7470fdb48d8arow4_col3\" class=\"data row4 col3\" >-0.15</td>\n",
       "                        <td id=\"T_3d14d1d7_16c1_11eb_ba9c_7470fdb48d8arow4_col4\" class=\"data row4 col4\" >1.00</td>\n",
       "                        <td id=\"T_3d14d1d7_16c1_11eb_ba9c_7470fdb48d8arow4_col5\" class=\"data row4 col5\" >0.04</td>\n",
       "                        <td id=\"T_3d14d1d7_16c1_11eb_ba9c_7470fdb48d8arow4_col6\" class=\"data row4 col6\" >-0.05</td>\n",
       "                        <td id=\"T_3d14d1d7_16c1_11eb_ba9c_7470fdb48d8arow4_col7\" class=\"data row4 col7\" >-0.05</td>\n",
       "                        <td id=\"T_3d14d1d7_16c1_11eb_ba9c_7470fdb48d8arow4_col8\" class=\"data row4 col8\" >0.06</td>\n",
       "                        <td id=\"T_3d14d1d7_16c1_11eb_ba9c_7470fdb48d8arow4_col9\" class=\"data row4 col9\" >0.08</td>\n",
       "            </tr>\n",
       "            <tr>\n",
       "                        <th id=\"T_3d14d1d7_16c1_11eb_ba9c_7470fdb48d8alevel0_row5\" class=\"row_heading level0 row5\" >minimum_nights</th>\n",
       "                        <td id=\"T_3d14d1d7_16c1_11eb_ba9c_7470fdb48d8arow5_col0\" class=\"data row5 col0\" >-0.01</td>\n",
       "                        <td id=\"T_3d14d1d7_16c1_11eb_ba9c_7470fdb48d8arow5_col1\" class=\"data row5 col1\" >-0.02</td>\n",
       "                        <td id=\"T_3d14d1d7_16c1_11eb_ba9c_7470fdb48d8arow5_col2\" class=\"data row5 col2\" >0.02</td>\n",
       "                        <td id=\"T_3d14d1d7_16c1_11eb_ba9c_7470fdb48d8arow5_col3\" class=\"data row5 col3\" >-0.06</td>\n",
       "                        <td id=\"T_3d14d1d7_16c1_11eb_ba9c_7470fdb48d8arow5_col4\" class=\"data row5 col4\" >0.04</td>\n",
       "                        <td id=\"T_3d14d1d7_16c1_11eb_ba9c_7470fdb48d8arow5_col5\" class=\"data row5 col5\" >1.00</td>\n",
       "                        <td id=\"T_3d14d1d7_16c1_11eb_ba9c_7470fdb48d8arow5_col6\" class=\"data row5 col6\" >-0.08</td>\n",
       "                        <td id=\"T_3d14d1d7_16c1_11eb_ba9c_7470fdb48d8arow5_col7\" class=\"data row5 col7\" >-0.12</td>\n",
       "                        <td id=\"T_3d14d1d7_16c1_11eb_ba9c_7470fdb48d8arow5_col8\" class=\"data row5 col8\" >0.13</td>\n",
       "                        <td id=\"T_3d14d1d7_16c1_11eb_ba9c_7470fdb48d8arow5_col9\" class=\"data row5 col9\" >0.14</td>\n",
       "            </tr>\n",
       "            <tr>\n",
       "                        <th id=\"T_3d14d1d7_16c1_11eb_ba9c_7470fdb48d8alevel0_row6\" class=\"row_heading level0 row6\" >number_of_reviews</th>\n",
       "                        <td id=\"T_3d14d1d7_16c1_11eb_ba9c_7470fdb48d8arow6_col0\" class=\"data row6 col0\" >-0.32</td>\n",
       "                        <td id=\"T_3d14d1d7_16c1_11eb_ba9c_7470fdb48d8arow6_col1\" class=\"data row6 col1\" >-0.14</td>\n",
       "                        <td id=\"T_3d14d1d7_16c1_11eb_ba9c_7470fdb48d8arow6_col2\" class=\"data row6 col2\" >-0.02</td>\n",
       "                        <td id=\"T_3d14d1d7_16c1_11eb_ba9c_7470fdb48d8arow6_col3\" class=\"data row6 col3\" >0.06</td>\n",
       "                        <td id=\"T_3d14d1d7_16c1_11eb_ba9c_7470fdb48d8arow6_col4\" class=\"data row6 col4\" >-0.05</td>\n",
       "                        <td id=\"T_3d14d1d7_16c1_11eb_ba9c_7470fdb48d8arow6_col5\" class=\"data row6 col5\" >-0.08</td>\n",
       "                        <td id=\"T_3d14d1d7_16c1_11eb_ba9c_7470fdb48d8arow6_col6\" class=\"data row6 col6\" >1.00</td>\n",
       "                        <td id=\"T_3d14d1d7_16c1_11eb_ba9c_7470fdb48d8arow6_col7\" class=\"data row6 col7\" >0.59</td>\n",
       "                        <td id=\"T_3d14d1d7_16c1_11eb_ba9c_7470fdb48d8arow6_col8\" class=\"data row6 col8\" >-0.07</td>\n",
       "                        <td id=\"T_3d14d1d7_16c1_11eb_ba9c_7470fdb48d8arow6_col9\" class=\"data row6 col9\" >0.17</td>\n",
       "            </tr>\n",
       "            <tr>\n",
       "                        <th id=\"T_3d14d1d7_16c1_11eb_ba9c_7470fdb48d8alevel0_row7\" class=\"row_heading level0 row7\" >reviews_per_month</th>\n",
       "                        <td id=\"T_3d14d1d7_16c1_11eb_ba9c_7470fdb48d8arow7_col0\" class=\"data row7 col0\" >0.18</td>\n",
       "                        <td id=\"T_3d14d1d7_16c1_11eb_ba9c_7470fdb48d8arow7_col1\" class=\"data row7 col1\" >0.21</td>\n",
       "                        <td id=\"T_3d14d1d7_16c1_11eb_ba9c_7470fdb48d8arow7_col2\" class=\"data row7 col2\" >-0.02</td>\n",
       "                        <td id=\"T_3d14d1d7_16c1_11eb_ba9c_7470fdb48d8arow7_col3\" class=\"data row7 col3\" >0.14</td>\n",
       "                        <td id=\"T_3d14d1d7_16c1_11eb_ba9c_7470fdb48d8arow7_col4\" class=\"data row7 col4\" >-0.05</td>\n",
       "                        <td id=\"T_3d14d1d7_16c1_11eb_ba9c_7470fdb48d8arow7_col5\" class=\"data row7 col5\" >-0.12</td>\n",
       "                        <td id=\"T_3d14d1d7_16c1_11eb_ba9c_7470fdb48d8arow7_col6\" class=\"data row7 col6\" >0.59</td>\n",
       "                        <td id=\"T_3d14d1d7_16c1_11eb_ba9c_7470fdb48d8arow7_col7\" class=\"data row7 col7\" >1.00</td>\n",
       "                        <td id=\"T_3d14d1d7_16c1_11eb_ba9c_7470fdb48d8arow7_col8\" class=\"data row7 col8\" >-0.05</td>\n",
       "                        <td id=\"T_3d14d1d7_16c1_11eb_ba9c_7470fdb48d8arow7_col9\" class=\"data row7 col9\" >0.16</td>\n",
       "            </tr>\n",
       "            <tr>\n",
       "                        <th id=\"T_3d14d1d7_16c1_11eb_ba9c_7470fdb48d8alevel0_row8\" class=\"row_heading level0 row8\" >calculated_host_listings_count</th>\n",
       "                        <td id=\"T_3d14d1d7_16c1_11eb_ba9c_7470fdb48d8arow8_col0\" class=\"data row8 col0\" >0.13</td>\n",
       "                        <td id=\"T_3d14d1d7_16c1_11eb_ba9c_7470fdb48d8arow8_col1\" class=\"data row8 col1\" >0.15</td>\n",
       "                        <td id=\"T_3d14d1d7_16c1_11eb_ba9c_7470fdb48d8arow8_col2\" class=\"data row8 col2\" >0.02</td>\n",
       "                        <td id=\"T_3d14d1d7_16c1_11eb_ba9c_7470fdb48d8arow8_col3\" class=\"data row8 col3\" >-0.11</td>\n",
       "                        <td id=\"T_3d14d1d7_16c1_11eb_ba9c_7470fdb48d8arow8_col4\" class=\"data row8 col4\" >0.06</td>\n",
       "                        <td id=\"T_3d14d1d7_16c1_11eb_ba9c_7470fdb48d8arow8_col5\" class=\"data row8 col5\" >0.13</td>\n",
       "                        <td id=\"T_3d14d1d7_16c1_11eb_ba9c_7470fdb48d8arow8_col6\" class=\"data row8 col6\" >-0.07</td>\n",
       "                        <td id=\"T_3d14d1d7_16c1_11eb_ba9c_7470fdb48d8arow8_col7\" class=\"data row8 col7\" >-0.05</td>\n",
       "                        <td id=\"T_3d14d1d7_16c1_11eb_ba9c_7470fdb48d8arow8_col8\" class=\"data row8 col8\" >1.00</td>\n",
       "                        <td id=\"T_3d14d1d7_16c1_11eb_ba9c_7470fdb48d8arow8_col9\" class=\"data row8 col9\" >0.23</td>\n",
       "            </tr>\n",
       "            <tr>\n",
       "                        <th id=\"T_3d14d1d7_16c1_11eb_ba9c_7470fdb48d8alevel0_row9\" class=\"row_heading level0 row9\" >availability_365</th>\n",
       "                        <td id=\"T_3d14d1d7_16c1_11eb_ba9c_7470fdb48d8arow9_col0\" class=\"data row9 col0\" >0.09</td>\n",
       "                        <td id=\"T_3d14d1d7_16c1_11eb_ba9c_7470fdb48d8arow9_col1\" class=\"data row9 col1\" >0.20</td>\n",
       "                        <td id=\"T_3d14d1d7_16c1_11eb_ba9c_7470fdb48d8arow9_col2\" class=\"data row9 col2\" >-0.01</td>\n",
       "                        <td id=\"T_3d14d1d7_16c1_11eb_ba9c_7470fdb48d8arow9_col3\" class=\"data row9 col3\" >0.08</td>\n",
       "                        <td id=\"T_3d14d1d7_16c1_11eb_ba9c_7470fdb48d8arow9_col4\" class=\"data row9 col4\" >0.08</td>\n",
       "                        <td id=\"T_3d14d1d7_16c1_11eb_ba9c_7470fdb48d8arow9_col5\" class=\"data row9 col5\" >0.14</td>\n",
       "                        <td id=\"T_3d14d1d7_16c1_11eb_ba9c_7470fdb48d8arow9_col6\" class=\"data row9 col6\" >0.17</td>\n",
       "                        <td id=\"T_3d14d1d7_16c1_11eb_ba9c_7470fdb48d8arow9_col7\" class=\"data row9 col7\" >0.16</td>\n",
       "                        <td id=\"T_3d14d1d7_16c1_11eb_ba9c_7470fdb48d8arow9_col8\" class=\"data row9 col8\" >0.23</td>\n",
       "                        <td id=\"T_3d14d1d7_16c1_11eb_ba9c_7470fdb48d8arow9_col9\" class=\"data row9 col9\" >1.00</td>\n",
       "            </tr>\n",
       "    </tbody></table>"
      ],
      "text/plain": [
       "<pandas.io.formats.style.Styler at 0x25fe4473190>"
      ]
     },
     "execution_count": 25,
     "metadata": {},
     "output_type": "execute_result"
    }
   ],
   "source": [
    "data.corr().style.background_gradient(cmap = 'coolwarm').set_precision(2)"
   ]
  },
  {
   "cell_type": "markdown",
   "metadata": {},
   "source": [
    "ничего не увидели бросающегося в глаза"
   ]
  },
  {
   "cell_type": "code",
   "execution_count": 26,
   "metadata": {},
   "outputs": [],
   "source": [
    "from sklearn.model_selection import train_test_split\n",
    "X_train, X_test, y_train, y_test = train_test_split(data.drop(columns=['price']), data[['price']],\n",
    "                                                    test_size=0.3, random_state=241)"
   ]
  },
  {
   "cell_type": "code",
   "execution_count": 48,
   "metadata": {},
   "outputs": [
    {
     "data": {
      "text/plain": [
       "(34226, 15)"
      ]
     },
     "execution_count": 48,
     "metadata": {},
     "output_type": "execute_result"
    }
   ],
   "source": [
    "X_train.shape"
   ]
  },
  {
   "cell_type": "markdown",
   "metadata": {},
   "source": [
    "\n",
    "## Часть 1: Алгоритм kNN в задаче регрессии ##\n",
    "\n",
    "**1.1 (1.5 балла)** Реализуйте класс KNNRegressor, который используя метод k ближайших соседей решает задачу регрессии. Для решение данной задачи, необходимо найти $N_k$ - k соседей, и после использовать значения их целевых переменных для предсказания:$$\\begin{align}\n",
    "y = \\frac{1}{k}\\sum_{n \\in N_k}w_n y_n,\n",
    "\\end{align}$$\n",
    "\n",
    "где $w_n$ - вес каждого соседа.\n",
    "\n",
    "При этом KNNRegressor может работать в 2 режимах:\n",
    "\n",
    "$uniform$ - ближайшие соседи учитываются с одинаковыми весами.\n",
    "\n",
    "$distance$ - вес ближайших соседей зависит от расстояния\n",
    "Сигнатуру методов, классов, функции при желании можно менять."
   ]
  },
  {
   "cell_type": "code",
   "execution_count": 27,
   "metadata": {},
   "outputs": [],
   "source": [
    "from typing import Union, Callable, Iterable, Optional\n",
    "from sklearn.neighbors import NearestNeighbors\n",
    "\n",
    "\n",
    "class KNNRegressor:\n",
    "    def __init__(self, n_neighbors: int, metric: Union[str, Callable], mode: str = 'uniform'):\n",
    "        \"\"\"\n",
    "        params:\n",
    "            n_neighbors: number of neighbors\n",
    "            metric: metric to use for distance computation\n",
    "            mode: 'uniform' or 'distance'\n",
    "            'uniform' - all points in each neighborhood are weighted equally\n",
    "            'distance' - weight points by the inverse of their distance\n",
    "        \"\"\"\n",
    "        if metric == 'overlap':\n",
    "            self.__nn = NearestNeighbors(n_neighbors=n_neighbors, metric=overlap)#pyfunc \n",
    "        elif metric == 'flattened_overlap':\n",
    "            self.__nn = NearestNeighbors(n_neighbors=n_neighbors, metric=flattened_overlap, algorithm = 'brute')\n",
    "        elif metric == 'log_overlap':\n",
    "            self.__nn = NearestNeighbors(n_neighbors=n_neighbors, metric=log_overlap, algorithm = 'brute')\n",
    "        else:\n",
    "            self.__nn = NearestNeighbors(n_neighbors=n_neighbors, metric=metric)#pyfunc\n",
    "        self.__mode = mode\n",
    "        self.__n_neighbors = n_neighbors\n",
    "\n",
    "    def fit(self, X: np.array, y: np.array) -> None:\n",
    "        \"\"\"\n",
    "            X: data\n",
    "            y: labels\n",
    "        \"\"\"\n",
    "        self.__nn.fit(X, y)\n",
    "        self.X = X\n",
    "        self.Y = y\n",
    "        #pass\n",
    "\n",
    "    def predict(self, X: np.array, n_neighbors: Optional[int] = None) -> np.array:\n",
    "        \"\"\"\n",
    "            X: data\n",
    "            n_neighbors: number of neighbors\n",
    "        \"\"\"\n",
    "        if self.__mode == 'distance':\n",
    "            dist = self.__nn.kneighbors(X, self.__n_neighbors, return_distance = True)[0]\n",
    "            ind =  self.__nn.kneighbors(X, self.__n_neighbors, return_distance = True)[1]               \n",
    "            pred = np.sum(np.array(list(self.Y['price']))[ind.reshape(-1)].reshape(ind.shape[0], -1)* 1/(dist+0.00005), axis=1)/np.sum(1/(dist+0.00005), axis=1)\n",
    "        else:\n",
    "            ind =  self.__nn.kneighbors(X, self.__n_neighbors, return_distance = False)\n",
    "            #print(ind)\n",
    "            pred = np.sum(np.array(list(self.Y['price']))[ind.reshape(-1)].reshape(ind.shape[0], -1), axis=1) / self.__n_neighbors\n",
    "        # Ваш код здесь\n",
    "        return pred\n",
    "        #pass"
   ]
  },
  {
   "cell_type": "markdown",
   "metadata": {},
   "source": [
    "## Часть 2: Категориальные признаки ##"
   ]
  },
  {
   "cell_type": "markdown",
   "metadata": {},
   "source": [
    "**2.1 (1 балл)** Реализуйте три функции расстояния на категориальных признаках (в этом задании только на них!) , которые обсуждались на втором семинаре. Не забудьте, что KNNRegressor должен уметь работать с этими функциями расстояния. Как вариант, можно реализовать метрики как user-defined distance."
   ]
  },
  {
   "cell_type": "markdown",
   "metadata": {},
   "source": [
    "Здесь выполняется часть задания номер 2, по поиску категориальных признаков"
   ]
  },
  {
   "cell_type": "code",
   "execution_count": 28,
   "metadata": {},
   "outputs": [],
   "source": [
    "vec_1 = ['a', 'b', 'd']\n",
    "vec_2 = np.array(['a', 'bc', 'd'])"
   ]
  },
  {
   "cell_type": "code",
   "execution_count": 29,
   "metadata": {},
   "outputs": [],
   "source": [
    "X_categ_train = pd.DataFrame()\n",
    "X_categ_train['neighbourhood_group'] = X_train['neighbourhood_group']\n",
    "X_categ_train['neighbourhood'] = X_train['neighbourhood']\n",
    "X_categ_train['room_type'] = X_train['room_type']"
   ]
  },
  {
   "cell_type": "code",
   "execution_count": 30,
   "metadata": {},
   "outputs": [],
   "source": [
    "X_categ_test = pd.DataFrame()\n",
    "X_categ_test['neighbourhood_group'] = X_test['neighbourhood_group']\n",
    "X_categ_test['neighbourhood'] = X_test['neighbourhood']\n",
    "X_categ_test['room_type'] = X_test['room_type']\n",
    "#X_categ_test"
   ]
  },
  {
   "cell_type": "code",
   "execution_count": 31,
   "metadata": {},
   "outputs": [
    {
     "data": {
      "text/plain": [
       "array(['Brooklyn', 'Manhattan', 'Queens', 'Bronx', 'Staten Island'],\n",
       "      dtype=object)"
      ]
     },
     "execution_count": 31,
     "metadata": {},
     "output_type": "execute_result"
    }
   ],
   "source": [
    "X_categ_train['neighbourhood_group'].unique()"
   ]
  },
  {
   "cell_type": "code",
   "execution_count": 32,
   "metadata": {},
   "outputs": [
    {
     "name": "stdout",
     "output_type": "stream",
     "text": [
      "Private room\n",
      "Entire home/apt\n",
      "Shared room\n"
     ]
    }
   ],
   "source": [
    "i = 0\n",
    "for var in data['neighbourhood_group'].unique():\n",
    "    X_categ_train['neighbourhood_group'][X_categ_train['neighbourhood_group']== var] = i\n",
    "    X_categ_test['neighbourhood_group'][X_categ_test['neighbourhood_group']== var] = i\n",
    "    i+=1\n",
    "i = 0\n",
    "for var in data['neighbourhood'].unique():\n",
    "    X_categ_train['neighbourhood'][X_categ_train['neighbourhood']== var] = i\n",
    "    X_categ_test['neighbourhood'][X_categ_test['neighbourhood']== var] = i\n",
    "    i+=1\n",
    "i = 0\n",
    "for var in data['room_type'].unique():\n",
    "    print(var)\n",
    "    X_categ_train['room_type'][X_categ_train['room_type'] == var] = i\n",
    "    X_categ_test['room_type'][X_categ_test['room_type']== var] = i\n",
    "    i+=1"
   ]
  },
  {
   "cell_type": "markdown",
   "metadata": {},
   "source": [
    "----------------------------------------------"
   ]
  },
  {
   "cell_type": "code",
   "execution_count": 33,
   "metadata": {},
   "outputs": [
    {
     "data": {
      "text/plain": [
       "array([0, 1, 2, 4, 3], dtype=object)"
      ]
     },
     "execution_count": 33,
     "metadata": {},
     "output_type": "execute_result"
    }
   ],
   "source": [
    "ng = (X_categ_train['neighbourhood_group'].unique())\n",
    "ng"
   ]
  },
  {
   "cell_type": "code",
   "execution_count": 34,
   "metadata": {},
   "outputs": [
    {
     "data": {
      "text/plain": [
       "array([0, 1, 2, 3, 4], dtype=object)"
      ]
     },
     "execution_count": 34,
     "metadata": {},
     "output_type": "execute_result"
    }
   ],
   "source": [
    "ng.sort()\n",
    "ng"
   ]
  },
  {
   "cell_type": "code",
   "execution_count": 35,
   "metadata": {},
   "outputs": [
    {
     "data": {
      "text/plain": [
       "[14061, 15179, 3969, 257, 760]"
      ]
     },
     "execution_count": 35,
     "metadata": {},
     "output_type": "execute_result"
    }
   ],
   "source": [
    "ng = (X_categ_train['neighbourhood_group'].unique())\n",
    "ng.sort()\n",
    "ng_c = list(X_categ_train.groupby('neighbourhood_group').count()['neighbourhood'])\n",
    "ng_c"
   ]
  },
  {
   "cell_type": "code",
   "execution_count": 36,
   "metadata": {},
   "outputs": [
    {
     "data": {
      "text/plain": [
       "array([0, 1, 2, 4, 3], dtype=object)"
      ]
     },
     "execution_count": 36,
     "metadata": {},
     "output_type": "execute_result"
    }
   ],
   "source": [
    "X_categ_train['neighbourhood_group'].unique()"
   ]
  },
  {
   "cell_type": "code",
   "execution_count": 37,
   "metadata": {},
   "outputs": [],
   "source": [
    "#ng_c"
   ]
  },
  {
   "cell_type": "code",
   "execution_count": 38,
   "metadata": {
    "scrolled": true
   },
   "outputs": [],
   "source": [
    "nh = X_categ_train['neighbourhood'].unique()\n",
    "nh.sort()\n",
    "nh_c = list(X_categ_train.groupby('neighbourhood').count()['neighbourhood_group'])\n",
    "#nh_c"
   ]
  },
  {
   "cell_type": "code",
   "execution_count": 1323,
   "metadata": {},
   "outputs": [],
   "source": [
    "nh = np.append(nh, 131)\n",
    "nh = np.append(nh, 218)\n",
    "#nh"
   ]
  },
  {
   "cell_type": "code",
   "execution_count": 1324,
   "metadata": {},
   "outputs": [],
   "source": [
    "nh_c = np.append(nh_c, 0)\n",
    "nh_c = np.append(nh_c, 0)\n",
    "#nh_c"
   ]
  },
  {
   "cell_type": "code",
   "execution_count": 1223,
   "metadata": {},
   "outputs": [
    {
     "data": {
      "text/plain": [
       "[15563, 17846, 817]"
      ]
     },
     "execution_count": 1223,
     "metadata": {},
     "output_type": "execute_result"
    }
   ],
   "source": [
    "rt = X_categ_train['room_type'].unique()\n",
    "rt.sort()\n",
    "rt_c = list(X_categ_train.groupby('room_type').count()['neighbourhood_group'])\n",
    "rt_c"
   ]
  },
  {
   "cell_type": "code",
   "execution_count": 1225,
   "metadata": {},
   "outputs": [
    {
     "data": {
      "text/plain": [
       "5"
      ]
     },
     "execution_count": 1225,
     "metadata": {},
     "output_type": "execute_result"
    }
   ],
   "source": [
    "s = np.array([(ng, ng_c), (nh, nh_c), (rt, rt_c)])\n",
    "len(s[0][0])"
   ]
  },
  {
   "cell_type": "code",
   "execution_count": 1298,
   "metadata": {},
   "outputs": [],
   "source": [
    "def overlap(x, z):\n",
    "    return np.sum(x != z)\n",
    "\n",
    "def flattened_overlap(x, z):\n",
    "    # Ваш код здесь\n",
    "    d = 0\n",
    "    l = len(x)\n",
    "    for i in range (l):\n",
    "        \n",
    "        k = s[i][1][np.arange(len(s[i][1]))[(np.where(s[i][0] == x[i]))][0]]\n",
    "        #k = s[i][1][np.where(s[i][0] == x[i])]\n",
    "        #print('k', k)\n",
    "        #k = s[i][1][np.where(s[i][0] == x[i])[0]]\n",
    "        summ = 0\n",
    "        ll = np.sum(s[i][1])\n",
    "        n = len(s[i][0])\n",
    "        for j in range(n):\n",
    "            if(s[i][1][j] <= k):\n",
    "                summ += s[i][1][j] * (s[i][1][j] - 1) / (ll * (ll - 1))\n",
    "        d += (x[i] != z[i]) + (x[i] == z[i]) * summ\n",
    "    return d\n",
    "\n",
    "def log_overlap(x, z):\n",
    "    summ = 0\n",
    "    l = len(x)\n",
    "    for i in range(l):\n",
    "        summ += (x[i] != z[i]) * math.log(s[i][1][np.arange(len(s[i][1]))[(np.where(s[i][0] == x[i]))][0]] + 1)* math.log(s[i][1][np.arange(len(s[i][1]))[(np.where(s[i][0] == z[i]))][0]] + 1)\n",
    "    return summ"
   ]
  },
  {
   "cell_type": "code",
   "execution_count": 1309,
   "metadata": {
    "scrolled": true
   },
   "outputs": [
    {
     "name": "stdout",
     "output_type": "stream",
     "text": [
      "2\n",
      "2.2073256095125355\n",
      "106.2577222711173\n"
     ]
    }
   ],
   "source": [
    "print(overlap(X_categ_train.iloc[0], X_categ_train.iloc[2]))\n",
    "print(flattened_overlap(X_categ_train.iloc[0], X_categ_train.iloc[2]))\n",
    "print(log_overlap(X_categ_train.iloc[0], X_categ_train.iloc[2]))"
   ]
  },
  {
   "cell_type": "code",
   "execution_count": 2044,
   "metadata": {},
   "outputs": [
    {
     "name": "stdout",
     "output_type": "stream",
     "text": [
      "3\n",
      "3.0\n",
      "213.01884669286193\n"
     ]
    }
   ],
   "source": [
    "print(overlap(X_categ_train.iloc[0], X_categ_train.iloc[1]))\n",
    "print(flattened_overlap(X_categ_train.iloc[0], X_categ_train.iloc[1]))\n",
    "print(log_overlap(X_categ_train.iloc[0], X_categ_train.iloc[1]))"
   ]
  },
  {
   "cell_type": "markdown",
   "metadata": {},
   "source": [
    "**2.2 (1 балл)** Найдите все категориальные признаки в данных. Подсчитайте для каждой из метрик качество на тестовой выборке X_test при числе соседей $k = 10$. Качество измеряйте с помощью RMSE.\n",
    "\n",
    "Какая функция расстояния оказалась лучшей? Почему?"
   ]
  },
  {
   "cell_type": "markdown",
   "metadata": {},
   "source": [
    "Сами признаки мы нашли и перекодировали выше, для того чтобы predict мог выдавать корректные значения "
   ]
  },
  {
   "cell_type": "code",
   "execution_count": 1303,
   "metadata": {
    "scrolled": false
   },
   "outputs": [
    {
     "data": {
      "text/plain": [
       "142.63733312145177"
      ]
     },
     "execution_count": 1303,
     "metadata": {},
     "output_type": "execute_result"
    }
   ],
   "source": [
    "NN_2 = KNNRegressor(10, metric='overlap', mode = 'uniform')\n",
    "NN_2.fit(X_categ_train[:1000], y_train[:1000])\n",
    "a =  NN_2.predict(X_categ_test[:100], n_neighbors=10)\n",
    "#len(y_test['price'][:10])\n",
    "#y_test[:10]\n",
    "#a - y_test[:10]\n",
    "np.sqrt(np.sum(np.square((a - y_test['price'][:100]))) / len(a))"
   ]
  },
  {
   "cell_type": "code",
   "execution_count": 1306,
   "metadata": {},
   "outputs": [
    {
     "data": {
      "text/plain": [
       "141.39021430070756"
      ]
     },
     "execution_count": 1306,
     "metadata": {},
     "output_type": "execute_result"
    }
   ],
   "source": [
    "NN_3 = KNNRegressor(10, metric='flattened_overlap', mode = 'uniform')\n",
    "NN_3.fit(X_categ_train[:1000], y_train[:1000])\n",
    "a =  NN_3.predict(X_categ_test[:100], n_neighbors=10)\n",
    "\n",
    "np.sqrt(np.sum(np.square((a - y_test['price'][:100]))) / len(a))"
   ]
  },
  {
   "cell_type": "code",
   "execution_count": 1310,
   "metadata": {},
   "outputs": [
    {
     "data": {
      "text/plain": [
       "136.04703892404277"
      ]
     },
     "execution_count": 1310,
     "metadata": {},
     "output_type": "execute_result"
    }
   ],
   "source": [
    "NN_4 = KNNRegressor(10, metric='log_overlap', mode = 'uniform')\n",
    "NN_4.fit(X_categ_train[:1000], y_train[:1000])\n",
    "a =  NN_4.predict(X_categ_test[:100], n_neighbors=10)\n",
    "\n",
    "np.sqrt(np.sum(np.square((a - y_test['price'][:100]))) / len(a))"
   ]
  },
  {
   "cell_type": "markdown",
   "metadata": {},
   "source": [
    "на этой выборке log_overlap справился лучше остальных"
   ]
  },
  {
   "cell_type": "markdown",
   "metadata": {},
   "source": [
    "Посмотрим на выборку большего размера"
   ]
  },
  {
   "cell_type": "code",
   "execution_count": 1319,
   "metadata": {},
   "outputs": [
    {
     "data": {
      "text/plain": [
       "284.724586708392"
      ]
     },
     "execution_count": 1319,
     "metadata": {},
     "output_type": "execute_result"
    }
   ],
   "source": [
    "NN_2 = KNNRegressor(10, metric='overlap', mode = 'distance')\n",
    "NN_2.fit(X_categ_train[:10000], y_train[:10000])\n",
    "a =  NN_2.predict(X_categ_test[:1000], n_neighbors=10)\n",
    "#len(y_test['price'][:10])\n",
    "#y_test[:10]\n",
    "#a - y_test[:10]\n",
    "np.sqrt(np.sum(np.square((a - y_test['price'][:1000]))) / len(a))"
   ]
  },
  {
   "cell_type": "markdown",
   "metadata": {},
   "source": [
    "здесь мы взяли подвыборку побольше, и \"качество\" overlap - самое лучшее (самое маленькое отклонение)"
   ]
  },
  {
   "cell_type": "code",
   "execution_count": 2348,
   "metadata": {},
   "outputs": [
    {
     "data": {
      "text/plain": [
       "285.9442693300948"
      ]
     },
     "execution_count": 2348,
     "metadata": {},
     "output_type": "execute_result"
    }
   ],
   "source": [
    "NN_5 = KNNRegressor(10, metric='log_overlap', mode = 'distance')\n",
    "NN_5.fit(X_categ_train[:10000], y_train[:10000])\n",
    "a =  NN_5.predict(X_categ_test[:1000], n_neighbors=10)\n",
    "#len(y_test['price'][:10])\n",
    "#y_test[:10]\n",
    "#a - y_test[:10]\n",
    "np.sqrt(np.sum(np.square((a - y_test['price'][:1000]))) / len(a))"
   ]
  },
  {
   "cell_type": "markdown",
   "metadata": {},
   "source": [
    "log overlap выдает числа немного большие чем overlap"
   ]
  },
  {
   "cell_type": "code",
   "execution_count": 2047,
   "metadata": {},
   "outputs": [
    {
     "data": {
      "text/plain": [
       "285.7619750926333"
      ]
     },
     "execution_count": 2047,
     "metadata": {},
     "output_type": "execute_result"
    }
   ],
   "source": [
    "NN_6 = KNNRegressor(10, metric='flattened_overlap', mode = 'distance')\n",
    "NN_6.fit(X_categ_train[:10000], y_train[:10000])\n",
    "a =  NN_6.predict(X_categ_test[:1000], n_neighbors=10)\n",
    "#len(y_test['price'][:10])\n",
    "#y_test[:10]\n",
    "#a - y_test[:10]\n",
    "np.sqrt(np.sum(np.square((a - y_test['price'][:1000]))) / len(a))"
   ]
  },
  {
   "cell_type": "markdown",
   "metadata": {},
   "source": [
    "flattened_overlap работал дольше всех в силу реализации, но все равно уступает в точности overlap"
   ]
  },
  {
   "cell_type": "markdown",
   "metadata": {},
   "source": [
    "лучшие показания на overlap, но разница небольшая\n",
    "\n",
    "Возможно, это связано с тем, что данные хорошо подходят под простой overlap и в overlap или flattened overlap нет необходимости. Стоит отметить, что различие результатов на выборке 10000 обучающей и 1000 тестовой небольшое. Вероятнее всего, log_overlap должен показать себя лучше, потому что учитывает несколько (2) признаков, в отличие от overlap, который просто смотрит на сравнение."
   ]
  },
  {
   "cell_type": "markdown",
   "metadata": {},
   "source": [
    "**2.3 (1 балл) бонус** Подберите лучшее (на тестовой выборке) число соседей $k$ для каждой из функций расстояния. Какого удалось достичь уровня качества?"
   ]
  },
  {
   "cell_type": "code",
   "execution_count": 1321,
   "metadata": {},
   "outputs": [
    {
     "name": "stdout",
     "output_type": "stream",
     "text": [
      "1 neib - 152.41210581840275\n",
      "2 neib - 152.43118209095692\n",
      "3 neib - 148.73552401478176\n",
      "4 neib - 141.11418896040811\n",
      "5 neib - 133.54874038251845\n",
      "6 neib - 137.6105637293663\n",
      "7 neib - 135.54184366585648\n",
      "8 neib - 136.20882445377015\n",
      "9 neib - 136.54784170028063\n",
      "10 neib - 137.28029399070923\n"
     ]
    }
   ],
   "source": [
    "for i in range(1,11):\n",
    "    NN_1n = KNNRegressor(i, metric='overlap', mode = 'distance')\n",
    "    NN_1n.fit(X_categ_train[:1000], y_train[:1000])\n",
    "    a =  NN_1n.predict(X_categ_test[:100], n_neighbors=10)\n",
    "    print(i, 'neib -', np.sqrt(np.sum(np.square((a - y_test['price'][:100]))) / len(a)))"
   ]
  },
  {
   "cell_type": "code",
   "execution_count": 1670,
   "metadata": {},
   "outputs": [
    {
     "name": "stdout",
     "output_type": "stream",
     "text": [
      " 20 neib - 138.05653178009166\n",
      " 50 neib - 139.09547734993635\n"
     ]
    }
   ],
   "source": [
    "NN_20n = KNNRegressor(20, metric='overlap', mode = 'distance')\n",
    "NN_20n.fit(X_categ_train[:1000], y_train[:1000])\n",
    "a =  NN_20n.predict(X_categ_test[:100], n_neighbors=10)\n",
    "print(' 20 neib -', np.sqrt(np.sum(np.square((a - y_test['price'][:100]))) / len(a)))\n",
    "NN_50n = KNNRegressor(50, metric='overlap', mode = 'distance')\n",
    "NN_50n.fit(X_categ_train[:1000], y_train[:1000])\n",
    "a =  NN_50n.predict(X_categ_test[:100], n_neighbors=10)\n",
    "print(' 50 neib -', np.sqrt(np.sum(np.square((a - y_test['price'][:100]))) / len(a)))"
   ]
  },
  {
   "cell_type": "code",
   "execution_count": 1664,
   "metadata": {},
   "outputs": [
    {
     "name": "stdout",
     "output_type": "stream",
     "text": [
      "1 neib - 147.8955712656738\n",
      "2 neib - 125.10658788704198\n",
      "3 neib - 130.28237674332132\n",
      "4 neib - 153.1262986023293\n",
      "5 neib - 149.41667079589325\n",
      "6 neib - 148.54681851157193\n",
      "7 neib - 141.50959122463252\n",
      "8 neib - 141.75992924809887\n",
      "9 neib - 142.77783010916744\n",
      "10 neib - 140.71401820517806\n"
     ]
    }
   ],
   "source": [
    "for i in range(1,11):\n",
    "    NN_1n = KNNRegressor(i, metric='flattened_overlap', mode = 'distance')\n",
    "    NN_1n.fit(X_categ_train[:1000], y_train[:1000])\n",
    "    a =  NN_1n.predict(X_categ_test[:100], n_neighbors=10)\n",
    "    print(i, 'neib -', np.sqrt(np.sum(np.square((a - y_test['price'][:100]))) / len(a)))"
   ]
  },
  {
   "cell_type": "code",
   "execution_count": 1671,
   "metadata": {},
   "outputs": [
    {
     "name": "stdout",
     "output_type": "stream",
     "text": [
      " 20 neib - 140.82608678575107\n",
      " 50 neib - 138.32146880590346\n"
     ]
    }
   ],
   "source": [
    "NN_20n = KNNRegressor(20, metric='flattened_overlap', mode = 'distance')\n",
    "NN_20n.fit(X_categ_train[:1000], y_train[:1000])\n",
    "a =  NN_20n.predict(X_categ_test[:100], n_neighbors=10)\n",
    "print(' 20 neib -', np.sqrt(np.sum(np.square((a - y_test['price'][:100]))) / len(a)))\n",
    "NN_50n = KNNRegressor(50, metric='flattened_overlap', mode = 'distance')\n",
    "NN_50n.fit(X_categ_train[:1000], y_train[:1000])\n",
    "a =  NN_50n.predict(X_categ_test[:100], n_neighbors=10)\n",
    "print(' 50 neib -', np.sqrt(np.sum(np.square((a - y_test['price'][:100]))) / len(a)))"
   ]
  },
  {
   "cell_type": "code",
   "execution_count": 1317,
   "metadata": {},
   "outputs": [
    {
     "name": "stdout",
     "output_type": "stream",
     "text": [
      "1 neib - 145.77180797397006\n",
      "2 neib - 126.42608253046947\n",
      "3 neib - 131.59549431591142\n",
      "4 neib - 131.14017262252247\n",
      "5 neib - 134.14805045564944\n",
      "6 neib - 135.37239833905585\n",
      "7 neib - 136.79696494586145\n",
      "8 neib - 137.92630288601717\n",
      "9 neib - 138.90246672974547\n",
      "10 neib - 137.27906437406048\n"
     ]
    }
   ],
   "source": [
    "for i in range(1,11):\n",
    "    NN_1n = KNNRegressor(i, metric='log_overlap', mode = 'distance')\n",
    "    NN_1n.fit(X_categ_train[:1000], y_train[:1000])\n",
    "    a =  NN_1n.predict(X_categ_test[:100], n_neighbors=10)\n",
    "    print(i, 'neib -', np.sqrt(np.sum(np.square((a - y_test['price'][:100]))) / len(a)))"
   ]
  },
  {
   "cell_type": "code",
   "execution_count": 1673,
   "metadata": {},
   "outputs": [
    {
     "name": "stdout",
     "output_type": "stream",
     "text": [
      " 20 neib - 138.66749512194363\n",
      " 50 neib - 138.52475654526032\n"
     ]
    }
   ],
   "source": [
    "NN_20 = KNNRegressor(20, metric='log_overlap', mode = 'distance')\n",
    "NN_20.fit(X_categ_train[:1000], y_train[:1000])\n",
    "a =  NN_20.predict(X_categ_test[:100], n_neighbors=10)\n",
    "print(' 20 neib -', np.sqrt(np.sum(np.square((a - y_test['price'][:100]))) / len(a)))\n",
    "NN_50 = KNNRegressor(50, metric='log_overlap', mode = 'distance')\n",
    "NN_50.fit(X_categ_train[:1000], y_train[:1000])\n",
    "a =  NN_50.predict(X_categ_test[:100], n_neighbors=10)\n",
    "print(' 50 neib -', np.sqrt(np.sum(np.square((a - y_test['price'][:100]))) / len(a)))"
   ]
  },
  {
   "cell_type": "markdown",
   "metadata": {},
   "source": [
    "Для обычного overlap лучшее качество достигается на 5-ти соседях\n",
    "\n",
    "для log_overlap и flattened_overlap на двух соседях.\n",
    "\n",
    "Лучшее качество, которого удалось достичь на выборке из 1000 train и 100 тест - отклонение порядка 125. Здесь мы считали в цикле, для нескольких значений k, поэтому брали не очень большую выборку."
   ]
  },
  {
   "cell_type": "markdown",
   "metadata": {},
   "source": [
    "**2.4 (2.5 балла)** Отойдем ненадолго от задачи регрессии и перейдём к задаче классификации: будем определять, являеться ли квартира дорогой $(target = 1)$ или дешевой $(target = 0)$. Будем считать дорогими квариры, цена которых выше среднего."
   ]
  },
  {
   "cell_type": "code",
   "execution_count": 1371,
   "metadata": {},
   "outputs": [],
   "source": [
    "data['target'] = (data.price > data.price.mean()).astype(int)"
   ]
  },
  {
   "cell_type": "markdown",
   "metadata": {},
   "source": [
    "Реализуйте счетчики, которые заменят категориальные признаки на вещественные.\n",
    "\n",
    "А именно, для каждого категориального признака $f_j(x)$ необходимо сделать следующее:\n",
    "\n",
    "Число counts объектов в обучающей выборке с таким же значением признака.$$\\begin{align}\n",
    "counts_j(c) = \\sum_{i=1}^l [f_j(x_i) = c]\n",
    "\\end{align}$$\n",
    "Число successes объектов первого класса ($y = 1$) в обучающей выборке с таким же значением признака.$$\\begin{align}\n",
    "successes_j(c) = \\sum_{i=1}^l[f_j(x_i) = c][y_i = +1].\n",
    "\\end{align}$$\n",
    "Сглаженное отношение двух предыдущих величин:$$\\begin{align}\n",
    "p_j(c) = \\frac{successes_j(c) + a}{counts_j(c) + b},\n",
    "\\end{align}$$\n",
    "где $a$ и $b$ - априорные счетчики (например, a = 1, b = 2)."
   ]
  },
  {
   "cell_type": "code",
   "execution_count": 239,
   "metadata": {},
   "outputs": [],
   "source": [
    "def counters(x):\n",
    "    counts = np.zeros_like(x)\n",
    "    for i in (np.unique(x)):\n",
    "        counts[np.where(x == i)[0]] = len(np.where(x == i)[0])\n",
    "    #print('c -',counts)\n",
    "    succ = np.zeros_like(x)\n",
    "    for i in (np.unique(x)): \n",
    "        succ[np.where(x == i)[0]] = np.sum(data['target'][(np.where(x == i)[0])])\n",
    "    result = (succ + 1) / (counts + 2)\n",
    "\n",
    "    # Ваш код здесь\n",
    "    return result"
   ]
  },
  {
   "cell_type": "markdown",
   "metadata": {},
   "source": [
    "Поскольку признаки, содержащие информацию о целевой переменной, могут привести к переобучению, может оказаться полезным сделать фолдинг: разбить обучающую выборку на $n$ частей, и для $i$-й части считать counts и successes по всем остальным частям. Для тестовой выборки используются счетчики, посчитанный по всей обучающей выборке. Реализуйте и такой вариант. Достаточно взять $n = 3$."
   ]
  },
  {
   "cell_type": "code",
   "execution_count": 240,
   "metadata": {},
   "outputs": [],
   "source": [
    "def fold_counters(x, test=False):\n",
    "    if type(test) != bool:\n",
    "        counts = np.zeros_like(test)\n",
    "        succ = np.zeros_like(test)\n",
    "        for i in (np.unique(test)):\n",
    "            counts[np.where(test == i)[0]] = len(np.where(x == i)[0])\n",
    "        for i in (np.unique(test)):\n",
    "            succ[np.where(test == i)[0]] = np.sum(data['target'][(np.where(x == i)[0])])    \n",
    "        return (succ + 1) / (counts + 2)\n",
    "            \n",
    "    lx = len(x) //3\n",
    "    x1 = x[:lx]\n",
    "    x2 = x[lx: 2*lx]\n",
    "    x3 = x[2*lx:]\n",
    "    counts1 = np.zeros_like(x1)\n",
    "    counts2 = np.zeros_like(x1)\n",
    "    for i in (np.unique(x1)):\n",
    "        counts1[np.where(x1 == i)[0]] = len(np.where(x2 == i)[0])\n",
    "        counts2[np.where(x1 == i)[0]] = len(np.where(x3 == i)[0])\n",
    "    counts1 += counts2\n",
    "    succ1 = np.zeros_like(x1)\n",
    "    succ2 = np.zeros_like(x1)\n",
    "    for i in (np.unique(x1)):\n",
    "        succ1[np.where(x1 == i)[0]] = np.sum(data['target'][lx + (np.where(x2 == i)[0])])\n",
    "        succ2[np.where(x1 == i)[0]] = np.sum(data['target'][2*lx + (np.where(x3 == i)[0])])\n",
    "    succ1 += succ2\n",
    "    #------------------------------------------------------\n",
    "    counts3 = np.zeros_like(x2)\n",
    "    counts4 = np.zeros_like(x2)\n",
    "    for i in (np.unique(x2)):\n",
    "        counts3[np.where(x2 == i)[0]] = len(np.where(x1 == i)[0])\n",
    "        counts4[np.where(x2 == i)[0]] = len(np.where(x3 == i)[0])\n",
    "    counts3 += counts4\n",
    "    succ3 = np.zeros_like(x2)\n",
    "    succ4 = np.zeros_like(x2)\n",
    "    for i in (np.unique(x2)):\n",
    "        succ3[np.where(x2 == i)[0]] = np.sum(data['target'][(np.where(x1 == i)[0])])\n",
    "        succ4[np.where(x2 == i)[0]] = np.sum(data['target'][2*lx+(np.where(x3 == i)[0])])\n",
    "    succ3 += succ4\n",
    "    #------------------------------------------------------\n",
    "    counts5 = np.zeros_like(x3)\n",
    "    counts6 = np.zeros_like(x3)\n",
    "    for i in (np.unique(x3)):\n",
    "        counts5[np.where(x3 == i)[0]] = len(np.where(x1 == i)[0])\n",
    "        counts6[np.where(x3 == i)[0]] = len(np.where(x2 == i)[0])\n",
    "    counts5 += counts6\n",
    "    succ5 = np.zeros_like(x3)\n",
    "    succ6 = np.zeros_like(x3)\n",
    "    for i in (np.unique(x3)):\n",
    "        succ5[np.where(x3 == i)[0]] = np.sum(data['target'][(np.where(x1 == i)[0])])\n",
    "        succ6[np.where(x3 == i)[0]] = np.sum(data['target'][lx+(np.where(x2 == i)[0])])\n",
    "    succ5 += succ6\n",
    "    counts = np.concatenate((counts1, counts3, counts5))\n",
    "    succ = np.concatenate((succ1, succ3, succ5))\n",
    "    #print(succ[-20:])\n",
    "    #print(counts[-20:])\n",
    "    result = (succ + 1) / (counts + 2)\n",
    "    return result"
   ]
  },
  {
   "cell_type": "code",
   "execution_count": 1681,
   "metadata": {},
   "outputs": [
    {
     "data": {
      "text/plain": [
       "array([0.3116883116883117, 0.2977667493796526, 0.29163636363636364, ...,\n",
       "       0.2837100545596259, 0.26, 0.2936378466557912], dtype=object)"
      ]
     },
     "execution_count": 1681,
     "metadata": {},
     "output_type": "execute_result"
    }
   ],
   "source": [
    "fold_counters(X_train['neighbourhood'], X_test['neighbourhood'])"
   ]
  },
  {
   "cell_type": "markdown",
   "metadata": {},
   "source": [
    "\n",
    "Посчитайте на тесте AUC-ROC метода $k$ ближайших соседей с евклидовой метрикой для выборки, где категориальные признаки заменены на счетчики. Сравните по AUC-ROC два варианта формирования выборки — с фолдингом и без. Не забудьте подобрать наилучшее число соседей $k$."
   ]
  },
  {
   "cell_type": "code",
   "execution_count": 2006,
   "metadata": {},
   "outputs": [],
   "source": [
    "col1_train = counters(X_train['neighbourhood_group'])[:, np.newaxis]\n",
    "col2_train = counters(X_train['neighbourhood'])[:, np.newaxis]\n",
    "col3_train = counters(X_train['room_type'])[:, np.newaxis]\n",
    "col1_test = fold_counters(X_train['neighbourhood_group'], X_test['neighbourhood_group'])[:, np.newaxis]\n",
    "col2_test = fold_counters(X_train['neighbourhood'], X_test['neighbourhood'])[:, np.newaxis]\n",
    "col3_test = fold_counters(X_train['room_type'], X_test['room_type'])[:, np.newaxis]\n",
    "\n",
    "matr_tr = np.concatenate((col1_train, col2_train, col3_train), axis=1)\n",
    "matr_test = np.concatenate((col1_test, col2_test, col3_test), axis=1)"
   ]
  },
  {
   "cell_type": "code",
   "execution_count": 2007,
   "metadata": {},
   "outputs": [],
   "source": [
    "mart_c = np.concatenate((matr_tr, matr_test), axis=0)"
   ]
  },
  {
   "cell_type": "code",
   "execution_count": 2008,
   "metadata": {
    "scrolled": true
   },
   "outputs": [
    {
     "data": {
      "text/plain": [
       "array([[0.28429211405816684, 0.29133858267716534, 0.2855123674911661],\n",
       "       [0.29280021078980306, 0.32786885245901637, 0.2904527117884357],\n",
       "       [0.28557038529337697, 0.30036630036630035, 0.2855123674911661],\n",
       "       ...,\n",
       "       [0.29280021078980306, 0.2837100545596259, 0.2904527117884357],\n",
       "       [0.28429211405816684, 0.26, 0.2855123674911661],\n",
       "       [0.29280021078980306, 0.2936378466557912, 0.2904527117884357]],\n",
       "      dtype=object)"
      ]
     },
     "execution_count": 2008,
     "metadata": {},
     "output_type": "execute_result"
    }
   ],
   "source": [
    "mart_c"
   ]
  },
  {
   "cell_type": "code",
   "execution_count": 2138,
   "metadata": {},
   "outputs": [],
   "source": [
    "MDF = pd.DataFrame(mart_c, columns=['neighbourhood_group', 'neighbourhood', 'room_type'])"
   ]
  },
  {
   "cell_type": "code",
   "execution_count": 2139,
   "metadata": {},
   "outputs": [],
   "source": [
    "data = pd.read_csv('AB_NYC_2019.csv')"
   ]
  },
  {
   "cell_type": "code",
   "execution_count": 2140,
   "metadata": {},
   "outputs": [],
   "source": [
    "data['target'] = (data.price > data.price.mean()).astype(int)"
   ]
  },
  {
   "cell_type": "code",
   "execution_count": 2141,
   "metadata": {},
   "outputs": [],
   "source": [
    "data['reviews_per_month'].fillna(0,inplace = True)"
   ]
  },
  {
   "cell_type": "code",
   "execution_count": 2142,
   "metadata": {},
   "outputs": [],
   "source": [
    "data_2 = data.drop('neighbourhood_group', axis = 1)"
   ]
  },
  {
   "cell_type": "code",
   "execution_count": 2143,
   "metadata": {},
   "outputs": [],
   "source": [
    "data_2 = data_2.drop('neighbourhood', axis = 1)"
   ]
  },
  {
   "cell_type": "code",
   "execution_count": 2144,
   "metadata": {},
   "outputs": [],
   "source": [
    "data_2 = data_2.drop('room_type', axis = 1)"
   ]
  },
  {
   "cell_type": "code",
   "execution_count": 2145,
   "metadata": {},
   "outputs": [],
   "source": [
    "data_2 = data_2.drop('name', axis = 1)"
   ]
  },
  {
   "cell_type": "code",
   "execution_count": 2146,
   "metadata": {},
   "outputs": [],
   "source": [
    "data_2 = data_2.drop('host_name', axis = 1)"
   ]
  },
  {
   "cell_type": "code",
   "execution_count": 2147,
   "metadata": {},
   "outputs": [],
   "source": [
    "data_2 = data_2.drop('last_review', axis = 1)"
   ]
  },
  {
   "cell_type": "code",
   "execution_count": 2148,
   "metadata": {},
   "outputs": [],
   "source": [
    "data_2 = data_2.drop('host_id', axis = 1)"
   ]
  },
  {
   "cell_type": "code",
   "execution_count": 2149,
   "metadata": {},
   "outputs": [],
   "source": [
    "data_2 = data_2.drop('id', axis = 1)"
   ]
  },
  {
   "cell_type": "code",
   "execution_count": 2150,
   "metadata": {},
   "outputs": [],
   "source": [
    "data_2 = data_2.drop('price', axis = 1)"
   ]
  },
  {
   "cell_type": "code",
   "execution_count": 2151,
   "metadata": {
    "scrolled": true
   },
   "outputs": [],
   "source": [
    "data_2 = pd.concat([data_2, MDF], axis=1)"
   ]
  },
  {
   "cell_type": "code",
   "execution_count": 2343,
   "metadata": {},
   "outputs": [
    {
     "data": {
      "text/html": [
       "<div>\n",
       "<style scoped>\n",
       "    .dataframe tbody tr th:only-of-type {\n",
       "        vertical-align: middle;\n",
       "    }\n",
       "\n",
       "    .dataframe tbody tr th {\n",
       "        vertical-align: top;\n",
       "    }\n",
       "\n",
       "    .dataframe thead th {\n",
       "        text-align: right;\n",
       "    }\n",
       "</style>\n",
       "<table border=\"1\" class=\"dataframe\">\n",
       "  <thead>\n",
       "    <tr style=\"text-align: right;\">\n",
       "      <th></th>\n",
       "      <th>latitude</th>\n",
       "      <th>longitude</th>\n",
       "      <th>minimum_nights</th>\n",
       "      <th>number_of_reviews</th>\n",
       "      <th>reviews_per_month</th>\n",
       "      <th>calculated_host_listings_count</th>\n",
       "      <th>availability_365</th>\n",
       "      <th>target</th>\n",
       "      <th>neighbourhood_group</th>\n",
       "      <th>neighbourhood</th>\n",
       "      <th>room_type</th>\n",
       "    </tr>\n",
       "  </thead>\n",
       "  <tbody>\n",
       "    <tr>\n",
       "      <th>0</th>\n",
       "      <td>40.64749</td>\n",
       "      <td>-73.97237</td>\n",
       "      <td>1</td>\n",
       "      <td>9</td>\n",
       "      <td>0.21</td>\n",
       "      <td>6</td>\n",
       "      <td>365</td>\n",
       "      <td>0</td>\n",
       "      <td>0.284292</td>\n",
       "      <td>0.291339</td>\n",
       "      <td>0.285512</td>\n",
       "    </tr>\n",
       "    <tr>\n",
       "      <th>1</th>\n",
       "      <td>40.75362</td>\n",
       "      <td>-73.98377</td>\n",
       "      <td>1</td>\n",
       "      <td>45</td>\n",
       "      <td>0.38</td>\n",
       "      <td>2</td>\n",
       "      <td>355</td>\n",
       "      <td>1</td>\n",
       "      <td>0.2928</td>\n",
       "      <td>0.327869</td>\n",
       "      <td>0.290453</td>\n",
       "    </tr>\n",
       "    <tr>\n",
       "      <th>2</th>\n",
       "      <td>40.80902</td>\n",
       "      <td>-73.94190</td>\n",
       "      <td>3</td>\n",
       "      <td>0</td>\n",
       "      <td>0.00</td>\n",
       "      <td>1</td>\n",
       "      <td>365</td>\n",
       "      <td>0</td>\n",
       "      <td>0.28557</td>\n",
       "      <td>0.300366</td>\n",
       "      <td>0.285512</td>\n",
       "    </tr>\n",
       "    <tr>\n",
       "      <th>3</th>\n",
       "      <td>40.68514</td>\n",
       "      <td>-73.95976</td>\n",
       "      <td>1</td>\n",
       "      <td>270</td>\n",
       "      <td>4.64</td>\n",
       "      <td>1</td>\n",
       "      <td>194</td>\n",
       "      <td>0</td>\n",
       "      <td>0.2928</td>\n",
       "      <td>0.293638</td>\n",
       "      <td>0.290453</td>\n",
       "    </tr>\n",
       "    <tr>\n",
       "      <th>4</th>\n",
       "      <td>40.79851</td>\n",
       "      <td>-73.94399</td>\n",
       "      <td>10</td>\n",
       "      <td>9</td>\n",
       "      <td>0.10</td>\n",
       "      <td>1</td>\n",
       "      <td>0</td>\n",
       "      <td>0</td>\n",
       "      <td>0.2928</td>\n",
       "      <td>0.28371</td>\n",
       "      <td>0.290453</td>\n",
       "    </tr>\n",
       "    <tr>\n",
       "      <th>...</th>\n",
       "      <td>...</td>\n",
       "      <td>...</td>\n",
       "      <td>...</td>\n",
       "      <td>...</td>\n",
       "      <td>...</td>\n",
       "      <td>...</td>\n",
       "      <td>...</td>\n",
       "      <td>...</td>\n",
       "      <td>...</td>\n",
       "      <td>...</td>\n",
       "      <td>...</td>\n",
       "    </tr>\n",
       "    <tr>\n",
       "      <th>48890</th>\n",
       "      <td>40.67853</td>\n",
       "      <td>-73.94995</td>\n",
       "      <td>2</td>\n",
       "      <td>0</td>\n",
       "      <td>0.00</td>\n",
       "      <td>2</td>\n",
       "      <td>9</td>\n",
       "      <td>0</td>\n",
       "      <td>0.2928</td>\n",
       "      <td>0.313144</td>\n",
       "      <td>0.290453</td>\n",
       "    </tr>\n",
       "    <tr>\n",
       "      <th>48891</th>\n",
       "      <td>40.70184</td>\n",
       "      <td>-73.93317</td>\n",
       "      <td>4</td>\n",
       "      <td>0</td>\n",
       "      <td>0.00</td>\n",
       "      <td>2</td>\n",
       "      <td>36</td>\n",
       "      <td>0</td>\n",
       "      <td>0.2928</td>\n",
       "      <td>0.277992</td>\n",
       "      <td>0.290453</td>\n",
       "    </tr>\n",
       "    <tr>\n",
       "      <th>48892</th>\n",
       "      <td>40.81475</td>\n",
       "      <td>-73.94867</td>\n",
       "      <td>10</td>\n",
       "      <td>0</td>\n",
       "      <td>0.00</td>\n",
       "      <td>1</td>\n",
       "      <td>27</td>\n",
       "      <td>0</td>\n",
       "      <td>0.2928</td>\n",
       "      <td>0.28371</td>\n",
       "      <td>0.290453</td>\n",
       "    </tr>\n",
       "    <tr>\n",
       "      <th>48893</th>\n",
       "      <td>40.75751</td>\n",
       "      <td>-73.99112</td>\n",
       "      <td>1</td>\n",
       "      <td>0</td>\n",
       "      <td>0.00</td>\n",
       "      <td>6</td>\n",
       "      <td>2</td>\n",
       "      <td>0</td>\n",
       "      <td>0.284292</td>\n",
       "      <td>0.26</td>\n",
       "      <td>0.285512</td>\n",
       "    </tr>\n",
       "    <tr>\n",
       "      <th>48894</th>\n",
       "      <td>40.76404</td>\n",
       "      <td>-73.98933</td>\n",
       "      <td>7</td>\n",
       "      <td>0</td>\n",
       "      <td>0.00</td>\n",
       "      <td>1</td>\n",
       "      <td>23</td>\n",
       "      <td>0</td>\n",
       "      <td>0.2928</td>\n",
       "      <td>0.293638</td>\n",
       "      <td>0.290453</td>\n",
       "    </tr>\n",
       "  </tbody>\n",
       "</table>\n",
       "<p>48895 rows × 11 columns</p>\n",
       "</div>"
      ],
      "text/plain": [
       "       latitude  longitude  minimum_nights  number_of_reviews  \\\n",
       "0      40.64749  -73.97237               1                  9   \n",
       "1      40.75362  -73.98377               1                 45   \n",
       "2      40.80902  -73.94190               3                  0   \n",
       "3      40.68514  -73.95976               1                270   \n",
       "4      40.79851  -73.94399              10                  9   \n",
       "...         ...        ...             ...                ...   \n",
       "48890  40.67853  -73.94995               2                  0   \n",
       "48891  40.70184  -73.93317               4                  0   \n",
       "48892  40.81475  -73.94867              10                  0   \n",
       "48893  40.75751  -73.99112               1                  0   \n",
       "48894  40.76404  -73.98933               7                  0   \n",
       "\n",
       "       reviews_per_month  calculated_host_listings_count  availability_365  \\\n",
       "0                   0.21                               6               365   \n",
       "1                   0.38                               2               355   \n",
       "2                   0.00                               1               365   \n",
       "3                   4.64                               1               194   \n",
       "4                   0.10                               1                 0   \n",
       "...                  ...                             ...               ...   \n",
       "48890               0.00                               2                 9   \n",
       "48891               0.00                               2                36   \n",
       "48892               0.00                               1                27   \n",
       "48893               0.00                               6                 2   \n",
       "48894               0.00                               1                23   \n",
       "\n",
       "       target neighbourhood_group neighbourhood room_type  \n",
       "0           0            0.284292      0.291339  0.285512  \n",
       "1           1              0.2928      0.327869  0.290453  \n",
       "2           0             0.28557      0.300366  0.285512  \n",
       "3           0              0.2928      0.293638  0.290453  \n",
       "4           0              0.2928       0.28371  0.290453  \n",
       "...       ...                 ...           ...       ...  \n",
       "48890       0              0.2928      0.313144  0.290453  \n",
       "48891       0              0.2928      0.277992  0.290453  \n",
       "48892       0              0.2928       0.28371  0.290453  \n",
       "48893       0            0.284292          0.26  0.285512  \n",
       "48894       0              0.2928      0.293638  0.290453  \n",
       "\n",
       "[48895 rows x 11 columns]"
      ]
     },
     "execution_count": 2343,
     "metadata": {},
     "output_type": "execute_result"
    }
   ],
   "source": [
    "data_2"
   ]
  },
  {
   "cell_type": "code",
   "execution_count": 2153,
   "metadata": {
    "scrolled": true
   },
   "outputs": [],
   "source": [
    "from sklearn.model_selection import train_test_split\n",
    "X2_train, X2_test, y2_train, y2_test = train_test_split(data_2.drop(columns=['target']), data_2[['target']],\n",
    "                                                    test_size=0.3, random_state=241, shuffle=False)"
   ]
  },
  {
   "cell_type": "code",
   "execution_count": 2154,
   "metadata": {},
   "outputs": [],
   "source": [
    "from sklearn.neighbors import KNeighborsClassifier"
   ]
  },
  {
   "cell_type": "code",
   "execution_count": 2155,
   "metadata": {},
   "outputs": [],
   "source": [
    "KNN = KNeighborsClassifier(n_neighbors=3,  metric='euclidean')"
   ]
  },
  {
   "cell_type": "code",
   "execution_count": 2156,
   "metadata": {},
   "outputs": [
    {
     "data": {
      "text/plain": [
       "KNeighborsClassifier(metric='euclidean', n_neighbors=3)"
      ]
     },
     "execution_count": 2156,
     "metadata": {},
     "output_type": "execute_result"
    }
   ],
   "source": [
    "KNN.fit(X2_train, y2_train['target'])"
   ]
  },
  {
   "cell_type": "code",
   "execution_count": 2157,
   "metadata": {},
   "outputs": [],
   "source": [
    "y_scores = KNN.predict(X2_test)"
   ]
  },
  {
   "cell_type": "code",
   "execution_count": 2159,
   "metadata": {},
   "outputs": [
    {
     "data": {
      "text/plain": [
       "0.5723119079881487"
      ]
     },
     "execution_count": 2159,
     "metadata": {},
     "output_type": "execute_result"
    }
   ],
   "source": [
    "import numpy as np\n",
    "from sklearn.metrics import roc_auc_score\n",
    "y_true = y2_test['target'].to_numpy()\n",
    "roc_auc_score(y_true, y_scores)"
   ]
  },
  {
   "cell_type": "code",
   "execution_count": 2160,
   "metadata": {
    "scrolled": true
   },
   "outputs": [
    {
     "name": "stdout",
     "output_type": "stream",
     "text": [
      "1 -neib 0.5698203904551015\n",
      "2 -neib 0.570683246250706\n",
      "3 -neib 0.5723119079881487\n",
      "4 -neib 0.5659406160617343\n",
      "5 -neib 0.56667460204088\n",
      "6 -neib 0.5644898549658076\n",
      "7 -neib 0.5657726475435505\n",
      "8 -neib 0.567693873292289\n",
      "9 -neib 0.5661582142232219\n",
      "10 -neib 0.5646765417164255\n",
      "11 -neib 0.5639932591236464\n",
      "12 -neib 0.5636958942419248\n",
      "13 -neib 0.5638333230295296\n",
      "14 -neib 0.5630461041731478\n",
      "15 -neib 0.5609633317156981\n",
      "16 -neib 0.5631774105604034\n",
      "17 -neib 0.5659247164048407\n",
      "18 -neib 0.5616266055194771\n",
      "19 -neib 0.5625007356172427\n",
      "20 -neib 0.5640096440298089\n"
     ]
    }
   ],
   "source": [
    "for i in range(1,21):\n",
    "    KNN = KNeighborsClassifier(n_neighbors=i,  metric='euclidean')\n",
    "    KNN.fit(X2_train, y2_train['target'])\n",
    "    y_scores = KNN.predict(X2_test)\n",
    "    y_true = y2_test['target'].to_numpy()\n",
    "    print(i, '-neib', roc_auc_score(y_true, y_scores))"
   ]
  },
  {
   "cell_type": "markdown",
   "metadata": {},
   "source": [
    "лучший результат достигается на трёх соседях"
   ]
  },
  {
   "cell_type": "code",
   "execution_count": 2089,
   "metadata": {},
   "outputs": [
    {
     "name": "stdout",
     "output_type": "stream",
     "text": [
      "1 -neib 0.6530086597496619\n",
      "2 -neib 0.6543998840019095\n",
      "3 -neib 0.6647421078659851\n",
      "4 -neib 0.6660302906991923\n",
      "5 -neib 0.7049336764143718\n",
      "6 -neib 0.6929792538727042\n",
      "7 -neib 0.758457486026232\n",
      "8 -neib 0.7331184322101708\n",
      "9 -neib 0.7400461901156224\n",
      "10 -neib 0.7332958104957139\n",
      "11 -neib 0.75735348340091\n",
      "12 -neib 0.7369057711867664\n",
      "13 -neib 0.760359690936498\n",
      "14 -neib 0.7526405987065253\n",
      "15 -neib 0.7582368748103332\n",
      "16 -neib 0.7542334702390803\n",
      "17 -neib 0.7590646071238272\n",
      "18 -neib 0.7542869060529491\n",
      "19 -neib 0.7588064532588845\n",
      "20 -neib 0.7569895365302192\n"
     ]
    }
   ],
   "source": [
    "from sklearn.neighbors import KNeighborsClassifier\n",
    "import numpy as np\n",
    "from sklearn.metrics import roc_auc_score\n",
    "for i in range(1,21):\n",
    "    KNN = KNeighborsClassifier(n_neighbors=i,  metric='euclidean')\n",
    "    KNN.fit(matr_tr, y2_train['target'])\n",
    "    y_scores = KNN.predict(matr_test)\n",
    "    y_true = y2_test['target'].to_numpy()\n",
    "    print(i, '-neib', roc_auc_score(y_true,y_scores))"
   ]
  },
  {
   "cell_type": "markdown",
   "metadata": {},
   "source": [
    "Точность стала выше, когда мы запускаем roc_auc_score только для закодированных (трех) признаков "
   ]
  },
  {
   "cell_type": "markdown",
   "metadata": {},
   "source": [
    "**сделаем это еще раз для выборки с фолдигами и сравним результаты**"
   ]
  },
  {
   "cell_type": "code",
   "execution_count": 2161,
   "metadata": {},
   "outputs": [],
   "source": [
    "data = pd.read_csv('AB_NYC_2019.csv')"
   ]
  },
  {
   "cell_type": "code",
   "execution_count": 2162,
   "metadata": {},
   "outputs": [],
   "source": [
    "from sklearn.model_selection import train_test_split\n",
    "X_train, X_test, y_train, y_test = train_test_split(data.drop(columns=['price']), data[['price']],\n",
    "                                                    test_size=0.3, random_state=241)"
   ]
  },
  {
   "cell_type": "code",
   "execution_count": 2163,
   "metadata": {},
   "outputs": [],
   "source": [
    "data['target'] = (data.price > data.price.mean()).astype(int)"
   ]
  },
  {
   "cell_type": "code",
   "execution_count": 2164,
   "metadata": {},
   "outputs": [],
   "source": [
    "fcol1_train = fold_counters(X_train['neighbourhood_group'])[:, np.newaxis]\n",
    "fcol2_train = fold_counters(X_train['neighbourhood'])[:, np.newaxis]\n",
    "fcol3_train = fold_counters(X_train['room_type'])[:, np.newaxis]\n",
    "fcol1_test = fold_counters(X_train['neighbourhood_group'], X_test['neighbourhood_group'])[:, np.newaxis]\n",
    "fcol2_test = fold_counters(X_train['neighbourhood'], X_test['neighbourhood'])[:, np.newaxis]\n",
    "fcol3_test = fold_counters(X_train['room_type'], X_test['room_type'])[:, np.newaxis]\n",
    "\n",
    "fmatr_tr = np.concatenate((fcol1_train, fcol2_train, fcol3_train), axis=1)\n",
    "fmatr_test = np.concatenate((fcol1_test, fcol2_test, fcol3_test), axis=1)"
   ]
  },
  {
   "cell_type": "code",
   "execution_count": 2165,
   "metadata": {},
   "outputs": [],
   "source": [
    "fmart_c = np.concatenate((fmatr_tr, fmatr_test), axis=0)"
   ]
  },
  {
   "cell_type": "code",
   "execution_count": 2166,
   "metadata": {},
   "outputs": [],
   "source": [
    "FMDF = pd.DataFrame(fmart_c, columns=['neighbourhood_group', 'neighbourhood', 'room_type'])"
   ]
  },
  {
   "cell_type": "code",
   "execution_count": 2167,
   "metadata": {},
   "outputs": [],
   "source": [
    "data_3 = data.drop('neighbourhood_group', axis = 1)\n",
    "data_3 = data_3.drop('neighbourhood', axis = 1)\n",
    "data_3 = data_3.drop('room_type', axis = 1)\n",
    "data_3 = data_3.drop('name', axis = 1)\n",
    "data_3 = data_3.drop('host_name', axis = 1)\n",
    "data_3 = data_3.drop('last_review', axis = 1)\n",
    "data_3 = data_3.drop('host_id', axis = 1)\n",
    "data_3 = data_3.drop('id', axis = 1)\n",
    "data_3 = data_3.drop('price', axis = 1)\n",
    "#data_3 = data_3.drop('reviews_per_month', axis = 1)"
   ]
  },
  {
   "cell_type": "code",
   "execution_count": 2168,
   "metadata": {},
   "outputs": [],
   "source": [
    "data_3 = pd.concat([data_3, FMDF], axis=1)"
   ]
  },
  {
   "cell_type": "code",
   "execution_count": 2171,
   "metadata": {},
   "outputs": [],
   "source": [
    "data_3['reviews_per_month'].fillna(0,inplace = True)"
   ]
  },
  {
   "cell_type": "code",
   "execution_count": 2180,
   "metadata": {
    "scrolled": true
   },
   "outputs": [],
   "source": [
    "#data_3"
   ]
  },
  {
   "cell_type": "code",
   "execution_count": 2178,
   "metadata": {},
   "outputs": [],
   "source": [
    "from sklearn.model_selection import train_test_split\n",
    "X3_train, X3_test, y3_train, y3_test = train_test_split(data_3.drop(columns=['target']), data_3[['target']],\n",
    "                                                    test_size=0.3, random_state=241)"
   ]
  },
  {
   "cell_type": "code",
   "execution_count": 2174,
   "metadata": {},
   "outputs": [],
   "source": [
    "from sklearn.neighbors import KNeighborsClassifier\n",
    "KNN = KNeighborsClassifier(n_neighbors=3,  metric='euclidean')\n",
    "KNN.fit(X3_train, y3_train['target'])\n",
    "y_scores = KNN.predict(X3_test)"
   ]
  },
  {
   "cell_type": "code",
   "execution_count": 2084,
   "metadata": {},
   "outputs": [
    {
     "name": "stdout",
     "output_type": "stream",
     "text": [
      "1 -neib 0.5752048050012135\n",
      "2 -neib 0.5714134377016775\n",
      "3 -neib 0.5903549093391802\n",
      "4 -neib 0.5758738588124319\n",
      "5 -neib 0.5882820620276323\n",
      "6 -neib 0.5735941692248719\n",
      "7 -neib 0.5862967922178259\n",
      "8 -neib 0.5728573823552499\n",
      "9 -neib 0.5817112509562864\n",
      "10 -neib 0.5755201808633352\n",
      "11 -neib 0.5792473481418007\n",
      "12 -neib 0.5702036090515668\n",
      "13 -neib 0.5756305525093656\n",
      "14 -neib 0.5640206506362307\n",
      "15 -neib 0.5737851843741396\n",
      "16 -neib 0.5654521030861489\n",
      "17 -neib 0.5739716208831255\n",
      "18 -neib 0.5678818311937215\n",
      "19 -neib 0.5738124250825487\n",
      "20 -neib 0.5664230719973135\n"
     ]
    }
   ],
   "source": [
    "import numpy as np\n",
    "from sklearn.metrics import roc_auc_score\n",
    "for i in range(1,21):\n",
    "    KNN = KNeighborsClassifier(n_neighbors=i,  metric='euclidean')\n",
    "    KNN.fit(X3_train, y3_train['target'])\n",
    "    y_scores = KNN.predict(X3_test)\n",
    "    y_true = y3_test['target'].to_numpy()\n",
    "    print(i, '-neib', roc_auc_score(y_true, y_scores))"
   ]
  },
  {
   "cell_type": "markdown",
   "metadata": {},
   "source": [
    "Лучший результат достигается также на третьем тесте"
   ]
  },
  {
   "cell_type": "markdown",
   "metadata": {},
   "source": [
    "Результат без фолдов получился немного лучше, но не значительно. Стоит учесть, что результат различается несильно, из-за того, что есть остальные столбцы, значения которых могут быть большими. До запуска мы счиаем евклидовые расстояния. Т.к. значения векторов-счетчиков меньше единицы (доли), то и основной вклад в разницу расстояний будут вносить вектора с большими значениями (у нас все не нормировано). Если убрать остальные признаки, то получается точность выше.\n",
    "Первый вариант без фолдов на тестовой выборке показал себя немного лучше, поскольку признаки, содержат информацию о переменной.  Это может привести к переобучению. Но это улучшение качества, вероятно, достигается только на тестовой выборке."
   ]
  },
  {
   "cell_type": "markdown",
   "metadata": {},
   "source": [
    "**2.5 (1 балл)** Вернемся к задаче регрессии. Утверждается, что для задачи регрессии можно также сделать преобразование категориальных признаков в действительные числа. Для этого достаточно для каждого значения признака $f_j$ вычислить:$$\\begin{align}\n",
    "p_j(c) = g(T_i | f_j(x_i) = c),\n",
    "\\end{align}$$\n",
    "\n",
    "где $T_i$ - значения целевой переменной объекта $x_i$. Функция $g$ - среднее (mean) или среднеквадратичное отклонение (std).\n",
    "\n",
    "Закодируйте категориальные признаки обоими способами и найдите значение RMSE. Используйте евклидову метрику для поиска ближайших соседей. Для какой функции $g$ значение RMSE лучше? Почему?"
   ]
  },
  {
   "cell_type": "code",
   "execution_count": 216,
   "metadata": {},
   "outputs": [],
   "source": [
    "X_train, X_test, y_train, y_test = train_test_split(data.drop(columns=['price']), data[['price']],\n",
    "                                                    test_size=0.3, random_state=241)"
   ]
  },
  {
   "cell_type": "code",
   "execution_count": 217,
   "metadata": {},
   "outputs": [
    {
     "data": {
      "text/plain": [
       "89.544"
      ]
     },
     "execution_count": 217,
     "metadata": {},
     "output_type": "execute_result"
    }
   ],
   "source": [
    "np.mean(y_train[X_train['neighbourhood'] =='Kensington']['price'])"
   ]
  },
  {
   "cell_type": "code",
   "execution_count": 218,
   "metadata": {},
   "outputs": [],
   "source": [
    "def fmean(x):\n",
    "    counts = np.zeros_like(x)\n",
    "    for i in (np.unique(x)):\n",
    "        counts[x == i] = np.mean(y_train[x == i]['price'])\n",
    "        #np.mean(y_train(np.where(x == i)[0])['price'])\n",
    "    return counts"
   ]
  },
  {
   "cell_type": "code",
   "execution_count": 219,
   "metadata": {},
   "outputs": [],
   "source": [
    "def fmeantest(x, x_train_start, x_train_fin):\n",
    "    counts = np.zeros_like(x)\n",
    "    for i in (np.unique(x)):\n",
    "        if i not in (np.unique(x_train_start)):\n",
    "            counts[x == i] = 0\n",
    "        else:\n",
    "            counts[np.where(x == i)[0]] = x_train_fin[np.where(x_train_start == i)[0]][0]\n",
    "    return counts"
   ]
  },
  {
   "cell_type": "code",
   "execution_count": 220,
   "metadata": {},
   "outputs": [],
   "source": [
    "#print(fmeantest(X_test['neighbourhood'], X_train['neighbourhood'],fmean(X_train['neighbourhood'])))"
   ]
  },
  {
   "cell_type": "code",
   "execution_count": 221,
   "metadata": {},
   "outputs": [],
   "source": [
    "#print(fmean(X_train['neighbourhood']))"
   ]
  },
  {
   "cell_type": "code",
   "execution_count": 244,
   "metadata": {},
   "outputs": [],
   "source": [
    "def fstd(x):\n",
    "    counts = np.zeros_like(x)\n",
    "    for i in (np.unique(x)):\n",
    "        counts[x == i] = np.std(y_train[x == i]['price'])\n",
    "        #np.mean(y_train(np.where(x == i)[0])['price'])\n",
    "    return counts"
   ]
  },
  {
   "cell_type": "code",
   "execution_count": 245,
   "metadata": {},
   "outputs": [],
   "source": [
    "def fstdtest(x, x_train_start, x_train_fin):\n",
    "    counts = np.zeros_like(x)\n",
    "    for i in (np.unique(x)):\n",
    "        if i not in (np.unique(x_train_start)):\n",
    "            counts[x == i] = 0\n",
    "        else:\n",
    "            counts[np.where(x == i)[0]] = x_train_fin[np.where(x_train_start == i)[0]][0]\n",
    "    return counts"
   ]
  },
  {
   "cell_type": "code",
   "execution_count": 224,
   "metadata": {},
   "outputs": [
    {
     "name": "stdout",
     "output_type": "stream",
     "text": [
      "[65.00676937058171 276.96172496173136 44.79094379586234 ...\n",
      " 159.4740267229481 140.7952800521732 117.62792566064748]\n"
     ]
    }
   ],
   "source": [
    "print(fstd(X_train['neighbourhood']))"
   ]
  },
  {
   "cell_type": "code",
   "execution_count": 225,
   "metadata": {},
   "outputs": [],
   "source": [
    "data5 = pd.read_csv('AB_NYC_2019.csv')\n",
    "data5['reviews_per_month'].fillna(0,inplace = True)\n",
    "#data5"
   ]
  },
  {
   "cell_type": "code",
   "execution_count": 226,
   "metadata": {},
   "outputs": [],
   "source": [
    "data5 = data5.drop('name', axis = 1)\n",
    "data5 = data5.drop('id', axis = 1)\n",
    "#data5"
   ]
  },
  {
   "cell_type": "code",
   "execution_count": 227,
   "metadata": {},
   "outputs": [],
   "source": [
    "data5 = data5.drop('last_review', axis = 1)\n",
    "data5 = data5.drop('host_id', axis = 1)\n"
   ]
  },
  {
   "cell_type": "code",
   "execution_count": 228,
   "metadata": {
    "scrolled": true
   },
   "outputs": [],
   "source": [
    "#data5"
   ]
  },
  {
   "cell_type": "code",
   "execution_count": 229,
   "metadata": {},
   "outputs": [],
   "source": [
    "data5['host_name'].fillna('host_name', inplace = True)"
   ]
  },
  {
   "cell_type": "code",
   "execution_count": 235,
   "metadata": {},
   "outputs": [],
   "source": [
    "X5_train, X5_test, y5_train, y5_test = train_test_split(data5.drop(columns=['price']), data[['price']],\n",
    "                                                    test_size=0.3, random_state=241)"
   ]
  },
  {
   "cell_type": "code",
   "execution_count": 236,
   "metadata": {},
   "outputs": [],
   "source": [
    "Trhost_name = fmean(X5_train['host_name'])\n",
    "Trneighbourhood_group = fmean(X5_train['neighbourhood_group'])\n",
    "Trroom_type = fmean(X5_train['room_type'])\n",
    "Trneighbourhood = fmean(X5_train['neighbourhood'])"
   ]
  },
  {
   "cell_type": "code",
   "execution_count": null,
   "metadata": {},
   "outputs": [],
   "source": [
    "Testhost_name = fmeantest(X5_test['host_name'], X5_train['host_name'], Trhost_name)\n",
    "Testneighbourhood_group = fmeantest(X5_test['neighbourhood_group'], X5_train['neighbourhood_group'], Trneighbourhood_group)\n",
    "Testroom_type = fmeantest(X5_test['room_type'], X5_train['room_type'], Trroom_type)\n",
    "Testneighbourhood = fmeantest(X5_test['neighbourhood'], X5_train['neighbourhood'], Trneighbourhood)"
   ]
  },
  {
   "cell_type": "code",
   "execution_count": 2317,
   "metadata": {},
   "outputs": [
    {
     "data": {
      "text/plain": [
       "(34226,)"
      ]
     },
     "execution_count": 2317,
     "metadata": {},
     "output_type": "execute_result"
    }
   ],
   "source": [
    "Trneighbourhood.shape"
   ]
  },
  {
   "cell_type": "code",
   "execution_count": 2318,
   "metadata": {},
   "outputs": [],
   "source": [
    "X_train_new = np.concatenate((Trhost_name[:, np.newaxis], Trneighbourhood_group[:, np.newaxis], Trroom_type[:, np.newaxis], Trneighbourhood[:, np.newaxis]), axis=1)\n",
    "X_test_new = np.concatenate((Testhost_name[:, np.newaxis], Testneighbourhood_group[:, np.newaxis], Testroom_type[:, np.newaxis], Testneighbourhood[:, np.newaxis]), axis=1)"
   ]
  },
  {
   "cell_type": "code",
   "execution_count": 2312,
   "metadata": {},
   "outputs": [],
   "source": [
    "from sklearn.metrics import mean_squared_error"
   ]
  },
  {
   "cell_type": "code",
   "execution_count": 2322,
   "metadata": {},
   "outputs": [
    {
     "name": "stdout",
     "output_type": "stream",
     "text": [
      "1 neib - 324.1397902972792\n",
      "2 neib - 285.01616961343564\n",
      "3 neib - 273.930261422408\n",
      "4 neib - 271.31714827814966\n",
      "5 neib - 269.3361575069521\n",
      "6 neib - 268.156534639916\n",
      "7 neib - 267.1540150473472\n",
      "8 neib - 266.3239229533166\n",
      "9 neib - 265.78207603094125\n",
      "10 neib - 265.1257391315668\n",
      "11 neib - 264.64222297454455\n",
      "12 neib - 264.243708870886\n",
      "13 neib - 263.89391494253556\n",
      "14 neib - 263.52482205840704\n",
      "15 neib - 263.1097908592495\n",
      "16 neib - 262.72647373462934\n",
      "17 neib - 262.4934116238737\n",
      "18 neib - 262.107418028118\n",
      "19 neib - 261.9335905854942\n",
      "20 neib - 261.6230521776449\n",
      "21 neib - 261.3148738861297\n",
      "22 neib - 260.95728249196713\n",
      "23 neib - 260.76537315452214\n",
      "24 neib - 260.4945566047932\n",
      "25 neib - 260.2160424015455\n",
      "26 neib - 259.9649555488757\n",
      "27 neib - 259.7860270928837\n",
      "28 neib - 259.6193580628382\n",
      "29 neib - 259.3853222537472\n",
      "30 neib - 259.1958757056155\n"
     ]
    }
   ],
   "source": [
    "for i in range(1,31):\n",
    "    NN_tn = KNNRegressor(i, metric='euclidean', mode = 'distance')\n",
    "    NN_tn.fit(X_train_new, y_train)\n",
    "    a = NN_tn.predict(X_test_new, n_neighbors=10)\n",
    "    print(i, 'neib -', np.sqrt(mean_squared_error(a, y_test['price'])))"
   ]
  },
  {
   "cell_type": "markdown",
   "metadata": {},
   "source": [
    "это был mean"
   ]
  },
  {
   "cell_type": "markdown",
   "metadata": {},
   "source": [
    "**теперь сделаем для std и сравним результаты**"
   ]
  },
  {
   "cell_type": "code",
   "execution_count": 2326,
   "metadata": {},
   "outputs": [],
   "source": [
    "Tr_tsd_host_name = fstd(X5_train['host_name'])\n",
    "Tr_std_neighbourhood_group = fstd(X5_train['neighbourhood_group'])\n",
    "Tr_std_room_type = fstd(X5_train['room_type'])\n",
    "Tr_std_neighbourhood = fstd(X5_train['neighbourhood'])"
   ]
  },
  {
   "cell_type": "code",
   "execution_count": 2328,
   "metadata": {},
   "outputs": [],
   "source": [
    "Test_std_host_name = fstdtest(X5_test['host_name'], X5_train['host_name'], Tr_tsd_host_name)\n",
    "Test_std_neighbourhood_group = fstdtest(X5_test['neighbourhood_group'], X5_train['neighbourhood_group'], Tr_std_neighbourhood_group)\n",
    "Test_std_room_type = fstdtest(X5_test['room_type'], X5_train['room_type'], Tr_std_room_type)\n",
    "Test_std_neighbourhood = fstdtest(X5_test['neighbourhood'], X5_train['neighbourhood'], Tr_std_neighbourhood)"
   ]
  },
  {
   "cell_type": "code",
   "execution_count": 2330,
   "metadata": {},
   "outputs": [],
   "source": [
    "X_train_new_std = np.concatenate((Tr_tsd_host_name[:, np.newaxis], Tr_std_neighbourhood_group[:, np.newaxis], Tr_std_room_type[:, np.newaxis], Tr_std_neighbourhood[:, np.newaxis]), axis=1)\n",
    "X_test_new_std = np.concatenate((Test_std_host_name[:, np.newaxis], Test_std_neighbourhood_group[:, np.newaxis], Test_std_room_type[:, np.newaxis], Test_std_neighbourhood[:, np.newaxis]), axis=1)"
   ]
  },
  {
   "cell_type": "code",
   "execution_count": 2331,
   "metadata": {},
   "outputs": [
    {
     "name": "stdout",
     "output_type": "stream",
     "text": [
      "1 neib - 266.52943272701145\n",
      "2 neib - 245.60188206228523\n",
      "3 neib - 241.1942027240818\n",
      "4 neib - 241.943658932572\n",
      "5 neib - 239.74774617480992\n",
      "6 neib - 241.38231873880545\n",
      "7 neib - 239.95305633178003\n",
      "8 neib - 239.70979587966735\n",
      "9 neib - 238.5521045168453\n",
      "10 neib - 237.722745545395\n",
      "11 neib - 237.37726440898481\n",
      "12 neib - 236.77581854568092\n",
      "13 neib - 236.31078274837193\n",
      "14 neib - 236.47071573155446\n",
      "15 neib - 236.34708869252884\n",
      "16 neib - 236.20190494966246\n",
      "17 neib - 235.93135566933572\n",
      "18 neib - 235.78293085550396\n",
      "19 neib - 235.58491811675225\n",
      "20 neib - 235.4175357202529\n",
      "21 neib - 237.11399706152568\n",
      "22 neib - 236.81070759754815\n",
      "23 neib - 236.55219859812507\n",
      "24 neib - 236.33866454914323\n",
      "25 neib - 236.1496782625926\n",
      "26 neib - 236.0466033461123\n",
      "27 neib - 235.9246626275156\n",
      "28 neib - 235.7917062811332\n",
      "29 neib - 235.62534470033785\n",
      "30 neib - 235.43890011132805\n"
     ]
    }
   ],
   "source": [
    "for i in range(1,31):\n",
    "    NN_ts = KNNRegressor(i, metric='euclidean', mode = 'distance')\n",
    "    NN_ts.fit(X_train_new_std, y_train)\n",
    "    a = NN_ts.predict(X_test_new_std, n_neighbors=10)\n",
    "    print(i, 'neib -', np.sqrt(mean_squared_error(a, y_test['price'])))"
   ]
  },
  {
   "cell_type": "markdown",
   "metadata": {},
   "source": [
    "Для функции 𝑔 - среднеквадратичное отклонение значение RMSE оказалось лучше.\n",
    "\n",
    "Это может быть связано с тем, что std лучше опознает выбросы, чем mean. "
   ]
  },
  {
   "cell_type": "code",
   "execution_count": 2333,
   "metadata": {},
   "outputs": [
    {
     "name": "stdout",
     "output_type": "stream",
     "text": [
      "1 neib std -  266.52943272701145 324.1397902972792 - mean\n",
      "2 neib std -  245.60188206228523 285.01616961343564 - mean\n",
      "3 neib std -  241.1942027240818 273.930261422408 - mean\n",
      "4 neib std -  241.943658932572 271.31714827814966 - mean\n",
      "5 neib std -  239.74774617480992 269.3361575069521 - mean\n",
      "6 neib std -  241.38231873880545 268.156534639916 - mean\n",
      "7 neib std -  239.95305633178003 267.1540150473472 - mean\n",
      "8 neib std -  239.70979587966735 266.3239229533166 - mean\n",
      "9 neib std -  238.5521045168453 265.78207603094125 - mean\n",
      "10 neib std -  237.722745545395 265.1257391315668 - mean\n",
      "11 neib std -  237.37726440898481 264.64222297454455 - mean\n",
      "12 neib std -  236.77581854568092 264.243708870886 - mean\n",
      "13 neib std -  236.31078274837193 263.89391494253556 - mean\n",
      "14 neib std -  236.47071573155446 263.52482205840704 - mean\n",
      "15 neib std -  236.34708869252884 263.1097908592495 - mean\n",
      "16 neib std -  236.20190494966246 262.72647373462934 - mean\n",
      "17 neib std -  235.93135566933572 262.4934116238737 - mean\n",
      "18 neib std -  235.78293085550396 262.107418028118 - mean\n",
      "19 neib std -  235.58491811675225 261.9335905854942 - mean\n",
      "20 neib std -  235.4175357202529 261.6230521776449 - mean\n",
      "21 neib std -  237.11399706152568 261.3148738861297 - mean\n",
      "22 neib std -  236.81070759754815 260.95728249196713 - mean\n",
      "23 neib std -  236.55219859812507 260.76537315452214 - mean\n",
      "24 neib std -  236.33866454914323 260.4945566047932 - mean\n",
      "25 neib std -  236.1496782625926 260.2160424015455 - mean\n",
      "26 neib std -  236.0466033461123 259.9649555488757 - mean\n",
      "27 neib std -  235.9246626275156 259.7860270928837 - mean\n",
      "28 neib std -  235.7917062811332 259.6193580628382 - mean\n",
      "29 neib std -  235.62534470033785 259.3853222537472 - mean\n",
      "30 neib std -  235.43890011132805 259.1958757056155 - mean\n"
     ]
    }
   ],
   "source": [
    "for i in range(1,31):\n",
    "    NN_tn = KNNRegressor(i, metric='euclidean', mode = 'distance')\n",
    "    NN_tn.fit(X_train_new, y_train)\n",
    "    a1 = NN_tn.predict(X_test_new, n_neighbors=10)\n",
    "    NN_ts = KNNRegressor(i, metric='euclidean', mode = 'distance')\n",
    "    NN_ts.fit(X_train_new_std, y_train)\n",
    "    a = NN_ts.predict(X_test_new_std, n_neighbors=10)\n",
    "    print(i, 'neib std - ', np.sqrt(mean_squared_error(a, y_test['price'])),np.sqrt(mean_squared_error(a1, y_test['price'])), '- mean')"
   ]
  },
  {
   "cell_type": "markdown",
   "metadata": {},
   "source": [
    "**cреднеквадратичное отклонение (std) показало себя лучше, чем mean**\n"
   ]
  },
  {
   "cell_type": "markdown",
   "metadata": {},
   "source": [
    "\n",
    "## Часть 3: Текстовые признаки ##\n",
    "\n",
    "**3.1 (2 балла)** Перейдем от категориальным признаков к текстовым. Рассмотрим 2 способа преобразования текста в действительные числа:\n",
    "\n",
    "Мешок слов (Bag of Words)\n",
    "TF-IDF\n",
    "Здесь вы можете прочитать про их применение в Питоне.\n",
    "\n",
    "Сравните оба способа на задаче регресси. Какую лучше метрику использовать: евклидову или косинусную меру? Постройте графики зависимости качества решения задачи от способа преобразования, метрики и количества соседей. Мера качества - RMSE.\n",
    "\n",
    "Объясните полученные результаты.\n",
    "\n",
    "Перед преобразованием не забудьте уменьшить размер словаря. Например, это можно сделать за счет приведения всех слов к одному регистру и удаления стопслов (артиклей, предлогов, союзов). Можно использовать использовать, например, библиотеку nltk."
   ]
  },
  {
   "cell_type": "code",
   "execution_count": 143,
   "metadata": {},
   "outputs": [],
   "source": [
    "from sklearn.feature_extraction.text import CountVectorizer"
   ]
  },
  {
   "cell_type": "code",
   "execution_count": 157,
   "metadata": {},
   "outputs": [
    {
     "data": {
      "text/plain": [
       "(48895, 16)"
      ]
     },
     "execution_count": 157,
     "metadata": {},
     "output_type": "execute_result"
    }
   ],
   "source": [
    "data.shape"
   ]
  },
  {
   "cell_type": "code",
   "execution_count": 158,
   "metadata": {},
   "outputs": [
    {
     "data": {
      "text/plain": [
       "CountVectorizer()"
      ]
     },
     "execution_count": 158,
     "metadata": {},
     "output_type": "execute_result"
    }
   ],
   "source": [
    "vectorizer = CountVectorizer()\n",
    "vectorizer"
   ]
  },
  {
   "cell_type": "code",
   "execution_count": 151,
   "metadata": {},
   "outputs": [
    {
     "data": {
      "text/plain": [
       "<48895x8057 sparse matrix of type '<class 'numpy.int64'>'\n",
       "\twith 280359 stored elements in Compressed Sparse Row format>"
      ]
     },
     "execution_count": 151,
     "metadata": {},
     "output_type": "execute_result"
    }
   ],
   "source": [
    "corpus = data['name']\n",
    "X = vectorizer.fit_transform(corpus)\n",
    "X"
   ]
  },
  {
   "cell_type": "code",
   "execution_count": 152,
   "metadata": {},
   "outputs": [
    {
     "data": {
      "text/plain": [
       "array([[0, 0, 0, ..., 0, 0, 0],\n",
       "       [0, 0, 0, ..., 0, 0, 0],\n",
       "       [0, 0, 0, ..., 0, 0, 0],\n",
       "       ...,\n",
       "       [0, 0, 0, ..., 0, 0, 0],\n",
       "       [0, 0, 0, ..., 0, 0, 0],\n",
       "       [0, 0, 0, ..., 0, 0, 0]], dtype=int64)"
      ]
     },
     "execution_count": 152,
     "metadata": {},
     "output_type": "execute_result"
    }
   ],
   "source": [
    "X.toarray()"
   ]
  },
  {
   "cell_type": "code",
   "execution_count": 153,
   "metadata": {},
   "outputs": [
    {
     "data": {
      "text/plain": [
       "48895"
      ]
     },
     "execution_count": 153,
     "metadata": {},
     "output_type": "execute_result"
    }
   ],
   "source": [
    "X.toarray().shape[0]"
   ]
  },
  {
   "cell_type": "code",
   "execution_count": 154,
   "metadata": {},
   "outputs": [],
   "source": [
    "X_train_txt = X.toarray()[:34226]"
   ]
  },
  {
   "cell_type": "code",
   "execution_count": 155,
   "metadata": {},
   "outputs": [
    {
     "data": {
      "text/plain": [
       "(34226, 8057)"
      ]
     },
     "execution_count": 155,
     "metadata": {},
     "output_type": "execute_result"
    }
   ],
   "source": [
    "X_train_txt.shape"
   ]
  },
  {
   "cell_type": "code",
   "execution_count": 53,
   "metadata": {},
   "outputs": [],
   "source": [
    "X_test_txt = X.toarray()[34226:]"
   ]
  },
  {
   "cell_type": "code",
   "execution_count": 55,
   "metadata": {},
   "outputs": [
    {
     "data": {
      "text/plain": [
       "(14669, 8057)"
      ]
     },
     "execution_count": 55,
     "metadata": {},
     "output_type": "execute_result"
    }
   ],
   "source": [
    "X_test_txt.shape"
   ]
  },
  {
   "cell_type": "code",
   "execution_count": 56,
   "metadata": {},
   "outputs": [],
   "source": [
    "Y_train_txt = data['price'][:34226]"
   ]
  },
  {
   "cell_type": "code",
   "execution_count": 58,
   "metadata": {},
   "outputs": [
    {
     "data": {
      "text/plain": [
       "(34226,)"
      ]
     },
     "execution_count": 58,
     "metadata": {},
     "output_type": "execute_result"
    }
   ],
   "source": [
    "Y_train_txt.shape"
   ]
  },
  {
   "cell_type": "code",
   "execution_count": 59,
   "metadata": {},
   "outputs": [],
   "source": [
    "Y_test_txt = data['price'][34226:]"
   ]
  },
  {
   "cell_type": "code",
   "execution_count": 60,
   "metadata": {},
   "outputs": [
    {
     "data": {
      "text/plain": [
       "(14669,)"
      ]
     },
     "execution_count": 60,
     "metadata": {},
     "output_type": "execute_result"
    }
   ],
   "source": [
    "Y_test_txt.shape"
   ]
  },
  {
   "cell_type": "code",
   "execution_count": 366,
   "metadata": {},
   "outputs": [],
   "source": [
    "from typing import Union, Callable, Iterable, Optional\n",
    "from sklearn.neighbors import NearestNeighbors\n",
    "\n",
    "\n",
    "class KNNRegressor_2:\n",
    "    def __init__(self, n_neighbors: int, metric: Union[str, Callable], mode: str = 'uniform'):\n",
    "        \"\"\"\n",
    "        params:\n",
    "            n_neighbors: number of neighbors\n",
    "            metric: metric to use for distance computation\n",
    "            mode: 'uniform' or 'distance'\n",
    "            'uniform' - all points in each neighborhood are weighted equally\n",
    "            'distance' - weight points by the inverse of their distance\n",
    "        \"\"\"\n",
    "        if metric == 'overlap':\n",
    "            self.__nn = NearestNeighbors(n_neighbors=n_neighbors, metric=overlap)#pyfunc \n",
    "        elif metric == 'flattened_overlap':\n",
    "            self.__nn = NearestNeighbors(n_neighbors=n_neighbors, metric=flattened_overlap, algorithm = 'brute')\n",
    "        elif metric == 'log_overlap':\n",
    "            self.__nn = NearestNeighbors(n_neighbors=n_neighbors, metric=log_overlap, algorithm = 'brute')\n",
    "        else:\n",
    "            self.__nn = NearestNeighbors(n_neighbors=n_neighbors, metric=metric, algorithm = 'brute')#pyfunc\n",
    "        self.__mode = mode\n",
    "        self.__n_neighbors = n_neighbors\n",
    "\n",
    "    def fit(self, X: np.array, y: np.array) -> None:\n",
    "        \"\"\"\n",
    "            X: data\n",
    "            y: labels\n",
    "        \"\"\"\n",
    "        self.__nn.fit(X, y)\n",
    "        self.X = X\n",
    "        self.Y = y\n",
    "        #pass\n",
    "\n",
    "    def predict(self, X: np.array, n_neighbors: Optional[int] = None) -> np.array:\n",
    "        \"\"\"\n",
    "            X: data\n",
    "            n_neighbors: number of neighbors\n",
    "        \"\"\"\n",
    "        if self.__mode == 'distance':\n",
    "            dist = self.__nn.kneighbors(X, self.__n_neighbors, return_distance = True)[0]\n",
    "            ind =  self.__nn.kneighbors(X, self.__n_neighbors, return_distance = True)[1]               \n",
    "            pred = np.sum(np.array(list(self.Y))[ind.reshape(-1)].reshape(ind.shape[0], -1)* 1/(dist+0.00005), axis=1)/np.sum(1/(dist+0.00005), axis=1)\n",
    "        else:\n",
    "            ind =  self.__nn.kneighbors(X, self.__n_neighbors, return_distance = False)\n",
    "            #print(ind)\n",
    "            pred = np.sum(np.array(list(self.Y))[ind.reshape(-1)].reshape(ind.shape[0], -1), axis=1) / self.__n_neighbors\n",
    "        # Ваш код здесь\n",
    "        return pred\n",
    "        #pass"
   ]
  },
  {
   "cell_type": "code",
   "execution_count": 79,
   "metadata": {},
   "outputs": [],
   "source": [
    "choice = np.random.choice(X.toarray().shape[1], 1000, replace = False)"
   ]
  },
  {
   "cell_type": "code",
   "execution_count": 81,
   "metadata": {},
   "outputs": [
    {
     "data": {
      "text/plain": [
       "(1000,)"
      ]
     },
     "execution_count": 81,
     "metadata": {},
     "output_type": "execute_result"
    }
   ],
   "source": [
    "choice.shape"
   ]
  },
  {
   "cell_type": "code",
   "execution_count": 194,
   "metadata": {},
   "outputs": [],
   "source": [
    "from sklearn.metrics import mean_squared_error\n",
    "l = []\n",
    "for i in range(1, 31):\n",
    "    TEXT = KNNRegressor_2(i, metric='euclidean', mode = 'distance')\n",
    "    TEXT.fit(X_train_txt[:10000, choice], Y_train_txt)\n",
    "    a = TEXT.predict(X_test_txt[:1000, choice], n_neighbors=10)\n",
    "    l = np.append(l, np.sqrt(mean_squared_error(a, Y_test_txt[:1000])))"
   ]
  },
  {
   "cell_type": "code",
   "execution_count": 197,
   "metadata": {
    "scrolled": true
   },
   "outputs": [
    {
     "data": {
      "text/plain": [
       "array([209.28075162, 197.63074972, 192.51418712, 191.55701747,\n",
       "       192.12950822, 189.63050823, 189.9000497 , 190.73291138,\n",
       "       190.4124272 , 189.20110085, 189.34366866, 189.05397715,\n",
       "       188.31038144, 188.42128166, 188.1738889 , 188.00888576,\n",
       "       188.29177472, 188.00318698, 188.07959159, 187.79446015,\n",
       "       188.07108737, 188.09330079, 187.84117072, 187.633846  ,\n",
       "       187.88296803, 187.98926605, 188.00615796, 188.15700406,\n",
       "       188.21974276, 187.626776  ])"
      ]
     },
     "execution_count": 197,
     "metadata": {},
     "output_type": "execute_result"
    }
   ],
   "source": [
    "l"
   ]
  },
  {
   "cell_type": "code",
   "execution_count": 198,
   "metadata": {},
   "outputs": [],
   "source": [
    "from sklearn.metrics import mean_squared_error\n",
    "lcos = []\n",
    "for i in range(1, 31):\n",
    "    TEXT = KNNRegressor_2(i, metric='cosine', mode = 'distance')\n",
    "    TEXT.fit(X_train_txt[:10000, choice], Y_train_txt)\n",
    "    a = TEXT.predict(X_test_txt[:1000, choice], n_neighbors=10)\n",
    "    lcos = np.append(lcos, np.sqrt(mean_squared_error(a, Y_test_txt[:1000])))"
   ]
  },
  {
   "cell_type": "code",
   "execution_count": 176,
   "metadata": {
    "scrolled": true
   },
   "outputs": [],
   "source": [
    "#lcos"
   ]
  },
  {
   "cell_type": "code",
   "execution_count": 115,
   "metadata": {},
   "outputs": [],
   "source": [
    "import matplotlib.pyplot as plt\n"
   ]
  },
  {
   "cell_type": "code",
   "execution_count": 199,
   "metadata": {},
   "outputs": [
    {
     "data": {
      "image/png": "[encoded data removed]",
      "text/plain": [
       "<Figure size 540x288 with 1 Axes>"
      ]
     },
     "metadata": {
      "needs_background": "light"
     },
     "output_type": "display_data"
    }
   ],
   "source": [
    "fig, ax = plt.subplots()\n",
    "x1 = np.arange(1, 31)\n",
    "y1 = l[x1-1]\n",
    "x2 = np.arange(1, 31) \n",
    "y2 = lcos[x2-1]\n",
    "x3 = [1, 15, 25]\n",
    "y3 = [180, 200, 220]\n",
    "ax.scatter(x1, y1, label ='euclidean', s=25)\n",
    "ax.scatter(x2, y2, label ='cosine', s = 25)\n",
    "#ax.plot.scatter(x3, y3, label ='our')\n",
    "\n",
    "fig.suptitle('показатели точности от количества соседей (Bag of Words)', fontsize= 14)\n",
    "ax.set_ylabel('RMSE', size = 16)\n",
    "ax.set_xlabel('количество соседей', size = 16)\n",
    "ax.legend()\n",
    "ax.grid()\n",
    "fig.set_figwidth(7.5)    \n",
    "fig.set_figheight(4) \n",
    "#plt.savefig('C:/Users/User/Jupiter_notebook/strategy_10_20_50_100.pdf')\n",
    "plt.show()"
   ]
  },
  {
   "cell_type": "code",
   "execution_count": 163,
   "metadata": {},
   "outputs": [
    {
     "data": {
      "text/plain": [
       "TfidfTransformer(smooth_idf=False)"
      ]
     },
     "execution_count": 163,
     "metadata": {},
     "output_type": "execute_result"
    }
   ],
   "source": [
    "from sklearn.feature_extraction.text import TfidfTransformer\n",
    "transformer = TfidfTransformer(smooth_idf=False)\n",
    "transformer"
   ]
  },
  {
   "cell_type": "code",
   "execution_count": 156,
   "metadata": {},
   "outputs": [
    {
     "data": {
      "text/plain": [
       "CountVectorizer()"
      ]
     },
     "execution_count": 156,
     "metadata": {},
     "output_type": "execute_result"
    }
   ],
   "source": [
    "vectorizer = CountVectorizer()\n",
    "vectorizer"
   ]
  },
  {
   "cell_type": "code",
   "execution_count": 159,
   "metadata": {},
   "outputs": [
    {
     "data": {
      "text/plain": [
       "<48895x8057 sparse matrix of type '<class 'numpy.int64'>'\n",
       "\twith 280359 stored elements in Compressed Sparse Row format>"
      ]
     },
     "execution_count": 159,
     "metadata": {},
     "output_type": "execute_result"
    }
   ],
   "source": [
    "corpus = data['name']\n",
    "X = vectorizer.fit_transform(corpus)\n",
    "X"
   ]
  },
  {
   "cell_type": "code",
   "execution_count": 160,
   "metadata": {},
   "outputs": [
    {
     "data": {
      "text/plain": [
       "array([[0, 0, 0, ..., 0, 0, 0],\n",
       "       [0, 0, 0, ..., 0, 0, 0],\n",
       "       [0, 0, 0, ..., 0, 0, 0],\n",
       "       ...,\n",
       "       [0, 0, 0, ..., 0, 0, 0],\n",
       "       [0, 0, 0, ..., 0, 0, 0],\n",
       "       [0, 0, 0, ..., 0, 0, 0]], dtype=int64)"
      ]
     },
     "execution_count": 160,
     "metadata": {},
     "output_type": "execute_result"
    }
   ],
   "source": [
    "X.toarray()"
   ]
  },
  {
   "cell_type": "code",
   "execution_count": 164,
   "metadata": {},
   "outputs": [
    {
     "data": {
      "text/plain": [
       "<48895x8057 sparse matrix of type '<class 'numpy.float64'>'\n",
       "\twith 280359 stored elements in Compressed Sparse Row format>"
      ]
     },
     "execution_count": 164,
     "metadata": {},
     "output_type": "execute_result"
    }
   ],
   "source": [
    "trX = transformer.fit_transform(X.toarray())\n",
    "trX"
   ]
  },
  {
   "cell_type": "code",
   "execution_count": 167,
   "metadata": {},
   "outputs": [],
   "source": [
    "trX_train_txt = trX.toarray()[:34226]\n",
    "trX_test_txt = trX.toarray()[34226:]\n",
    "trY_train_txt = data['price'][:34226]\n",
    "trY_test_txt = data['price'][34226:]"
   ]
  },
  {
   "cell_type": "code",
   "execution_count": 168,
   "metadata": {},
   "outputs": [],
   "source": [
    "choice = np.random.choice(trX.toarray().shape[1], 1000, replace = False)"
   ]
  },
  {
   "cell_type": "code",
   "execution_count": 200,
   "metadata": {},
   "outputs": [],
   "source": [
    "from sklearn.metrics import mean_squared_error\n",
    "tl = []\n",
    "for i in range(1, 31):\n",
    "    TEXT = KNNRegressor_2(i, metric='euclidean', mode = 'distance')\n",
    "    TEXT.fit(trX_train_txt[:10000, choice], trY_train_txt)\n",
    "    a = TEXT.predict(trX_test_txt[:1000, choice], n_neighbors=10)\n",
    "    tl = np.append(tl, np.sqrt(mean_squared_error(a, trY_test_txt[:1000])))"
   ]
  },
  {
   "cell_type": "code",
   "execution_count": 201,
   "metadata": {},
   "outputs": [
    {
     "data": {
      "text/plain": [
       "array([224.18789218, 207.39505063, 199.75942901, 197.0360063 ,\n",
       "       196.82787943, 193.08701276, 192.67000386, 193.17332927,\n",
       "       192.71604093, 191.91166844, 191.5344181 , 190.80783727,\n",
       "       190.29558164, 190.51765907, 191.06522493, 191.16880334,\n",
       "       191.2032513 , 191.00789088, 190.83836883, 190.6978352 ,\n",
       "       190.78887616, 190.64132306, 190.57887492, 190.35232452,\n",
       "       190.23894446, 190.22590236, 190.12247045, 189.93724908,\n",
       "       189.94343797, 189.9023462 ])"
      ]
     },
     "execution_count": 201,
     "metadata": {},
     "output_type": "execute_result"
    }
   ],
   "source": [
    "tl"
   ]
  },
  {
   "cell_type": "code",
   "execution_count": 202,
   "metadata": {},
   "outputs": [],
   "source": [
    "from sklearn.metrics import mean_squared_error\n",
    "tlcos = []\n",
    "for i in range(1, 31):\n",
    "    TEXT = KNNRegressor_2(i, metric='cosine', mode = 'distance')\n",
    "    TEXT.fit(trX_train_txt[:10000, choice], trY_train_txt)\n",
    "    a = TEXT.predict(trX_test_txt[:1000, choice], n_neighbors=10)\n",
    "    tlcos = np.append(tlcos, np.sqrt(mean_squared_error(a, trY_test_txt[:1000])))"
   ]
  },
  {
   "cell_type": "code",
   "execution_count": 203,
   "metadata": {},
   "outputs": [
    {
     "data": {
      "text/plain": [
       "array([189.55895653, 193.73850901, 191.36647257, 226.32945032,\n",
       "       209.36485034, 210.03276935, 205.00773198, 202.64793562,\n",
       "       200.76724982, 197.19096972, 194.56160488, 192.8908507 ,\n",
       "       192.38432215, 192.61337419, 192.98134999, 192.76077234,\n",
       "       192.29754417, 191.15869897, 191.45117826, 190.68926126,\n",
       "       190.31611815, 190.07496654, 189.84869034, 189.75458079,\n",
       "       189.67460862, 189.56844077, 189.52156137, 189.23608373,\n",
       "       189.16336624, 189.10906119])"
      ]
     },
     "execution_count": 203,
     "metadata": {},
     "output_type": "execute_result"
    }
   ],
   "source": [
    "tlcos"
   ]
  },
  {
   "cell_type": "code",
   "execution_count": 256,
   "metadata": {},
   "outputs": [
    {
     "data": {
      "image/png": "[encoded data removed]",
      "text/plain": [
       "<Figure size 540x288 with 1 Axes>"
      ]
     },
     "metadata": {
      "needs_background": "light"
     },
     "output_type": "display_data"
    }
   ],
   "source": [
    "fig, ax = plt.subplots()\n",
    "x1 = np.arange(1, 31)\n",
    "y1 = tl[x1-1]\n",
    "x2 = np.arange(1, 31) \n",
    "y2 = tlcos[x2-1]\n",
    "ax.scatter(x1, y1, label ='euclidean', s=25)\n",
    "ax.scatter(x2, y2, label ='cosine', s = 25)\n",
    "#ax.plot.scatter(x3, y3, label ='our')\n",
    "\n",
    "fig.suptitle('показатели точности от количества соседей TF-IDF', fontsize= 14)\n",
    "ax.set_ylabel('RMSE', size = 16)\n",
    "ax.set_xlabel('количество соседей', size = 16)\n",
    "ax.legend()\n",
    "ax.grid()\n",
    "fig.set_figwidth(7.5)    \n",
    "fig.set_figheight(4) \n",
    "#plt.savefig('C:/Users/User/Jupiter_notebook/strategy_10_20_50_100.pdf')\n",
    "plt.show()"
   ]
  },
  {
   "cell_type": "code",
   "execution_count": 211,
   "metadata": {},
   "outputs": [
    {
     "data": {
      "image/png": "[encoded data removed]",
      "text/plain": [
       "<Figure size 540x288 with 1 Axes>"
      ]
     },
     "metadata": {
      "needs_background": "light"
     },
     "output_type": "display_data"
    }
   ],
   "source": [
    "fig, ax = plt.subplots()\n",
    "x1 = np.arange(1, 31)\n",
    "y1 = l[x1-1]\n",
    "x2 = np.arange(1, 31) \n",
    "y2 = tl[x2-1]\n",
    "ax.scatter(x1, y1, label ='euclidean Bag of words', s=25)\n",
    "ax.scatter(x2, y2, label ='euclidean TF-IDF', s = 25)\n",
    "#ax.plot.scatter(x3, y3, label ='our')\n",
    "\n",
    "fig.suptitle('показатели точности Bag of words, TF-IDF', fontsize= 14)\n",
    "ax.set_ylabel('RMSE', size = 16)\n",
    "ax.set_xlabel('количество соседей', size = 16)\n",
    "ax.legend()\n",
    "ax.grid()\n",
    "fig.set_figwidth(7.5)    \n",
    "fig.set_figheight(4) \n",
    "plt.show()"
   ]
  },
  {
   "cell_type": "markdown",
   "metadata": {},
   "source": [
    "Лучше использовать евклидову метрику, она показала себя лучше в обоих случаях. \n",
    "\n",
    "Bag of words показал точность немного лучше, чем TF-IDF. Возможно, это  связано с тем, что у нас мало повторяющихся слов в выборке и поэтому нормировка не принесла повышения точности."
   ]
  },
  {
   "cell_type": "markdown",
   "metadata": {},
   "source": [
    "**3.2 (1 балл)** Используя все доступные признаки, решите задачу регрессии. Для категориальных и текстовых признаков выберите лучшие преобразования (из сделанных раннее заданий). Повлияло ли добавление количественного признака на метрику качества?"
   ]
  },
  {
   "cell_type": "markdown",
   "metadata": {},
   "source": [
    "возьмем в этой задаче выборку из 1000 элементов, которую мы строили в прошлом задании"
   ]
  },
  {
   "cell_type": "code",
   "execution_count": 243,
   "metadata": {},
   "outputs": [
    {
     "data": {
      "text/html": [
       "<div>\n",
       "<style scoped>\n",
       "    .dataframe tbody tr th:only-of-type {\n",
       "        vertical-align: middle;\n",
       "    }\n",
       "\n",
       "    .dataframe tbody tr th {\n",
       "        vertical-align: top;\n",
       "    }\n",
       "\n",
       "    .dataframe thead th {\n",
       "        text-align: right;\n",
       "    }\n",
       "</style>\n",
       "<table border=\"1\" class=\"dataframe\">\n",
       "  <thead>\n",
       "    <tr style=\"text-align: right;\">\n",
       "      <th></th>\n",
       "      <th>id</th>\n",
       "      <th>name</th>\n",
       "      <th>host_id</th>\n",
       "      <th>host_name</th>\n",
       "      <th>neighbourhood_group</th>\n",
       "      <th>neighbourhood</th>\n",
       "      <th>latitude</th>\n",
       "      <th>longitude</th>\n",
       "      <th>room_type</th>\n",
       "      <th>price</th>\n",
       "      <th>minimum_nights</th>\n",
       "      <th>number_of_reviews</th>\n",
       "      <th>last_review</th>\n",
       "      <th>reviews_per_month</th>\n",
       "      <th>calculated_host_listings_count</th>\n",
       "      <th>availability_365</th>\n",
       "    </tr>\n",
       "  </thead>\n",
       "  <tbody>\n",
       "    <tr>\n",
       "      <th>0</th>\n",
       "      <td>2539</td>\n",
       "      <td>Clean &amp; quiet apt home by the park</td>\n",
       "      <td>2787</td>\n",
       "      <td>John</td>\n",
       "      <td>Brooklyn</td>\n",
       "      <td>Kensington</td>\n",
       "      <td>40.64749</td>\n",
       "      <td>-73.97237</td>\n",
       "      <td>Private room</td>\n",
       "      <td>149</td>\n",
       "      <td>1</td>\n",
       "      <td>9</td>\n",
       "      <td>2018-10-19</td>\n",
       "      <td>0.21</td>\n",
       "      <td>6</td>\n",
       "      <td>365</td>\n",
       "    </tr>\n",
       "    <tr>\n",
       "      <th>1</th>\n",
       "      <td>2595</td>\n",
       "      <td>Skylit Midtown Castle</td>\n",
       "      <td>2845</td>\n",
       "      <td>Jennifer</td>\n",
       "      <td>Manhattan</td>\n",
       "      <td>Midtown</td>\n",
       "      <td>40.75362</td>\n",
       "      <td>-73.98377</td>\n",
       "      <td>Entire home/apt</td>\n",
       "      <td>225</td>\n",
       "      <td>1</td>\n",
       "      <td>45</td>\n",
       "      <td>2019-05-21</td>\n",
       "      <td>0.38</td>\n",
       "      <td>2</td>\n",
       "      <td>355</td>\n",
       "    </tr>\n",
       "    <tr>\n",
       "      <th>2</th>\n",
       "      <td>3647</td>\n",
       "      <td>THE VILLAGE OF HARLEM....NEW YORK !</td>\n",
       "      <td>4632</td>\n",
       "      <td>Elisabeth</td>\n",
       "      <td>Manhattan</td>\n",
       "      <td>Harlem</td>\n",
       "      <td>40.80902</td>\n",
       "      <td>-73.94190</td>\n",
       "      <td>Private room</td>\n",
       "      <td>150</td>\n",
       "      <td>3</td>\n",
       "      <td>0</td>\n",
       "      <td>2018-10-19 00:00:00</td>\n",
       "      <td>0.00</td>\n",
       "      <td>1</td>\n",
       "      <td>365</td>\n",
       "    </tr>\n",
       "    <tr>\n",
       "      <th>3</th>\n",
       "      <td>3831</td>\n",
       "      <td>Cozy Entire Floor of Brownstone</td>\n",
       "      <td>4869</td>\n",
       "      <td>LisaRoxanne</td>\n",
       "      <td>Brooklyn</td>\n",
       "      <td>Clinton Hill</td>\n",
       "      <td>40.68514</td>\n",
       "      <td>-73.95976</td>\n",
       "      <td>Entire home/apt</td>\n",
       "      <td>89</td>\n",
       "      <td>1</td>\n",
       "      <td>270</td>\n",
       "      <td>2019-07-05</td>\n",
       "      <td>4.64</td>\n",
       "      <td>1</td>\n",
       "      <td>194</td>\n",
       "    </tr>\n",
       "    <tr>\n",
       "      <th>4</th>\n",
       "      <td>5022</td>\n",
       "      <td>Entire Apt: Spacious Studio/Loft by central park</td>\n",
       "      <td>7192</td>\n",
       "      <td>Laura</td>\n",
       "      <td>Manhattan</td>\n",
       "      <td>East Harlem</td>\n",
       "      <td>40.79851</td>\n",
       "      <td>-73.94399</td>\n",
       "      <td>Entire home/apt</td>\n",
       "      <td>80</td>\n",
       "      <td>10</td>\n",
       "      <td>9</td>\n",
       "      <td>2018-11-19</td>\n",
       "      <td>0.10</td>\n",
       "      <td>1</td>\n",
       "      <td>0</td>\n",
       "    </tr>\n",
       "    <tr>\n",
       "      <th>...</th>\n",
       "      <td>...</td>\n",
       "      <td>...</td>\n",
       "      <td>...</td>\n",
       "      <td>...</td>\n",
       "      <td>...</td>\n",
       "      <td>...</td>\n",
       "      <td>...</td>\n",
       "      <td>...</td>\n",
       "      <td>...</td>\n",
       "      <td>...</td>\n",
       "      <td>...</td>\n",
       "      <td>...</td>\n",
       "      <td>...</td>\n",
       "      <td>...</td>\n",
       "      <td>...</td>\n",
       "      <td>...</td>\n",
       "    </tr>\n",
       "    <tr>\n",
       "      <th>48890</th>\n",
       "      <td>36484665</td>\n",
       "      <td>Charming one bedroom - newly renovated rowhouse</td>\n",
       "      <td>8232441</td>\n",
       "      <td>Sabrina</td>\n",
       "      <td>Brooklyn</td>\n",
       "      <td>Bedford-Stuyvesant</td>\n",
       "      <td>40.67853</td>\n",
       "      <td>-73.94995</td>\n",
       "      <td>Private room</td>\n",
       "      <td>70</td>\n",
       "      <td>2</td>\n",
       "      <td>0</td>\n",
       "      <td>2018-10-19 00:00:00</td>\n",
       "      <td>0.00</td>\n",
       "      <td>2</td>\n",
       "      <td>9</td>\n",
       "    </tr>\n",
       "    <tr>\n",
       "      <th>48891</th>\n",
       "      <td>36485057</td>\n",
       "      <td>Affordable room in Bushwick/East Williamsburg</td>\n",
       "      <td>6570630</td>\n",
       "      <td>Marisol</td>\n",
       "      <td>Brooklyn</td>\n",
       "      <td>Bushwick</td>\n",
       "      <td>40.70184</td>\n",
       "      <td>-73.93317</td>\n",
       "      <td>Private room</td>\n",
       "      <td>40</td>\n",
       "      <td>4</td>\n",
       "      <td>0</td>\n",
       "      <td>2018-10-19 00:00:00</td>\n",
       "      <td>0.00</td>\n",
       "      <td>2</td>\n",
       "      <td>36</td>\n",
       "    </tr>\n",
       "    <tr>\n",
       "      <th>48892</th>\n",
       "      <td>36485431</td>\n",
       "      <td>Sunny Studio at Historical Neighborhood</td>\n",
       "      <td>23492952</td>\n",
       "      <td>Ilgar &amp; Aysel</td>\n",
       "      <td>Manhattan</td>\n",
       "      <td>Harlem</td>\n",
       "      <td>40.81475</td>\n",
       "      <td>-73.94867</td>\n",
       "      <td>Entire home/apt</td>\n",
       "      <td>115</td>\n",
       "      <td>10</td>\n",
       "      <td>0</td>\n",
       "      <td>2018-10-19 00:00:00</td>\n",
       "      <td>0.00</td>\n",
       "      <td>1</td>\n",
       "      <td>27</td>\n",
       "    </tr>\n",
       "    <tr>\n",
       "      <th>48893</th>\n",
       "      <td>36485609</td>\n",
       "      <td>43rd St. Time Square-cozy single bed</td>\n",
       "      <td>30985759</td>\n",
       "      <td>Taz</td>\n",
       "      <td>Manhattan</td>\n",
       "      <td>Hell's Kitchen</td>\n",
       "      <td>40.75751</td>\n",
       "      <td>-73.99112</td>\n",
       "      <td>Shared room</td>\n",
       "      <td>55</td>\n",
       "      <td>1</td>\n",
       "      <td>0</td>\n",
       "      <td>2018-10-19 00:00:00</td>\n",
       "      <td>0.00</td>\n",
       "      <td>6</td>\n",
       "      <td>2</td>\n",
       "    </tr>\n",
       "    <tr>\n",
       "      <th>48894</th>\n",
       "      <td>36487245</td>\n",
       "      <td>Trendy duplex in the very heart of Hell's Kitchen</td>\n",
       "      <td>68119814</td>\n",
       "      <td>Christophe</td>\n",
       "      <td>Manhattan</td>\n",
       "      <td>Hell's Kitchen</td>\n",
       "      <td>40.76404</td>\n",
       "      <td>-73.98933</td>\n",
       "      <td>Private room</td>\n",
       "      <td>90</td>\n",
       "      <td>7</td>\n",
       "      <td>0</td>\n",
       "      <td>2018-10-19 00:00:00</td>\n",
       "      <td>0.00</td>\n",
       "      <td>1</td>\n",
       "      <td>23</td>\n",
       "    </tr>\n",
       "  </tbody>\n",
       "</table>\n",
       "<p>48895 rows × 16 columns</p>\n",
       "</div>"
      ],
      "text/plain": [
       "             id                                               name   host_id  \\\n",
       "0          2539                 Clean & quiet apt home by the park      2787   \n",
       "1          2595                              Skylit Midtown Castle      2845   \n",
       "2          3647                THE VILLAGE OF HARLEM....NEW YORK !      4632   \n",
       "3          3831                    Cozy Entire Floor of Brownstone      4869   \n",
       "4          5022   Entire Apt: Spacious Studio/Loft by central park      7192   \n",
       "...         ...                                                ...       ...   \n",
       "48890  36484665    Charming one bedroom - newly renovated rowhouse   8232441   \n",
       "48891  36485057      Affordable room in Bushwick/East Williamsburg   6570630   \n",
       "48892  36485431            Sunny Studio at Historical Neighborhood  23492952   \n",
       "48893  36485609               43rd St. Time Square-cozy single bed  30985759   \n",
       "48894  36487245  Trendy duplex in the very heart of Hell's Kitchen  68119814   \n",
       "\n",
       "           host_name neighbourhood_group       neighbourhood  latitude  \\\n",
       "0               John            Brooklyn          Kensington  40.64749   \n",
       "1           Jennifer           Manhattan             Midtown  40.75362   \n",
       "2          Elisabeth           Manhattan              Harlem  40.80902   \n",
       "3        LisaRoxanne            Brooklyn        Clinton Hill  40.68514   \n",
       "4              Laura           Manhattan         East Harlem  40.79851   \n",
       "...              ...                 ...                 ...       ...   \n",
       "48890        Sabrina            Brooklyn  Bedford-Stuyvesant  40.67853   \n",
       "48891        Marisol            Brooklyn            Bushwick  40.70184   \n",
       "48892  Ilgar & Aysel           Manhattan              Harlem  40.81475   \n",
       "48893            Taz           Manhattan      Hell's Kitchen  40.75751   \n",
       "48894     Christophe           Manhattan      Hell's Kitchen  40.76404   \n",
       "\n",
       "       longitude        room_type  price  minimum_nights  number_of_reviews  \\\n",
       "0      -73.97237     Private room    149               1                  9   \n",
       "1      -73.98377  Entire home/apt    225               1                 45   \n",
       "2      -73.94190     Private room    150               3                  0   \n",
       "3      -73.95976  Entire home/apt     89               1                270   \n",
       "4      -73.94399  Entire home/apt     80              10                  9   \n",
       "...          ...              ...    ...             ...                ...   \n",
       "48890  -73.94995     Private room     70               2                  0   \n",
       "48891  -73.93317     Private room     40               4                  0   \n",
       "48892  -73.94867  Entire home/apt    115              10                  0   \n",
       "48893  -73.99112      Shared room     55               1                  0   \n",
       "48894  -73.98933     Private room     90               7                  0   \n",
       "\n",
       "               last_review  reviews_per_month  calculated_host_listings_count  \\\n",
       "0               2018-10-19               0.21                               6   \n",
       "1               2019-05-21               0.38                               2   \n",
       "2      2018-10-19 00:00:00               0.00                               1   \n",
       "3               2019-07-05               4.64                               1   \n",
       "4               2018-11-19               0.10                               1   \n",
       "...                    ...                ...                             ...   \n",
       "48890  2018-10-19 00:00:00               0.00                               2   \n",
       "48891  2018-10-19 00:00:00               0.00                               2   \n",
       "48892  2018-10-19 00:00:00               0.00                               1   \n",
       "48893  2018-10-19 00:00:00               0.00                               6   \n",
       "48894  2018-10-19 00:00:00               0.00                               1   \n",
       "\n",
       "       availability_365  \n",
       "0                   365  \n",
       "1                   355  \n",
       "2                   365  \n",
       "3                   194  \n",
       "4                     0  \n",
       "...                 ...  \n",
       "48890                 9  \n",
       "48891                36  \n",
       "48892                27  \n",
       "48893                 2  \n",
       "48894                23  \n",
       "\n",
       "[48895 rows x 16 columns]"
      ]
     },
     "execution_count": 243,
     "metadata": {},
     "output_type": "execute_result"
    }
   ],
   "source": [
    "data"
   ]
  },
  {
   "cell_type": "code",
   "execution_count": 356,
   "metadata": {},
   "outputs": [],
   "source": [
    "Xlst_train, Xlst_test, ylst_train, ylst_test = train_test_split(data.drop(columns=['price']), data[['price']],\n",
    "                                                    test_size=0.3, shuffle=False)"
   ]
  },
  {
   "cell_type": "code",
   "execution_count": 357,
   "metadata": {},
   "outputs": [
    {
     "data": {
      "text/plain": [
       "(34226, 8057)"
      ]
     },
     "execution_count": 357,
     "metadata": {},
     "output_type": "execute_result"
    }
   ],
   "source": [
    "X_train_txt.shape"
   ]
  },
  {
   "cell_type": "code",
   "execution_count": 358,
   "metadata": {},
   "outputs": [
    {
     "data": {
      "text/plain": [
       "(14669, 8057)"
      ]
     },
     "execution_count": 358,
     "metadata": {},
     "output_type": "execute_result"
    }
   ],
   "source": [
    "X_test_txt.shape"
   ]
  },
  {
   "cell_type": "code",
   "execution_count": 359,
   "metadata": {},
   "outputs": [
    {
     "data": {
      "text/plain": [
       "(34226, 15)"
      ]
     },
     "execution_count": 359,
     "metadata": {},
     "output_type": "execute_result"
    }
   ],
   "source": [
    "Xlst_train.shape"
   ]
  },
  {
   "cell_type": "markdown",
   "metadata": {},
   "source": [
    "это наши текстовые признаки"
   ]
  },
  {
   "cell_type": "code",
   "execution_count": 360,
   "metadata": {},
   "outputs": [],
   "source": [
    "def fstd(x):\n",
    "    counts = np.zeros_like(x)\n",
    "    for i in (np.unique(x)):\n",
    "        counts[x == i] = np.std(ylst_train[x == i]['price'])\n",
    "        #np.mean(y_train(np.where(x == i)[0])['price'])\n",
    "    return counts"
   ]
  },
  {
   "cell_type": "code",
   "execution_count": 361,
   "metadata": {},
   "outputs": [],
   "source": [
    "def fstdtest(x, x_train_start, x_train_fin):\n",
    "    counts = np.zeros_like(x)\n",
    "    for i in (np.unique(x)):\n",
    "        if i not in (np.unique(x_train_start)):\n",
    "            counts[x == i] = 0\n",
    "        else:\n",
    "            counts[np.where(x == i)[0]] = x_train_fin[np.where(x_train_start == i)[0]][0]\n",
    "    return counts"
   ]
  },
  {
   "cell_type": "code",
   "execution_count": 362,
   "metadata": {},
   "outputs": [],
   "source": [
    "Tr_tsd_host_name = fstd(Xlst_train['host_name'])\n",
    "Tr_std_neighbourhood_group = fstd(Xlst_train['neighbourhood_group'])\n",
    "Tr_std_room_type = fstd(Xlst_train['room_type'])\n",
    "Tr_std_neighbourhood = fstd(Xlst_train['neighbourhood'])"
   ]
  },
  {
   "cell_type": "code",
   "execution_count": 278,
   "metadata": {},
   "outputs": [],
   "source": [
    "Test_std_host_name = fstdtest(Xlst_test['host_name'], Xlst_train['host_name'], Tr_tsd_host_name)\n",
    "Test_std_neighbourhood_group = fstdtest(Xlst_test['neighbourhood_group'], Xlst_train['neighbourhood_group'], Tr_std_neighbourhood_group)\n",
    "Test_std_room_type = fstdtest(Xlst_test['room_type'], Xlst_train['room_type'], Tr_std_room_type)\n",
    "Test_std_neighbourhood = fstdtest(Xlst_test['neighbourhood'], Xlst_train['neighbourhood'], Tr_std_neighbourhood)"
   ]
  },
  {
   "cell_type": "code",
   "execution_count": 279,
   "metadata": {},
   "outputs": [],
   "source": [
    "X_train_last_std = np.concatenate((Tr_tsd_host_name[:, np.newaxis], Tr_std_neighbourhood_group[:, np.newaxis], Tr_std_room_type[:, np.newaxis], Tr_std_neighbourhood[:, np.newaxis]), axis=1)\n",
    "X_test_last_std = np.concatenate((Test_std_host_name[:, np.newaxis], Test_std_neighbourhood_group[:, np.newaxis], Test_std_room_type[:, np.newaxis], Test_std_neighbourhood[:, np.newaxis]), axis=1)"
   ]
  },
  {
   "cell_type": "code",
   "execution_count": 280,
   "metadata": {},
   "outputs": [
    {
     "data": {
      "text/plain": [
       "(34226, 4)"
      ]
     },
     "execution_count": 280,
     "metadata": {},
     "output_type": "execute_result"
    }
   ],
   "source": [
    "X_train_last_std.shape"
   ]
  },
  {
   "cell_type": "code",
   "execution_count": 281,
   "metadata": {},
   "outputs": [
    {
     "data": {
      "text/plain": [
       "(14669, 4)"
      ]
     },
     "execution_count": 281,
     "metadata": {},
     "output_type": "execute_result"
    }
   ],
   "source": [
    "X_test_last_std.shape"
   ]
  },
  {
   "cell_type": "code",
   "execution_count": 282,
   "metadata": {},
   "outputs": [
    {
     "data": {
      "text/plain": [
       "CountVectorizer()"
      ]
     },
     "execution_count": 282,
     "metadata": {},
     "output_type": "execute_result"
    }
   ],
   "source": [
    "vectorizer = CountVectorizer()\n",
    "vectorizer"
   ]
  },
  {
   "cell_type": "code",
   "execution_count": 283,
   "metadata": {},
   "outputs": [
    {
     "data": {
      "text/plain": [
       "<48895x8057 sparse matrix of type '<class 'numpy.int64'>'\n",
       "\twith 280359 stored elements in Compressed Sparse Row format>"
      ]
     },
     "execution_count": 283,
     "metadata": {},
     "output_type": "execute_result"
    }
   ],
   "source": [
    "corpus = data['name']\n",
    "X = vectorizer.fit_transform(corpus)\n",
    "X"
   ]
  },
  {
   "cell_type": "code",
   "execution_count": 284,
   "metadata": {},
   "outputs": [],
   "source": [
    "X_train_last_txt = X.toarray()[:34226]"
   ]
  },
  {
   "cell_type": "code",
   "execution_count": 293,
   "metadata": {},
   "outputs": [
    {
     "data": {
      "text/plain": [
       "(34226, 8057)"
      ]
     },
     "execution_count": 293,
     "metadata": {},
     "output_type": "execute_result"
    }
   ],
   "source": [
    "X_train_last_txt.shape"
   ]
  },
  {
   "cell_type": "code",
   "execution_count": 285,
   "metadata": {},
   "outputs": [],
   "source": [
    "X_test_last_txt = X.toarray()[34226:]"
   ]
  },
  {
   "cell_type": "code",
   "execution_count": 286,
   "metadata": {},
   "outputs": [
    {
     "data": {
      "text/plain": [
       "(14669, 8057)"
      ]
     },
     "execution_count": 286,
     "metadata": {},
     "output_type": "execute_result"
    }
   ],
   "source": [
    "X_test_last_txt.shape"
   ]
  },
  {
   "cell_type": "code",
   "execution_count": 287,
   "metadata": {},
   "outputs": [],
   "source": [
    "choice = np.random.choice(X.toarray().shape[1], 1000, replace = False)"
   ]
  },
  {
   "cell_type": "code",
   "execution_count": 307,
   "metadata": {},
   "outputs": [],
   "source": [
    "X_train_all = np.concatenate((X_train_last_txt[:, choice], X_train_last_std), axis =1)\n",
    "X_test_all = np.concatenate((X_test_last_txt[:, choice], X_test_last_std), axis =1)"
   ]
  },
  {
   "cell_type": "code",
   "execution_count": 308,
   "metadata": {
    "scrolled": false
   },
   "outputs": [
    {
     "data": {
      "text/html": [
       "<div>\n",
       "<style scoped>\n",
       "    .dataframe tbody tr th:only-of-type {\n",
       "        vertical-align: middle;\n",
       "    }\n",
       "\n",
       "    .dataframe tbody tr th {\n",
       "        vertical-align: top;\n",
       "    }\n",
       "\n",
       "    .dataframe thead th {\n",
       "        text-align: right;\n",
       "    }\n",
       "</style>\n",
       "<table border=\"1\" class=\"dataframe\">\n",
       "  <thead>\n",
       "    <tr style=\"text-align: right;\">\n",
       "      <th></th>\n",
       "      <th>id</th>\n",
       "      <th>name</th>\n",
       "      <th>host_id</th>\n",
       "      <th>host_name</th>\n",
       "      <th>neighbourhood_group</th>\n",
       "      <th>neighbourhood</th>\n",
       "      <th>latitude</th>\n",
       "      <th>longitude</th>\n",
       "      <th>room_type</th>\n",
       "      <th>price</th>\n",
       "      <th>minimum_nights</th>\n",
       "      <th>number_of_reviews</th>\n",
       "      <th>last_review</th>\n",
       "      <th>reviews_per_month</th>\n",
       "      <th>calculated_host_listings_count</th>\n",
       "      <th>availability_365</th>\n",
       "    </tr>\n",
       "  </thead>\n",
       "  <tbody>\n",
       "    <tr>\n",
       "      <th>0</th>\n",
       "      <td>2539</td>\n",
       "      <td>Clean &amp; quiet apt home by the park</td>\n",
       "      <td>2787</td>\n",
       "      <td>John</td>\n",
       "      <td>Brooklyn</td>\n",
       "      <td>Kensington</td>\n",
       "      <td>40.64749</td>\n",
       "      <td>-73.97237</td>\n",
       "      <td>Private room</td>\n",
       "      <td>149</td>\n",
       "      <td>1</td>\n",
       "      <td>9</td>\n",
       "      <td>2018-10-19</td>\n",
       "      <td>0.21</td>\n",
       "      <td>6</td>\n",
       "      <td>365</td>\n",
       "    </tr>\n",
       "    <tr>\n",
       "      <th>1</th>\n",
       "      <td>2595</td>\n",
       "      <td>Skylit Midtown Castle</td>\n",
       "      <td>2845</td>\n",
       "      <td>Jennifer</td>\n",
       "      <td>Manhattan</td>\n",
       "      <td>Midtown</td>\n",
       "      <td>40.75362</td>\n",
       "      <td>-73.98377</td>\n",
       "      <td>Entire home/apt</td>\n",
       "      <td>225</td>\n",
       "      <td>1</td>\n",
       "      <td>45</td>\n",
       "      <td>2019-05-21</td>\n",
       "      <td>0.38</td>\n",
       "      <td>2</td>\n",
       "      <td>355</td>\n",
       "    </tr>\n",
       "    <tr>\n",
       "      <th>2</th>\n",
       "      <td>3647</td>\n",
       "      <td>THE VILLAGE OF HARLEM....NEW YORK !</td>\n",
       "      <td>4632</td>\n",
       "      <td>Elisabeth</td>\n",
       "      <td>Manhattan</td>\n",
       "      <td>Harlem</td>\n",
       "      <td>40.80902</td>\n",
       "      <td>-73.94190</td>\n",
       "      <td>Private room</td>\n",
       "      <td>150</td>\n",
       "      <td>3</td>\n",
       "      <td>0</td>\n",
       "      <td>2018-10-19 00:00:00</td>\n",
       "      <td>0.00</td>\n",
       "      <td>1</td>\n",
       "      <td>365</td>\n",
       "    </tr>\n",
       "    <tr>\n",
       "      <th>3</th>\n",
       "      <td>3831</td>\n",
       "      <td>Cozy Entire Floor of Brownstone</td>\n",
       "      <td>4869</td>\n",
       "      <td>LisaRoxanne</td>\n",
       "      <td>Brooklyn</td>\n",
       "      <td>Clinton Hill</td>\n",
       "      <td>40.68514</td>\n",
       "      <td>-73.95976</td>\n",
       "      <td>Entire home/apt</td>\n",
       "      <td>89</td>\n",
       "      <td>1</td>\n",
       "      <td>270</td>\n",
       "      <td>2019-07-05</td>\n",
       "      <td>4.64</td>\n",
       "      <td>1</td>\n",
       "      <td>194</td>\n",
       "    </tr>\n",
       "    <tr>\n",
       "      <th>4</th>\n",
       "      <td>5022</td>\n",
       "      <td>Entire Apt: Spacious Studio/Loft by central park</td>\n",
       "      <td>7192</td>\n",
       "      <td>Laura</td>\n",
       "      <td>Manhattan</td>\n",
       "      <td>East Harlem</td>\n",
       "      <td>40.79851</td>\n",
       "      <td>-73.94399</td>\n",
       "      <td>Entire home/apt</td>\n",
       "      <td>80</td>\n",
       "      <td>10</td>\n",
       "      <td>9</td>\n",
       "      <td>2018-11-19</td>\n",
       "      <td>0.10</td>\n",
       "      <td>1</td>\n",
       "      <td>0</td>\n",
       "    </tr>\n",
       "    <tr>\n",
       "      <th>...</th>\n",
       "      <td>...</td>\n",
       "      <td>...</td>\n",
       "      <td>...</td>\n",
       "      <td>...</td>\n",
       "      <td>...</td>\n",
       "      <td>...</td>\n",
       "      <td>...</td>\n",
       "      <td>...</td>\n",
       "      <td>...</td>\n",
       "      <td>...</td>\n",
       "      <td>...</td>\n",
       "      <td>...</td>\n",
       "      <td>...</td>\n",
       "      <td>...</td>\n",
       "      <td>...</td>\n",
       "      <td>...</td>\n",
       "    </tr>\n",
       "    <tr>\n",
       "      <th>48890</th>\n",
       "      <td>36484665</td>\n",
       "      <td>Charming one bedroom - newly renovated rowhouse</td>\n",
       "      <td>8232441</td>\n",
       "      <td>Sabrina</td>\n",
       "      <td>Brooklyn</td>\n",
       "      <td>Bedford-Stuyvesant</td>\n",
       "      <td>40.67853</td>\n",
       "      <td>-73.94995</td>\n",
       "      <td>Private room</td>\n",
       "      <td>70</td>\n",
       "      <td>2</td>\n",
       "      <td>0</td>\n",
       "      <td>2018-10-19 00:00:00</td>\n",
       "      <td>0.00</td>\n",
       "      <td>2</td>\n",
       "      <td>9</td>\n",
       "    </tr>\n",
       "    <tr>\n",
       "      <th>48891</th>\n",
       "      <td>36485057</td>\n",
       "      <td>Affordable room in Bushwick/East Williamsburg</td>\n",
       "      <td>6570630</td>\n",
       "      <td>Marisol</td>\n",
       "      <td>Brooklyn</td>\n",
       "      <td>Bushwick</td>\n",
       "      <td>40.70184</td>\n",
       "      <td>-73.93317</td>\n",
       "      <td>Private room</td>\n",
       "      <td>40</td>\n",
       "      <td>4</td>\n",
       "      <td>0</td>\n",
       "      <td>2018-10-19 00:00:00</td>\n",
       "      <td>0.00</td>\n",
       "      <td>2</td>\n",
       "      <td>36</td>\n",
       "    </tr>\n",
       "    <tr>\n",
       "      <th>48892</th>\n",
       "      <td>36485431</td>\n",
       "      <td>Sunny Studio at Historical Neighborhood</td>\n",
       "      <td>23492952</td>\n",
       "      <td>Ilgar &amp; Aysel</td>\n",
       "      <td>Manhattan</td>\n",
       "      <td>Harlem</td>\n",
       "      <td>40.81475</td>\n",
       "      <td>-73.94867</td>\n",
       "      <td>Entire home/apt</td>\n",
       "      <td>115</td>\n",
       "      <td>10</td>\n",
       "      <td>0</td>\n",
       "      <td>2018-10-19 00:00:00</td>\n",
       "      <td>0.00</td>\n",
       "      <td>1</td>\n",
       "      <td>27</td>\n",
       "    </tr>\n",
       "    <tr>\n",
       "      <th>48893</th>\n",
       "      <td>36485609</td>\n",
       "      <td>43rd St. Time Square-cozy single bed</td>\n",
       "      <td>30985759</td>\n",
       "      <td>Taz</td>\n",
       "      <td>Manhattan</td>\n",
       "      <td>Hell's Kitchen</td>\n",
       "      <td>40.75751</td>\n",
       "      <td>-73.99112</td>\n",
       "      <td>Shared room</td>\n",
       "      <td>55</td>\n",
       "      <td>1</td>\n",
       "      <td>0</td>\n",
       "      <td>2018-10-19 00:00:00</td>\n",
       "      <td>0.00</td>\n",
       "      <td>6</td>\n",
       "      <td>2</td>\n",
       "    </tr>\n",
       "    <tr>\n",
       "      <th>48894</th>\n",
       "      <td>36487245</td>\n",
       "      <td>Trendy duplex in the very heart of Hell's Kitchen</td>\n",
       "      <td>68119814</td>\n",
       "      <td>Christophe</td>\n",
       "      <td>Manhattan</td>\n",
       "      <td>Hell's Kitchen</td>\n",
       "      <td>40.76404</td>\n",
       "      <td>-73.98933</td>\n",
       "      <td>Private room</td>\n",
       "      <td>90</td>\n",
       "      <td>7</td>\n",
       "      <td>0</td>\n",
       "      <td>2018-10-19 00:00:00</td>\n",
       "      <td>0.00</td>\n",
       "      <td>1</td>\n",
       "      <td>23</td>\n",
       "    </tr>\n",
       "  </tbody>\n",
       "</table>\n",
       "<p>48895 rows × 16 columns</p>\n",
       "</div>"
      ],
      "text/plain": [
       "             id                                               name   host_id  \\\n",
       "0          2539                 Clean & quiet apt home by the park      2787   \n",
       "1          2595                              Skylit Midtown Castle      2845   \n",
       "2          3647                THE VILLAGE OF HARLEM....NEW YORK !      4632   \n",
       "3          3831                    Cozy Entire Floor of Brownstone      4869   \n",
       "4          5022   Entire Apt: Spacious Studio/Loft by central park      7192   \n",
       "...         ...                                                ...       ...   \n",
       "48890  36484665    Charming one bedroom - newly renovated rowhouse   8232441   \n",
       "48891  36485057      Affordable room in Bushwick/East Williamsburg   6570630   \n",
       "48892  36485431            Sunny Studio at Historical Neighborhood  23492952   \n",
       "48893  36485609               43rd St. Time Square-cozy single bed  30985759   \n",
       "48894  36487245  Trendy duplex in the very heart of Hell's Kitchen  68119814   \n",
       "\n",
       "           host_name neighbourhood_group       neighbourhood  latitude  \\\n",
       "0               John            Brooklyn          Kensington  40.64749   \n",
       "1           Jennifer           Manhattan             Midtown  40.75362   \n",
       "2          Elisabeth           Manhattan              Harlem  40.80902   \n",
       "3        LisaRoxanne            Brooklyn        Clinton Hill  40.68514   \n",
       "4              Laura           Manhattan         East Harlem  40.79851   \n",
       "...              ...                 ...                 ...       ...   \n",
       "48890        Sabrina            Brooklyn  Bedford-Stuyvesant  40.67853   \n",
       "48891        Marisol            Brooklyn            Bushwick  40.70184   \n",
       "48892  Ilgar & Aysel           Manhattan              Harlem  40.81475   \n",
       "48893            Taz           Manhattan      Hell's Kitchen  40.75751   \n",
       "48894     Christophe           Manhattan      Hell's Kitchen  40.76404   \n",
       "\n",
       "       longitude        room_type  price  minimum_nights  number_of_reviews  \\\n",
       "0      -73.97237     Private room    149               1                  9   \n",
       "1      -73.98377  Entire home/apt    225               1                 45   \n",
       "2      -73.94190     Private room    150               3                  0   \n",
       "3      -73.95976  Entire home/apt     89               1                270   \n",
       "4      -73.94399  Entire home/apt     80              10                  9   \n",
       "...          ...              ...    ...             ...                ...   \n",
       "48890  -73.94995     Private room     70               2                  0   \n",
       "48891  -73.93317     Private room     40               4                  0   \n",
       "48892  -73.94867  Entire home/apt    115              10                  0   \n",
       "48893  -73.99112      Shared room     55               1                  0   \n",
       "48894  -73.98933     Private room     90               7                  0   \n",
       "\n",
       "               last_review  reviews_per_month  calculated_host_listings_count  \\\n",
       "0               2018-10-19               0.21                               6   \n",
       "1               2019-05-21               0.38                               2   \n",
       "2      2018-10-19 00:00:00               0.00                               1   \n",
       "3               2019-07-05               4.64                               1   \n",
       "4               2018-11-19               0.10                               1   \n",
       "...                    ...                ...                             ...   \n",
       "48890  2018-10-19 00:00:00               0.00                               2   \n",
       "48891  2018-10-19 00:00:00               0.00                               2   \n",
       "48892  2018-10-19 00:00:00               0.00                               1   \n",
       "48893  2018-10-19 00:00:00               0.00                               6   \n",
       "48894  2018-10-19 00:00:00               0.00                               1   \n",
       "\n",
       "       availability_365  \n",
       "0                   365  \n",
       "1                   355  \n",
       "2                   365  \n",
       "3                   194  \n",
       "4                     0  \n",
       "...                 ...  \n",
       "48890                 9  \n",
       "48891                36  \n",
       "48892                27  \n",
       "48893                 2  \n",
       "48894                23  \n",
       "\n",
       "[48895 rows x 16 columns]"
      ]
     },
     "execution_count": 308,
     "metadata": {},
     "output_type": "execute_result"
    }
   ],
   "source": [
    "data"
   ]
  },
  {
   "cell_type": "code",
   "execution_count": 309,
   "metadata": {},
   "outputs": [
    {
     "data": {
      "text/plain": [
       "(34226, 1)"
      ]
     },
     "execution_count": 309,
     "metadata": {},
     "output_type": "execute_result"
    }
   ],
   "source": [
    "Xlst_train['latitude'][:, np.newaxis].shape"
   ]
  },
  {
   "cell_type": "code",
   "execution_count": 310,
   "metadata": {},
   "outputs": [],
   "source": [
    "X_train_all = np.concatenate((X_train_all, Xlst_train['latitude'][:, np.newaxis]), axis =1)"
   ]
  },
  {
   "cell_type": "code",
   "execution_count": 311,
   "metadata": {},
   "outputs": [],
   "source": [
    "X_train_all = np.concatenate((X_train_all, Xlst_train['longitude'][:, np.newaxis]), axis =1)"
   ]
  },
  {
   "cell_type": "code",
   "execution_count": 312,
   "metadata": {},
   "outputs": [],
   "source": [
    "X_train_all = np.concatenate((X_train_all, Xlst_train['minimum_nights'][:, np.newaxis]), axis =1)"
   ]
  },
  {
   "cell_type": "code",
   "execution_count": 313,
   "metadata": {},
   "outputs": [],
   "source": [
    "X_train_all = np.concatenate((X_train_all, Xlst_train['number_of_reviews'][:, np.newaxis]), axis =1)"
   ]
  },
  {
   "cell_type": "code",
   "execution_count": 314,
   "metadata": {},
   "outputs": [],
   "source": [
    "X_train_all = np.concatenate((X_train_all, Xlst_train['reviews_p#er_month'][:, np.newaxis]), axis =1)"
   ]
  },
  {
   "cell_type": "code",
   "execution_count": 315,
   "metadata": {},
   "outputs": [],
   "source": [
    "X_train_all = np.concatenate((X_train_all, Xlst_train['calculated_host_listings_count'][:, np.newaxis]), axis =1)"
   ]
  },
  {
   "cell_type": "code",
   "execution_count": 316,
   "metadata": {},
   "outputs": [],
   "source": [
    "X_train_all = np.concatenate((X_train_all, Xlst_train['availability_365'][:, np.newaxis]), axis =1)"
   ]
  },
  {
   "cell_type": "code",
   "execution_count": 317,
   "metadata": {},
   "outputs": [
    {
     "data": {
      "text/plain": [
       "(34226, 1011)"
      ]
     },
     "execution_count": 317,
     "metadata": {},
     "output_type": "execute_result"
    }
   ],
   "source": [
    "X_train_all.shape"
   ]
  },
  {
   "cell_type": "code",
   "execution_count": 318,
   "metadata": {},
   "outputs": [],
   "source": [
    "X_test_all = np.concatenate((X_test_all, Xlst_test['latitude'][:, np.newaxis]), axis =1)\n",
    "X_test_all = np.concatenate((X_test_all, Xlst_test['longitude'][:, np.newaxis]), axis =1)\n",
    "X_test_all = np.concatenate((X_test_all, Xlst_test['minimum_nights'][:, np.newaxis]), axis =1)\n",
    "X_test_all = np.concatenate((X_test_all, Xlst_test['number_of_reviews'][:, np.newaxis]), axis =1)\n",
    "X_test_all = np.concatenate((X_test_all, Xlst_test['reviews_per_month'][:, np.newaxis]), axis =1)\n",
    "X_test_all = np.concatenate((X_test_all, Xlst_test['calculated_host_listings_count'][:, np.newaxis]), axis =1)\n",
    "X_test_all = np.concatenate((X_test_all, Xlst_test['availability_365'][:, np.newaxis]), axis =1)"
   ]
  },
  {
   "cell_type": "code",
   "execution_count": 319,
   "metadata": {},
   "outputs": [
    {
     "data": {
      "text/plain": [
       "(14669, 1011)"
      ]
     },
     "execution_count": 319,
     "metadata": {},
     "output_type": "execute_result"
    }
   ],
   "source": [
    "X_test_all.shape"
   ]
  },
  {
   "cell_type": "code",
   "execution_count": 320,
   "metadata": {},
   "outputs": [],
   "source": [
    "dfX_test_all = pd.DataFrame(X_test_all)"
   ]
  },
  {
   "cell_type": "code",
   "execution_count": 321,
   "metadata": {},
   "outputs": [],
   "source": [
    "dfX_train_all = pd.DataFrame(X_train_all)"
   ]
  },
  {
   "cell_type": "code",
   "execution_count": 329,
   "metadata": {},
   "outputs": [],
   "source": [
    "#from sklearn import preprocessing\n",
    "#from sklearn.preprocessing import MinMaxScaler"
   ]
  },
  {
   "cell_type": "code",
   "execution_count": 330,
   "metadata": {},
   "outputs": [],
   "source": [
    "#scaler = MinMaxScaler()"
   ]
  },
  {
   "cell_type": "code",
   "execution_count": 331,
   "metadata": {},
   "outputs": [],
   "source": [
    "#atr = scaler.fit_transform(dfX_train_all.values)\n",
    "#atst = scaler.fit_transform(dfX_test_all.values)"
   ]
  },
  {
   "cell_type": "code",
   "execution_count": 371,
   "metadata": {},
   "outputs": [
    {
     "data": {
      "text/plain": [
       "(14669, 1011)"
      ]
     },
     "execution_count": 371,
     "metadata": {},
     "output_type": "execute_result"
    }
   ],
   "source": [
    "X_test_all.shape"
   ]
  },
  {
   "cell_type": "code",
   "execution_count": 363,
   "metadata": {},
   "outputs": [
    {
     "data": {
      "text/plain": [
       "array([ 40,  85,  34, ..., 115,  55,  90], dtype=int64)"
      ]
     },
     "execution_count": 363,
     "metadata": {},
     "output_type": "execute_result"
    }
   ],
   "source": [
    "np.array(ylst_test['price'])"
   ]
  },
  {
   "cell_type": "code",
   "execution_count": 368,
   "metadata": {},
   "outputs": [
    {
     "data": {
      "text/plain": [
       "(34226, 1011)"
      ]
     },
     "execution_count": 368,
     "metadata": {},
     "output_type": "execute_result"
    }
   ],
   "source": [
    "X_train_all.shape"
   ]
  },
  {
   "cell_type": "code",
   "execution_count": 370,
   "metadata": {},
   "outputs": [
    {
     "data": {
      "text/plain": [
       "(14669,)"
      ]
     },
     "execution_count": 370,
     "metadata": {},
     "output_type": "execute_result"
    }
   ],
   "source": [
    "np.array(ylst_test['price']).shape"
   ]
  },
  {
   "cell_type": "code",
   "execution_count": 372,
   "metadata": {},
   "outputs": [
    {
     "data": {
      "text/plain": [
       "(34226,)"
      ]
     },
     "execution_count": 372,
     "metadata": {},
     "output_type": "execute_result"
    }
   ],
   "source": [
    "np.array(ylst_train['price']).shape"
   ]
  },
  {
   "cell_type": "code",
   "execution_count": 374,
   "metadata": {},
   "outputs": [
    {
     "name": "stdout",
     "output_type": "stream",
     "text": [
      "243.64181422142926\n"
     ]
    }
   ],
   "source": [
    "from sklearn.metrics import mean_squared_error\n",
    "#tlcos = []\n",
    "#for i in range(1, 31):\n",
    "RES = KNNRegressor_2(10, metric='euclidean', mode = 'distance')\n",
    "RES.fit(X_train_all, np.array(ylst_train['price']))\n",
    "a = RES.predict(X_test_all, n_neighbors=10)\n",
    "print(np.sqrt(mean_squared_error(a, np.array(ylst_test['price']))))"
   ]
  },
  {
   "cell_type": "code",
   "execution_count": 377,
   "metadata": {},
   "outputs": [
    {
     "name": "stdout",
     "output_type": "stream",
     "text": [
      "1  neib- 329.18517287710523\n",
      "2  neib- 283.2155831607878\n",
      "3  neib- 268.7857899526718\n",
      "4  neib- 261.26686149666415\n",
      "5  neib- 255.98934643497856\n",
      "6  neib- 250.78361041738773\n",
      "7  neib- 248.2917882350709\n",
      "8  neib- 246.13608351832542\n",
      "9  neib- 244.76652903111943\n",
      "10  neib- 243.64181422142926\n",
      "11  neib- 242.54833136677692\n",
      "12  neib- 241.5291618524057\n",
      "13  neib- 240.7858826335953\n",
      "14  neib- 240.58507449154456\n",
      "15  neib- 240.17002896981896\n",
      "16  neib- 239.0329401845562\n",
      "17  neib- 238.63292202041254\n",
      "18  neib- 237.91199030133106\n",
      "19  neib- 237.6428700898126\n",
      "20  neib- 237.7712617790949\n"
     ]
    }
   ],
   "source": [
    "from sklearn.metrics import mean_squared_error\n",
    "tll = []\n",
    "for i in range(1, 21):\n",
    "    RES = KNNRegressor_2(i, metric='euclidean', mode = 'distance')\n",
    "    RES.fit(X_train_all, np.array(ylst_train['price']))\n",
    "    a = RES.predict(X_test_all, n_neighbors=10)\n",
    "#print(np.sqrt(mean_squared_error(a, np.array(ylst_test['price']))))\n",
    "    print(i, ' neib-', np.sqrt(mean_squared_error(a, np.array(ylst_test['price']))))"
   ]
  },
  {
   "cell_type": "markdown",
   "metadata": {},
   "source": [
    "## Часть 4: Выводы ##\n",
    "\n",
    "Показатели точности не являются приемлемыми. Вероятно, это связано с тем, что наши признаки не нормированы. Евклидовая метрика считает расстояния основываясь на самых больших признаках. Однако, в любом случае, точность после преобразований текстовых и категориальных признаков увеличилась, что показывает разумность их применения. Возможно, для более точного предсказания необходимо иметь большее количество полезных признаков"
   ]
  },
  {
   "cell_type": "code",
   "execution_count": null,
   "metadata": {},
   "outputs": [],
   "source": []
  }
 ],
 "metadata": {
  "kernelspec": {
   "display_name": "Python 3",
   "language": "python",
   "name": "python3"
  },
  "language_info": {
   "codemirror_mode": {
    "name": "ipython",
    "version": 3
   },
   "file_extension": ".py",
   "mimetype": "text/x-python",
   "name": "python",
   "nbconvert_exporter": "python",
   "pygments_lexer": "ipython3",
   "version": "3.8.3"
  }
 },
 "nbformat": 4,
 "nbformat_minor": 4
}
